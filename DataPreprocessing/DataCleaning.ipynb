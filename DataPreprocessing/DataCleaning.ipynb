{
 "cells": [
  {
   "cell_type": "code",
   "execution_count": 314,
   "id": "3b4267b0",
   "metadata": {
    "pycharm": {
     "name": "#%%\n"
    }
   },
   "outputs": [],
   "source": [
    "import numpy as np\n",
    "import pandas as pd\n",
    "import matplotlib.pyplot as plt\n",
    "import os\n",
    "import re"
   ]
  },
  {
   "cell_type": "markdown",
   "id": "5240afc6",
   "metadata": {
    "pycharm": {
     "name": "#%% md\n"
    }
   },
   "source": [
    "# Data Cleaning"
   ]
  },
  {
   "cell_type": "code",
   "execution_count": 315,
   "id": "006bdde6",
   "metadata": {
    "pycharm": {
     "name": "#%%\n"
    }
   },
   "outputs": [],
   "source": [
    "# raw_data是从原表读到的原始数据\n",
    "raw_data = pd.read_excel(os.path.join(os.getcwd(),'../data/rawdata/car_all_shanghai.xls'))"
   ]
  },
  {
   "cell_type": "code",
   "execution_count": 316,
   "id": "45a5823f",
   "metadata": {
    "pycharm": {
     "name": "#%%\n"
    }
   },
   "outputs": [],
   "source": [
    "raw_data = raw_data.rename(columns={\n",
    "    '标题':'title',\n",
    "    '价格':'price',\n",
    "    '新车价格':'price_new',\n",
    "    '首次上牌':'date_regi',\n",
    "    '表显里程':'mileage', \n",
    "    '官方续航':'official_endurance',\n",
    "    '排放标准':'standard',\n",
    "    '变速箱':'gearbox',\n",
    "    '过户次数':'num_trans',\n",
    "    '车牌地':'license_location',\n",
    "    '车身颜色':'color',\n",
    "    '电动机总功率':'motor_power',\n",
    "    '电池容量':'battery_capacity',\n",
    "    '电池类型':'battery_type',\n",
    "    '能源类型':'energy_type',\n",
    "    '排量':'displacement',\n",
    "    '钥匙数':'keys'\n",
    "    })"
   ]
  },
  {
   "cell_type": "code",
   "execution_count": 317,
   "id": "7e1209e2",
   "metadata": {
    "pycharm": {
     "name": "#%%\n"
    }
   },
   "outputs": [
    {
     "name": "stdout",
     "output_type": "stream",
     "text": [
      "(26169, 17)\n",
      "(26110, 17)\n",
      "空行数量： 57\n",
      "查看每个列空值数量：\n",
      "title                     0\n",
      "price                     0\n",
      "price_new                 0\n",
      "date_regi                 0\n",
      "mileage                   0\n",
      "official_endurance    23490\n",
      "standard                  0\n",
      "gearbox                   0\n",
      "num_trans                 0\n",
      "license_location          0\n",
      "color                     0\n",
      "motor_power           23490\n",
      "battery_capacity      23490\n",
      "battery_type          23490\n",
      "energy_type               0\n",
      "displacement           2620\n",
      "keys                      0\n",
      "dtype: int64\n"
     ]
    }
   ],
   "source": [
    "print(raw_data.shape) # (39216, 17)\n",
    "# 根据title去掉空行\n",
    "not_null_raw_data = raw_data[~(raw_data['title'].isnull())]\n",
    "print(not_null_raw_data.shape) # (39159, 17)\n",
    "print('空行数量：',39216-39159)\n",
    "print('查看每个列空值数量：')\n",
    "print(not_null_raw_data.isnull().sum())"
   ]
  },
  {
   "cell_type": "code",
   "execution_count": 318,
   "outputs": [],
   "source": [
    "# 全部数据清洗\n",
    "clean_data = not_null_raw_data.copy()\n",
    "# title处理\n",
    "clean_data['brand'] = clean_data['title'].str.split(' ',expand=True)[0]"
   ],
   "metadata": {
    "collapsed": false,
    "pycharm": {
     "name": "#%%\n"
    }
   }
  },
  {
   "cell_type": "code",
   "execution_count": 319,
   "outputs": [],
   "source": [
    "# #去掉-\n",
    "# clean_data['brand']=clean_data['brand'].map(lambda x: re.sub(r'[-·]','',x))\n",
    "#\n",
    "# # 手动去掉北京品牌中的多余字\n",
    "# clean_data['brand']=clean_data['brand'].map(\n",
    "#      lambda x: re.sub(r'[级系]+','', x)).map(\n",
    "#      lambda x: re.sub(r'(风光)|(风行)|(风神)|(小康)|(EV)|(新能源)|(黑猫)|(传祺)|(欧尚)|(罗密欧)|(2多功能旅行车)|(2旅行车)|(ID.)|(e:)|(G列)|(大狗)|(初恋)|(EZS纯电动)|(跨越)|(白猫)|(蚂蚁)|(好猫)|(精灵#)|(轻型车)|(原力版)|(神兽)|(赤兔)','', x)).map(\n",
    "#      lambda x: re.sub(r'(启辰大|启辰星)','启辰', x)).map(\n",
    "#      lambda x: re.sub(r'(BEIJING汽车)','北京汽车', x))\n"
   ],
   "metadata": {
    "collapsed": false,
    "pycharm": {
     "name": "#%%\n"
    }
   }
  },
  {
   "cell_type": "code",
   "execution_count": 320,
   "outputs": [],
   "source": [
    "#去掉-\n",
    "clean_data['brand']=clean_data['brand'].map(lambda x: re.sub(r'[-·]','',x))\n",
    "\n",
    "# 手动去掉深圳品牌中的多余字\n",
    "clean_data['brand']=clean_data['brand'].map(\n",
    "     lambda x: re.sub(r'[级系]+','', x)).map(\n",
    "     lambda x: re.sub(r'(风光)|(风行)|(风神)|(小康)|(EV)|(新能源)|(黑猫)|(传祺)|(欧尚)|(罗密欧)|(2多功能旅行车)|(2旅行车)|(ID.)|(e:)|(G列)|(大狗)|(初恋)|(EZS纯电动)|(跨越)|(白猫)|(蚂蚁)|(好猫)|(精灵#)|(轻型车)|(原力版)|(神兽)|(赤兔)|(埃安)|(埃安)|(酷狗)|(风度)|(S5青春版)|(昌河)|(制造)|(ATSL2017款)|(绅宝)|(Macan2018款)|(3星骋)|(ATSL2017款)|(RX经典)|(2018款)|(A5翼舞)|(电马)|(集团)','', x)).map(\n",
    "     lambda x: re.sub(r'(启辰大|启辰星)','启辰', x)).map(\n",
    "     lambda x: re.sub(r'(BEIJING汽车)','北京汽车', x))"
   ],
   "metadata": {
    "collapsed": false,
    "pycharm": {
     "name": "#%%\n"
    }
   }
  },
  {
   "cell_type": "code",
   "execution_count": 321,
   "outputs": [
    {
     "data": {
      "text/plain": "0          荣威\n1         WEY\n2         雪佛兰\n3          日产\n4          奇瑞\n         ... \n26164      丰田\n26165    凯迪拉克\n26166      路虎\n26167      哈弗\n26168    小鹏汽车\nName: brand, Length: 26110, dtype: object"
     },
     "execution_count": 321,
     "metadata": {},
     "output_type": "execute_result"
    }
   ],
   "source": [
    "#去掉字母数字\n",
    "def find_brand(x):\n",
    "    \"\"\"brand\"\"\"\n",
    "    if re.search(r'[\\u4e00-\\u9fff]+', x):\n",
    "        res = re.sub(r'( )*[0-9A-Za-z]+$','',x)\n",
    "    else:\n",
    "        res = x\n",
    "    return res\n",
    "clean_data['brand'] = clean_data['brand'].apply(find_brand)\n",
    "clean_data['brand']"
   ],
   "metadata": {
    "collapsed": false,
    "pycharm": {
     "name": "#%%\n"
    }
   }
  },
  {
   "cell_type": "code",
   "execution_count": 323,
   "outputs": [
    {
     "data": {
      "text/plain": "array(['荣威', 'WEY', '雪佛兰', '日产', '奇瑞', '起亚', '马自达', '吉利汽车', '标致', '本田',\n       '丰田', '别克', '奥迪', '特斯拉', '英菲尼迪', '蔚来', '大众', '宝骏', '长安', '领克',\n       '宝马', '理想汽车', '五菱汽车', 'Jeep', '力帆汽车', 'MINI', '几何汽车', '哪吒汽车', '现代',\n       '奔驰', '小鹏汽车', '凯迪拉克', '广汽', '沃尔沃', '东风', '福特', '哈弗', '斯柯达', '铃木',\n       '比亚迪', '雷诺', '捷豹', '零跑汽车', '启辰', '北汽', '雪铁龙', '路虎', '合众汽车', '阿尔法',\n       '林肯大陆', '新宝骏', '红旗', '林肯', '威马汽车', '江淮', '欧拉', '捷达', 'smart',\n       '北京汽车', '坦克', '上汽', '名爵', '雷克萨斯', '斯巴鲁', '东南', '极氪', '众泰', '保时捷',\n       '玛莎拉蒂', '奔腾', '三菱', '中华', '北京', 'SERES赛力斯', '岚图汽车', '国机智骏', '观致',\n       '飞凡汽车', '腾势', '上汽大通', '猎豹汽车', '菲亚特', '驭胜', '凯翼', '吉利', '宝沃',\n       '星途揽月', '思铭', 'AITO', '道奇', '一汽', '海马', '思皓', '电咖', '星途凌云',\n       'SWM斯威汽车', '理念', '欧宝', '陆风', '天美汽车', '纳智捷', '江铃', '汉腾汽车', '福田',\n       '星途追风', '捷途', 'Polestar', '百智', '凌宝汽车', '全球鹰', '依维柯', '君马汽车', '讴歌',\n       '金杯快运', 'R汽车', '北汽幻速', '路特斯', '华晨新日', '高合汽车', 'ALPINA', '金杯',\n       '云度π', 'DS', '2019款', '知豆', '福特福克斯', '比速汽车', '长城', '合创', 'MG',\n       '朋克汽车', '枫叶汽车', 'LITE', '北汽威旺', '长安凯程', '五十铃', '创维汽车', 'ARCFOX极狐',\n       '大乘汽车', 'GM8', '星途', 'GA5', '野马汽车', '双龙', 'MG3', '大运', '潍柴汽车',\n       '爱驰', '天际汽车', '雷丁芒果', '开瑞', '西雅特', 'HYCAN合创', '华颂', 'GS4', '大众up!',\n       '克莱斯勒', '长安科赛'], dtype=object)"
     },
     "execution_count": 323,
     "metadata": {},
     "output_type": "execute_result"
    }
   ],
   "source": [
    "clean_data['brand'].unique()"
   ],
   "metadata": {
    "collapsed": false,
    "pycharm": {
     "name": "#%%\n"
    }
   }
  },
  {
   "cell_type": "markdown",
   "source": [],
   "metadata": {
    "collapsed": false,
    "pycharm": {
     "name": "#%% md\n"
    }
   }
  },
  {
   "cell_type": "code",
   "execution_count": 324,
   "id": "7ea64d52",
   "metadata": {
    "pycharm": {
     "name": "#%%\n"
    }
   },
   "outputs": [],
   "source": [
    "# 去掉单位\n",
    "clean_data['mileage'] = clean_data['mileage'].str.replace('万公里','').apply(lambda x :float(x.replace('公里',''))/10000 if '公里' in str(x) else x).astype(np.float64)\n",
    "clean_data['official_endurance'] = clean_data['official_endurance'].str.replace('km','').replace('-',np.nan).astype(np.float64)\n",
    "clean_data['num_trans'] = clean_data['num_trans'].str.replace('次','').replace('-',np.nan).astype(np.float64)\n",
    "clean_data['battery_capacity'] = clean_data['battery_capacity'].str.replace('kWh','').replace('-',np.nan).astype(np.float64)\n",
    "clean_data['motor_power'] = clean_data['motor_power'].str.replace('kw','').replace('-',np.nan).astype(np.float64)\n",
    "clean_data['keys'] = clean_data['keys'].str.replace('把','').astype(np.float64)\n",
    "\n",
    "# location 一线城市（北上广深）为1，其他城市为0\n",
    "clean_data['license_location'] = clean_data['license_location'].str.split('[(（]',expand=True)[0]\n",
    "clean_data['license_location'] = clean_data['license_location'].apply(lambda x : 1 if x in ['上海','北京','广州','深圳'] else 0).astype(np.float64)\n",
    "\n",
    "# color 黑色、白色、深灰色、银灰色为0，其他颜色为1\n",
    "clean_data['color'] = clean_data['color'].apply(lambda x : 0 if x in ['白色','黑色','深灰色','银灰色'] else 1).astype(np.float64)\n",
    "\n",
    "# displace：T*1.4变成L，方便分析，排放越大性能越好\n",
    "clean_data['displacement'] = clean_data['displacement'].astype(str).apply(lambda x : float(x.replace('T',''))*1.4 if 'T' in x else float(x.replace('L',''))).astype(np.float64)\n",
    "\n",
    "# 能源类型:汽油0，电动1，混合2\n",
    "energy_type = list(clean_data['energy_type'].dropna().unique())\n",
    "type_num = [2,0,1,2,2,2,2,0,2,2]\n",
    "energy_type_num=dict(zip(energy_type,type_num))\n",
    "clean_data['energy_type'] = clean_data['energy_type'].map(energy_type_num)\n",
    "\n",
    "# 变速箱：手动0，自动1\n",
    "clean_data['gearbox'] = clean_data['gearbox'].apply(lambda x : 1 if str(x)=='自动' else 0)"
   ]
  },
  {
   "cell_type": "code",
   "execution_count": 325,
   "id": "c5c84cd9",
   "metadata": {
    "pycharm": {
     "name": "#%%\n"
    }
   },
   "outputs": [
    {
     "name": "stdout",
     "output_type": "stream",
     "text": [
      "<class 'pandas.core.frame.DataFrame'>\n",
      "Int64Index: 26110 entries, 0 to 26168\n",
      "Data columns (total 18 columns):\n",
      " #   Column              Non-Null Count  Dtype  \n",
      "---  ------              --------------  -----  \n",
      " 0   title               26110 non-null  object \n",
      " 1   price               26110 non-null  float64\n",
      " 2   price_new           26110 non-null  float64\n",
      " 3   date_regi           26110 non-null  object \n",
      " 4   mileage             26110 non-null  float64\n",
      " 5   official_endurance  2619 non-null   float64\n",
      " 6   standard            26110 non-null  object \n",
      " 7   gearbox             26110 non-null  int64  \n",
      " 8   num_trans           26110 non-null  float64\n",
      " 9   license_location    26110 non-null  float64\n",
      " 10  color               26110 non-null  float64\n",
      " 11  motor_power         2619 non-null   float64\n",
      " 12  battery_capacity    2549 non-null   float64\n",
      " 13  battery_type        2620 non-null   object \n",
      " 14  energy_type         26110 non-null  int64  \n",
      " 15  displacement        23490 non-null  float64\n",
      " 16  keys                26110 non-null  float64\n",
      " 17  brand               26110 non-null  object \n",
      "dtypes: float64(11), int64(2), object(5)\n",
      "memory usage: 3.8+ MB\n"
     ]
    }
   ],
   "source": [
    "clean_data.info()"
   ]
  },
  {
   "cell_type": "code",
   "execution_count": 326,
   "id": "47ef5085",
   "metadata": {
    "pycharm": {
     "name": "#%%\n"
    }
   },
   "outputs": [],
   "source": [
    "# 挑出油车\n",
    "petrol = clean_data[clean_data['energy_type']==0]\n",
    "# 删除电车特征\n",
    "petrol_not_null = petrol.drop(['official_endurance','motor_power','battery_capacity','battery_type'],axis=1)"
   ]
  },
  {
   "cell_type": "code",
   "execution_count": 327,
   "id": "86a37fbc",
   "metadata": {
    "pycharm": {
     "name": "#%%\n"
    }
   },
   "outputs": [
    {
     "name": "stderr",
     "output_type": "stream",
     "text": [
      "/var/folders/hv/0r6f95ls1ss09znhzxqsj0nr0000gn/T/ipykernel_68098/2910221480.py:4: SettingWithCopyWarning: \n",
      "A value is trying to be set on a copy of a slice from a DataFrame\n",
      "\n",
      "See the caveats in the documentation: https://pandas.pydata.org/pandas-docs/stable/user_guide/indexing.html#returning-a-view-versus-a-copy\n",
      "  electric['motor_power'].fillna(electric['motor_power'].mean(), inplace=True)\n",
      "/var/folders/hv/0r6f95ls1ss09znhzxqsj0nr0000gn/T/ipykernel_68098/2910221480.py:5: SettingWithCopyWarning: \n",
      "A value is trying to be set on a copy of a slice from a DataFrame\n",
      "\n",
      "See the caveats in the documentation: https://pandas.pydata.org/pandas-docs/stable/user_guide/indexing.html#returning-a-view-versus-a-copy\n",
      "  electric['battery_capacity'].fillna(electric['battery_capacity'].mean(), inplace=True)\n",
      "/var/folders/hv/0r6f95ls1ss09znhzxqsj0nr0000gn/T/ipykernel_68098/2910221480.py:6: SettingWithCopyWarning: \n",
      "A value is trying to be set on a copy of a slice from a DataFrame\n",
      "\n",
      "See the caveats in the documentation: https://pandas.pydata.org/pandas-docs/stable/user_guide/indexing.html#returning-a-view-versus-a-copy\n",
      "  electric['official_endurance'].fillna(electric['official_endurance'].mean(), inplace=True)\n",
      "/var/folders/hv/0r6f95ls1ss09znhzxqsj0nr0000gn/T/ipykernel_68098/2910221480.py:7: SettingWithCopyWarning: \n",
      "A value is trying to be set on a copy of a slice from a DataFrame\n",
      "\n",
      "See the caveats in the documentation: https://pandas.pydata.org/pandas-docs/stable/user_guide/indexing.html#returning-a-view-versus-a-copy\n",
      "  electric['battery_type'].fillna('三元锂电池', inplace=True)\n"
     ]
    }
   ],
   "source": [
    "#挑出电车\n",
    "electric = clean_data[clean_data['energy_type']==1]\n",
    "# 均值motor_power、battery_capacity、official_endurance # 众数battery_type #删除displacement\n",
    "electric['motor_power'].fillna(electric['motor_power'].mean(), inplace=True)\n",
    "electric['battery_capacity'].fillna(electric['battery_capacity'].mean(), inplace=True)\n",
    "electric['official_endurance'].fillna(electric['official_endurance'].mean(), inplace=True)\n",
    "electric['battery_type'].fillna('三元锂电池', inplace=True)\n",
    "electric = electric.drop(['displacement'],axis=1)"
   ]
  },
  {
   "cell_type": "code",
   "execution_count": 328,
   "outputs": [],
   "source": [
    "#挑出混合车\n",
    "mixed = clean_data[clean_data['energy_type']==2]"
   ],
   "metadata": {
    "collapsed": false,
    "pycharm": {
     "name": "#%%\n"
    }
   }
  },
  {
   "cell_type": "code",
   "execution_count": null,
   "outputs": [],
   "source": [
    "#去掉表的第二列\n"
   ],
   "metadata": {
    "collapsed": false,
    "pycharm": {
     "name": "#%%\n"
    }
   }
  },
  {
   "cell_type": "code",
   "execution_count": 329,
   "id": "3b9fac33",
   "metadata": {
    "scrolled": true,
    "pycharm": {
     "name": "#%%\n"
    }
   },
   "outputs": [],
   "source": [
    "# 写文件\n",
    "def write_xlsx(df,path, sheetName):\n",
    "    writer = pd.ExcelWriter(path, engine='openpyxl',mode='a', if_sheet_exists=\"overlay\")\n",
    "    df.to_excel(writer, sheet_name=sheetName)\n",
    "    writer.close()"
   ]
  },
  {
   "cell_type": "code",
   "execution_count": 330,
   "id": "aa991224",
   "metadata": {
    "pycharm": {
     "name": "#%%\n"
    }
   },
   "outputs": [],
   "source": [
    "# 写入同一个文件三张表\n",
    "path = '../data/cleaneddata/cleaned_car_all_shanghai.xlsx'\n",
    "pd.DataFrame().to_excel(path,sheet_name='total') # 先创建文件\n",
    "write_xlsx(petrol,path,'petrol')\n",
    "write_xlsx(electric, path,'electric')\n",
    "write_xlsx(mixed,path,'mixed')\n",
    "write_xlsx(clean_data, path,'total')"
   ]
  },
  {
   "cell_type": "code",
   "execution_count": null,
   "outputs": [],
   "source": [],
   "metadata": {
    "collapsed": false,
    "pycharm": {
     "name": "#%%\n",
     "is_executing": true
    }
   }
  }
 ],
 "metadata": {
  "kernelspec": {
   "display_name": "Python 3 (ipykernel)",
   "language": "python",
   "name": "python3"
  },
  "language_info": {
   "codemirror_mode": {
    "name": "ipython",
    "version": 3
   },
   "file_extension": ".py",
   "mimetype": "text/x-python",
   "name": "python",
   "nbconvert_exporter": "python",
   "pygments_lexer": "ipython3",
   "version": "3.10.6"
  },
  "toc": {
   "base_numbering": 1,
   "nav_menu": {},
   "number_sections": true,
   "sideBar": true,
   "skip_h1_title": false,
   "title_cell": "Table of Contents",
   "title_sidebar": "Contents",
   "toc_cell": false,
   "toc_position": {},
   "toc_section_display": true,
   "toc_window_display": false
  },
  "vp": {
   "vp_config_version": "1.0.0",
   "vp_menu_width": 273,
   "vp_note_display": false,
   "vp_note_width": 0,
   "vp_position": {
    "width": 278
   },
   "vp_section_display": false,
   "vp_signature": "VisualPython"
  }
 },
 "nbformat": 4,
 "nbformat_minor": 5
}