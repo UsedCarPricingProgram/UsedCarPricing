{
 "cells": [
  {
   "cell_type": "code",
   "execution_count": 5,
   "id": "3b4267b0",
   "metadata": {
    "pycharm": {
     "name": "#%%\n"
    }
   },
   "outputs": [],
   "source": [
    "import numpy as np\n",
    "import pandas as pd\n",
    "import matplotlib.pyplot as plt\n",
    "import os\n",
    "import re\n",
    "from bs4 import BeautifulSoup as bs"
   ]
  },
  {
   "attachments": {},
   "cell_type": "markdown",
   "metadata": {
    "collapsed": false,
    "pycharm": {
     "name": "#%% md\n"
    }
   },
   "source": [
    "# Data processing"
   ]
  },
  {
   "attachments": {},
   "cell_type": "markdown",
   "id": "361155c2",
   "metadata": {},
   "source": [
    "excel读取"
   ]
  },
  {
   "cell_type": "code",
   "execution_count": 61,
   "id": "006bdde6",
   "metadata": {
    "pycharm": {
     "name": "#%%\n"
    }
   },
   "outputs": [],
   "source": [
    "# raw_data是从原表读到的原始数据\n",
    "file = pd.read_excel(os.path.join(os.getcwd(),'../data/rawdata/car_all_shenzhen.xls'))"
   ]
  },
  {
   "cell_type": "code",
   "execution_count": null,
   "id": "50c1e8cf",
   "metadata": {
    "collapsed": false,
    "pycharm": {
     "name": "#%%\n"
    }
   },
   "outputs": [],
   "source": [
    "# 写文件\n",
    "def write_xlsx(df,path, sheetName):\n",
    "    writer = pd.ExcelWriter(path, engine='openpyxl',mode='a', if_sheet_exists=\"overlay\")\n",
    "    df.to_excel(writer, sheet_name=sheetName)\n",
    "    writer.close()\n",
    "\n",
    "# 写入同一个文件三张表\n",
    "path = '../data/cleaneddata/cleaned_car_v1.xlsx'\n",
    "pd.DataFrame().to_excel(path,sheet_name='total') # 先创建文件\n",
    "write_xlsx(df_p,path,'petrol')\n",
    "write_xlsx(df_e, path,'electric')\n",
    "write_xlsx(df_m,path,'mixed')"
   ]
  },
  {
   "attachments": {},
   "cell_type": "markdown",
   "id": "e04567d7",
   "metadata": {},
   "source": [
    "txt读取\n"
   ]
  },
  {
   "cell_type": "code",
   "execution_count": null,
   "id": "08a6baf1",
   "metadata": {},
   "outputs": [],
   "source": [
    "f = open('pi_digits.txt', 'r')"
   ]
  },
  {
   "cell_type": "code",
   "execution_count": null,
   "id": "b5587298",
   "metadata": {},
   "outputs": [],
   "source": [
    "content = f.read()"
   ]
  },
  {
   "cell_type": "code",
   "execution_count": null,
   "id": "95f0f2c9",
   "metadata": {},
   "outputs": [],
   "source": [
    "print(content)"
   ]
  },
  {
   "cell_type": "code",
   "execution_count": null,
   "id": "dd886271",
   "metadata": {},
   "outputs": [],
   "source": [
    "# write_message.py\n",
    "filename = 'programming.txt'\n",
    "with open(filename, 'w') as file_object:\n",
    "    file_object.write(\"I love Python.\\n\")"
   ]
  },
  {
   "attachments": {},
   "cell_type": "markdown",
   "id": "b257d8e4",
   "metadata": {},
   "source": [
    "#numpy"
   ]
  },
  {
   "cell_type": "code",
   "execution_count": null,
   "id": "21ede03d",
   "metadata": {},
   "outputs": [],
   "source": []
  },
  {
   "cell_type": "markdown",
   "id": "3bfd265e",
   "metadata": {},
   "source": []
  },
  {
   "cell_type": "markdown",
   "id": "e67d25e1",
   "metadata": {},
   "source": []
  },
  {
   "attachments": {},
   "cell_type": "markdown",
   "id": "4bd1f07b",
   "metadata": {},
   "source": []
  },
  {
   "cell_type": "markdown",
   "id": "dfae8998",
   "metadata": {},
   "source": []
  },
  {
   "cell_type": "code",
   "execution_count": null,
   "id": "dfaa079d",
   "metadata": {},
   "outputs": [],
   "source": []
  }
 ],
 "metadata": {
  "kernelspec": {
   "display_name": "base",
   "language": "python",
   "name": "python3"
  },
  "language_info": {
   "codemirror_mode": {
    "name": "ipython",
    "version": 3
   },
   "file_extension": ".py",
   "mimetype": "text/x-python",
   "name": "python",
   "nbconvert_exporter": "python",
   "pygments_lexer": "ipython3",
   "version": "3.8.13"
  },
  "toc": {
   "base_numbering": 1,
   "nav_menu": {},
   "number_sections": true,
   "sideBar": true,
   "skip_h1_title": false,
   "title_cell": "Table of Contents",
   "title_sidebar": "Contents",
   "toc_cell": false,
   "toc_position": {},
   "toc_section_display": true,
   "toc_window_display": false
  },
  "vp": {
   "vp_config_version": "1.0.0",
   "vp_menu_width": 273,
   "vp_note_display": false,
   "vp_note_width": 0,
   "vp_position": {
    "width": 278
   },
   "vp_section_display": false,
   "vp_signature": "VisualPython"
  },
  "vscode": {
   "interpreter": {
    "hash": "cf1ee66cb0a5dbbe9b15b35d8b5ef163dfe6de55254de5ac3d70cf481ad0a057"
   }
  }
 },
 "nbformat": 4,
 "nbformat_minor": 5
}
