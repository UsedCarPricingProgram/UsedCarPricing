{
 "cells": [
  {
   "cell_type": "code",
   "execution_count": 435,
   "id": "3b4267b0",
   "metadata": {
    "pycharm": {
     "name": "#%%\n"
    }
   },
   "outputs": [],
   "source": [
    "import numpy as np\n",
    "import pandas as pd\n",
    "import matplotlib.pyplot as plt\n",
    "import os\n",
    "import re"
   ]
  },
  {
   "cell_type": "markdown",
   "id": "5240afc6",
   "metadata": {
    "pycharm": {
     "name": "#%% md\n"
    }
   },
   "source": [
    "# Data Cleaning"
   ]
  },
  {
   "cell_type": "markdown",
   "source": [],
   "metadata": {
    "collapsed": false,
    "pycharm": {
     "name": "#%% md\n"
    }
   }
  },
  {
   "cell_type": "code",
   "execution_count": 436,
   "id": "006bdde6",
   "metadata": {
    "pycharm": {
     "name": "#%%\n"
    }
   },
   "outputs": [],
   "source": [
    "# raw_data是从原表读到的原始数据\n",
    "raw_data = pd.read_excel(os.path.join(os.getcwd(),'../data/rawdata/car_all_beijing.xls'))"
   ]
  },
  {
   "cell_type": "code",
   "execution_count": 437,
   "id": "45a5823f",
   "metadata": {
    "pycharm": {
     "name": "#%%\n"
    }
   },
   "outputs": [],
   "source": [
    "raw_data = raw_data.rename(columns={\n",
    "    '标题':'title',\n",
    "    '价格':'price',\n",
    "    '新车价格':'price_new',\n",
    "    '首次上牌':'date_regi',\n",
    "    '表显里程':'mileage', \n",
    "    '官方续航':'official_endurance',\n",
    "    '排放标准':'standard',\n",
    "    '变速箱':'gearbox',\n",
    "    '过户次数':'num_trans',\n",
    "    '车牌地':'license_location',\n",
    "    '车身颜色':'color',\n",
    "    '电动机总功率':'motor_power',\n",
    "    '电池容量':'battery_capacity',\n",
    "    '电池类型':'battery_type',\n",
    "    '能源类型':'energy_type',\n",
    "    '排量':'displacement',\n",
    "    '钥匙数':'keys'\n",
    "    })"
   ]
  },
  {
   "cell_type": "code",
   "execution_count": 438,
   "id": "7e1209e2",
   "metadata": {
    "pycharm": {
     "name": "#%%\n"
    }
   },
   "outputs": [
    {
     "name": "stdout",
     "output_type": "stream",
     "text": [
      "(19361, 17)\n",
      "(19300, 17)\n",
      "空行数量： 57\n",
      "查看每个列空值数量：\n",
      "title                     0\n",
      "price                     0\n",
      "price_new                 0\n",
      "date_regi                 0\n",
      "mileage                   0\n",
      "official_endurance    14296\n",
      "standard                  0\n",
      "gearbox                   0\n",
      "num_trans                 0\n",
      "license_location          0\n",
      "color                     0\n",
      "motor_power           14296\n",
      "battery_capacity      14296\n",
      "battery_type          14296\n",
      "energy_type               0\n",
      "displacement           5004\n",
      "keys                      0\n",
      "dtype: int64\n"
     ]
    }
   ],
   "source": [
    "print(raw_data.shape) # (39216, 17)\n",
    "# 根据title去掉空行\n",
    "not_null_raw_data = raw_data[~(raw_data['title'].isnull())]\n",
    "print(not_null_raw_data.shape) # (39159, 17)\n",
    "print('空行数量：',39216-39159)\n",
    "print('查看每个列空值数量：')\n",
    "print(not_null_raw_data.isnull().sum())"
   ]
  },
  {
   "cell_type": "code",
   "execution_count": 439,
   "outputs": [],
   "source": [
    "# 全部数据清洗\n",
    "clean_data = not_null_raw_data.copy()\n",
    "# title处理\n",
    "clean_data['brand'] = clean_data['title'].str.split(' ',expand=True)[0]"
   ],
   "metadata": {
    "collapsed": false,
    "pycharm": {
     "name": "#%%\n"
    }
   }
  },
  {
   "cell_type": "code",
   "execution_count": 440,
   "outputs": [],
   "source": [
    "#去掉-\n",
    "clean_data['brand']=clean_data['brand'].map(lambda x: re.sub(r'[-·]','',x))"
   ],
   "metadata": {
    "collapsed": false,
    "pycharm": {
     "name": "#%%\n"
    }
   }
  },
  {
   "cell_type": "code",
   "execution_count": 441,
   "outputs": [
    {
     "data": {
      "text/plain": "0          荣威\n1        理想汽车\n2          丰田\n3          宝骏\n4        零跑汽车\n         ... \n19356    北京汽车\n19357      哈弗\n19358    雷克萨斯\n19359    凯迪拉克\n19360    小鹏汽车\nName: brand, Length: 19300, dtype: object"
     },
     "execution_count": 441,
     "metadata": {},
     "output_type": "execute_result"
    }
   ],
   "source": [
    "#去掉字母数字\n",
    "def find_brand(x):\n",
    "    \"\"\"brand\"\"\"\n",
    "    if re.search(r'[\\u4e00-\\u9fff]+', x):\n",
    "        res = re.sub(r'( )*[0-9A-Za-z]+$','',x)\n",
    "    else:\n",
    "        res = x\n",
    "    return res\n",
    "clean_data['brand'] = clean_data['brand'].apply(find_brand)\n",
    "clean_data['brand']"
   ],
   "metadata": {
    "collapsed": false,
    "pycharm": {
     "name": "#%%\n"
    }
   }
  },
  {
   "cell_type": "code",
   "execution_count": 442,
   "outputs": [
    {
     "data": {
      "text/plain": "0"
     },
     "execution_count": 442,
     "metadata": {},
     "output_type": "execute_result"
    }
   ],
   "source": [
    "clean_data['brand'].isnull().sum()"
   ],
   "metadata": {
    "collapsed": false,
    "pycharm": {
     "name": "#%%\n"
    }
   }
  },
  {
   "cell_type": "code",
   "execution_count": 443,
   "outputs": [
    {
     "data": {
      "text/plain": "array(['荣威', '理想汽车', '丰田', '宝骏', '零跑汽车', '威马汽车', '别克', '现代', '日产', '大众',\n       '起亚', '奇瑞', '特斯拉', '本田', '北京', '沃尔沃', 'WEY', '吉利汽车', '奔驰C级',\n       '奔驰GLC级', '广汽传祺', '长安', 'MINI', '马自达', '上汽大通', '蔚来', '雷克萨斯', '比亚迪',\n       '宝马', '捷达', '北汽新能源', '欧拉黑猫', '哪吒汽车', '领克', '新宝骏', 'Jeep', '五菱汽车',\n       '凯迪拉克', '宝马3系', '几何汽车', '哈弗大狗', '奥迪', '广汽埃安', '长安欧尚', '理念', '路虎',\n       '斯柯达', '小鹏汽车', '哈弗', '思皓', '红旗', '奔驰E级', '宝马5系', '保时捷', '捷豹',\n       '东风风行', '名爵', '福特', '东风风神', '奔驰A级', '欧拉好猫', '林肯', '长城', '雪佛兰',\n       '合众汽车', '哈弗神兽', '奔腾', '林肯大陆', '宝马1系', '玛莎拉蒂', '云度π', '本田e:',\n       '英菲尼迪G系列', '腾势', '江淮', '星途凌云', '东风风光', '启辰', '三菱', '大众ID.',\n       '奔驰CLA级', '哈弗初恋', '国机智骏', '岚图汽车', '宝马7系', '上汽', '思铭', '众泰',\n       '本田CRV新能源', '启辰大', '奇瑞新能源', '雷克萨斯UX新能源', '奇瑞蚂蚁', '北京汽车', '坦克',\n       '长安跨越', '长安新能源', '广汽新能源', '高合汽车', '奔驰GLA级', '奔驰V级', '宝马2系', '飞凡汽车',\n       '极氪', '欧拉白猫', '知豆', '奔驰GLE级', '观致', '凌宝汽车', '启辰星', '宝马5系新能源',\n       '斯巴鲁', 'AITO', '天际汽车', '众泰T300新能源', '宝马2系多功能旅行车', '雪铁龙', '宝马6系',\n       '奔驰', '标致', '奔腾X40新能源', '保时捷Panamera新能源', '宝马4系', '广汽集团',\n       'ARCFOX极狐', '凯翼', '奔驰CLS级', '江铃集团新能源', '星途追风', '沃尔沃S90新能源', '英菲尼迪',\n       'SERES赛力斯', '奔驰S级', '哈弗赤兔', '东风小康', '奔驰GLE新能源', '奔驰E级新能源', '海马',\n       '奔驰B级', '创维汽车', '全球鹰', 'R汽车', '捷途', '沃尔沃S60新能源', '百智新能源', '雷丁芒果',\n       '合创', '宝沃', '北汽昌河', '五十铃', '东风', '宝马X1新能源', '长安UNIK新能源', '福田',\n       '金杯', '讴歌', 'LITE原力版', 'Polestar', '新特汽车', '雷诺', '奔驰GLK级',\n       'SWM斯威汽车', '东南DX3新能源', '枫叶汽车', 'BEIJING汽车', '金杯海狮王', '长安轻型车',\n       '名爵HS新能源', '猎豹汽车', '电咖', 'smart', 'HYCAN合创', '奔驰R级', '沃尔沃XC60新能源',\n       '野马汽车', '克莱斯勒', '名爵EZS纯电动', '天美汽车', '朋克汽车', '领克06新能源', '北汽制造',\n       '大运', '领克09新能源', '华晨新日', '东风EV新能源', '欧拉', '电动屋', '奥迪A6L新能源',\n       '星途揽月', '宝马2系旅行车', '东风新能源', '东南', '长安凯程', '领克05新能源', 'DS',\n       '名爵6新能源', 'smart精灵#', '长城C30新能源', '吉利', '海马爱尚', '福特电马', '汉腾汽车',\n       '中华', '潍柴汽车', '长安欧尚科赛', '路特斯', '华泰新能源', '领克01新能源'], dtype=object)"
     },
     "execution_count": 443,
     "metadata": {},
     "output_type": "execute_result"
    }
   ],
   "source": [
    "clean_data['brand'].unique()"
   ],
   "metadata": {
    "collapsed": false,
    "pycharm": {
     "name": "#%%\n"
    }
   }
  },
  {
   "cell_type": "code",
   "execution_count": 444,
   "outputs": [],
   "source": [
    "#去掉-\n",
    "clean_data['brand']=clean_data['brand'].map(lambda x: re.sub(r'[-·]','',x))\n",
    "\n",
    "# 手动去掉北京品牌中的多余字\n",
    "clean_data['brand']=clean_data['brand'].map(\n",
    "     lambda x: re.sub(r'[级系]+','', x)).map(\n",
    "     lambda x: re.sub(r'(风光)|(风行)|(风神)|(小康)|(EV)|(新能源)|(黑猫)|(传祺)|(欧尚)|(罗密欧)|(2多功能旅行车)|(2旅行车)|(ID.)|(e:)|(G列)|(大狗)|(初恋)|(EZS纯电动)|(跨越)|(白猫)|(蚂蚁)|(好猫)|(精灵#)|(轻型车)|(原力版)|(神兽)|(赤兔)|(CRV)|(UX)|(T300)|(Panamera)|(S90)|(UNIK)|(DX3)|(HS)|(XC60)|(A6L)|(X40)|(C30)','', x)).map(\n",
    "     lambda x: re.sub(r'(启辰大|启辰星)','启辰', x)).map(\n",
    "     lambda x: re.sub(r'(BEIJING汽车)','北京汽车', x)).map(\n",
    "     lambda x: re.sub(r'(奔驰E)|(奔驰B)|(奔驰S)|(奔驰GLA)|(奔驰A)|(奔驰V)|(奔驰GLS)|(奔驰SLK)|(奔驰CLA)|(奔驰GLE)|(奔驰GLC)|(奔驰GLK)|(奔驰CLS)|(奔驰LC)|(奔驰R)|(奔驰C)','奔驰', x)).map(\n",
    "      lambda x: re.sub(r'(领克01)|(领克06)|(领克05)|(领克09)','领克', x)).map(\n",
    "      lambda x: re.sub(r'(宝马5)|(宝马2)|(宝马1)|(宝马X1新能源)|(宝马4)|(宝马X5)|(宝马7)|(宝马6)|(宝马3)|(宝马X1)','宝马', x))\n"
   ],
   "metadata": {
    "collapsed": false,
    "pycharm": {
     "name": "#%%\n"
    }
   }
  },
  {
   "cell_type": "code",
   "execution_count": 445,
   "outputs": [],
   "source": [
    "#去掉-\n",
    "clean_data['brand']=clean_data['brand'].map(lambda x: re.sub(r'[-·]','',x))\n",
    "\n",
    "# 手动去掉深圳品牌中的多余字\n",
    "clean_data['brand']=clean_data['brand'].map(\n",
    "     lambda x: re.sub(r'[级系]+','', x)).map(\n",
    "     lambda x: re.sub(r'(风光)|(风行)|(风神)|(小康)|(EV)|(新能源)|(黑猫)|(传祺)|(欧尚)|(罗密欧)|(2多功能旅行车)|(2旅行车)|(ID.)|(e:)|(G列)|(大狗)|(初恋)|(EZS纯电动)|(跨越)|(白猫)|(蚂蚁)|(好猫)|(精灵#)|(轻型车)|(原力版)|(神兽)|(赤兔)|(埃安)|(埃安)|(酷狗)|(风度)|(S5青春版)|(昌河)|(制造)|(ATSL2017款)|(绅宝)|(Macan2018款)|(3星骋)|(ATSL2017款)|(RX经典)|(2018款)|(A5翼舞)|(电马)|(集团)','', x)).map(\n",
    "     lambda x: re.sub(r'(启辰大|启辰星)','启辰', x)).map(\n",
    "     lambda x: re.sub(r'(BEIJING汽车)','北京汽车', x)).map(\n",
    "     lambda x: re.sub(r'(名爵6)','名爵', x))\n"
   ],
   "metadata": {
    "collapsed": false,
    "pycharm": {
     "name": "#%%\n"
    }
   }
  },
  {
   "cell_type": "code",
   "execution_count": 446,
   "outputs": [],
   "source": [
    "\n",
    "# 手动去掉shanghai品牌中的多余字\n",
    "clean_data['brand']=clean_data['brand'].map(\n",
    "     lambda x: re.sub(r'[级系]+','', x)).map(\n",
    "     lambda x: re.sub(r'(风光)|(风行)|(风神)|(小康)|(新能源)|(黑猫)|(传祺)|(欧尚)|(罗密欧)|(2多功能旅行车)|(2旅行车)|(ID.)|(e:)|(G列)|(大狗)|(初恋)|(EZS纯电动)|(跨越)|(白猫)|(蚂蚁)|(好猫)|(精灵#)|(轻型车)|(原力版)|(神兽)|(赤兔)|(埃安)|(埃安)|(酷狗)|(风度)|(S5青春版)|(昌河)|(制造)|(福克斯2018款)|(CT6)|(S60)|(CRV)|(UNIK)|(A6L)|(UX)|(3星骋)|(T300)|(up!)|(S0)|(CT)','', x)).map(\n",
    "     lambda x: re.sub(r'(启辰大|启辰星)','启辰', x)).map(\n",
    "     lambda x: re.sub(r'(BEIJING汽车)','北京汽车', x)).map(\n",
    "     lambda x: re.sub(r'(宝马5)|(宝马1)|(宝马X1新能源)|(宝马4)|(宝马X5)|(宝马7)|(宝马6)|(宝马3)|(宝马X1)','宝马', x)).map(\n",
    "     lambda x: re.sub(r'(奔驰E)|(奔驰B)|(奔驰S)|(奔驰GLA)|(奔驰A)|(奔驰V)|(奔驰GLS)|(奔驰SLK)|(奔驰CLA)|(奔驰GLE)|(奔驰GLC)|(奔驰GLK)|(奔驰CLS)|(奔驰LC)|(奔驰R)|(奔驰C)|(奔驰M)|(奔驰LK)','奔驰', x)).map(\n",
    "     lambda x: re.sub(r'(领克01)|(领克06)|(领克05)|(领克03)|(领克0)','领克', x)).map(\n",
    "     lambda x: re.sub(r'(沃尔沃L)','沃尔沃', x))\n",
    "\n"
   ],
   "metadata": {
    "collapsed": false,
    "pycharm": {
     "name": "#%%\n"
    }
   }
  },
  {
   "cell_type": "code",
   "execution_count": 448,
   "outputs": [
    {
     "data": {
      "text/plain": "array(['荣威', '理想汽车', '丰田', '宝骏', '零跑汽车', '威马汽车', '别克', '现代', '日产', '大众',\n       '起亚', '奇瑞', '特斯拉', '本田', '北京', '沃尔沃', 'WEY', '吉利汽车', '奔驰', '广汽',\n       '长安', 'MINI', '马自达', '上汽大通', '蔚来', '雷克萨斯', '比亚迪', '宝马', '捷达', '北汽',\n       '欧拉', '哪吒汽车', '领克', '新宝骏', 'Jeep', '五菱汽车', '凯迪拉克', '几何汽车', '哈弗',\n       '奥迪', '理念', '路虎', '斯柯达', '小鹏汽车', '思皓', '红旗', '保时捷', '捷豹', '东风',\n       '名爵', '福特', '林肯', '长城', '雪佛兰', '合众汽车', '奔腾', '林肯大陆', '玛莎拉蒂', '云度π',\n       '英菲尼迪', '腾势', '江淮', '星途凌云', '启辰', '三菱', '国机智骏', '岚图汽车', '上汽', '思铭',\n       '众泰', '北京汽车', '坦克', '高合汽车', '飞凡汽车', '极氪', '知豆', '观致', '凌宝汽车',\n       '斯巴鲁', 'AITO', '天际汽车', '雪铁龙', '标致', 'ARCFOX极狐', '凯翼', '江铃', '星途追风',\n       'SERES赛力斯', '海马', '创维汽车', '全球鹰', 'R汽车', '捷途', '百智', '雷丁芒果', '合创',\n       '宝沃', '五十铃', '福田', '金杯', '讴歌', 'LITE', 'Polestar', '新特汽车', '雷诺',\n       'SWM斯威汽车', '东南', '枫叶汽车', '金杯海狮王', '猎豹汽车', '电咖', 'smart', 'HYCAN合创',\n       '野马汽车', '克莱斯勒', '天美汽车', '朋克汽车', '大运', '华晨新日', '电动屋', '星途揽月',\n       '长安凯程', 'DS', '吉利', '海马爱尚', '汉腾汽车', '中华', '潍柴汽车', '长安科赛', '路特斯',\n       '华泰'], dtype=object)"
     },
     "execution_count": 448,
     "metadata": {},
     "output_type": "execute_result"
    }
   ],
   "source": [
    "clean_data['brand'].unique()"
   ],
   "metadata": {
    "collapsed": false,
    "pycharm": {
     "name": "#%%\n"
    }
   }
  },
  {
   "cell_type": "code",
   "execution_count": 449,
   "outputs": [
    {
     "data": {
      "text/plain": "0"
     },
     "execution_count": 449,
     "metadata": {},
     "output_type": "execute_result"
    }
   ],
   "source": [
    "clean_data['brand'].isnull().sum()"
   ],
   "metadata": {
    "collapsed": false,
    "pycharm": {
     "name": "#%%\n"
    }
   }
  },
  {
   "cell_type": "code",
   "execution_count": 450,
   "id": "7ea64d52",
   "metadata": {
    "pycharm": {
     "name": "#%%\n"
    }
   },
   "outputs": [],
   "source": [
    "# 去掉单位\n",
    "clean_data['mileage'] = clean_data['mileage'].str.replace('万公里','').apply(lambda x :float(x.replace('公里',''))/10000 if '公里' in str(x) else x).astype(np.float64)\n",
    "clean_data['official_endurance'] = clean_data['official_endurance'].str.replace('km','').replace('-',np.nan).astype(np.float64)\n",
    "clean_data['num_trans'] = clean_data['num_trans'].str.replace('次','').replace('-',np.nan).astype(np.float64)\n",
    "clean_data['battery_capacity'] = clean_data['battery_capacity'].str.replace('kWh','').replace('-',np.nan).astype(np.float64)\n",
    "clean_data['motor_power'] = clean_data['motor_power'].str.replace('kw','').replace('-',np.nan).astype(np.float64)\n",
    "clean_data['keys'] = clean_data['keys'].str.replace('把','').astype(np.float64)\n",
    "\n",
    "# location 一线城市（北上广深）为1，其他城市为0\n",
    "clean_data['license_location'] = clean_data['license_location'].str.split('[(（]',expand=True)[0]\n",
    "clean_data['license_location'] = clean_data['license_location'].apply(lambda x : 1 if x in ['上海','北京','广州','深圳'] else 0).astype(np.float64)\n",
    "\n",
    "# color 黑色、白色、深灰色、银灰色为0，其他颜色为1\n",
    "clean_data['color'] = clean_data['color'].apply(lambda x : 0 if x in ['白色','黑色','深灰色','银灰色'] else 1).astype(np.float64)\n",
    "\n",
    "# displace：T*1.4变成L，方便分析，排放越大性能越好\n",
    "clean_data['displacement'] = clean_data['displacement'].astype(str).apply(lambda x : float(x.replace('T',''))*1.4 if 'T' in x else float(x.replace('L',''))).astype(np.float64)\n"
   ]
  },
  {
   "cell_type": "code",
   "execution_count": 451,
   "outputs": [
    {
     "data": {
      "text/plain": "['汽油',\n '增程式',\n '纯电动',\n '汽油+48V轻混系统',\n '插电式混合动力',\n '油电混合',\n '柴油',\n '汽油电驱',\n '汽油+24V轻混系统']"
     },
     "execution_count": 451,
     "metadata": {},
     "output_type": "execute_result"
    }
   ],
   "source": [
    "energy_type = list(clean_data['energy_type'].dropna().unique())\n",
    "energy_type"
   ],
   "metadata": {
    "collapsed": false,
    "pycharm": {
     "name": "#%%\n"
    }
   }
  },
  {
   "cell_type": "code",
   "execution_count": 452,
   "outputs": [],
   "source": [
    "# 能源类型:汽油0，电动1，混合2\n",
    "energy_type = list(clean_data['energy_type'].dropna().unique())\n",
    "# 北京\n",
    "type_num = [0,2,1,2,2,2,2,0,2,2]\n",
    "\n",
    "#深圳\n",
    "# type_num = [2,0,1,2,2,2,2,0,2,2]\n",
    "\n",
    "#上海\n",
    "# type_num = [2,0,1,2,2,2,2,0,2]\n",
    "energy_type_num=dict(zip(energy_type,type_num))\n",
    "clean_data['energy_type'] = clean_data['energy_type'].map(energy_type_num)\n",
    "\n",
    "# 变速箱：手动0，自动1\n",
    "clean_data['gearbox'] = clean_data['gearbox'].apply(lambda x : 1 if str(x)=='自动' else 0)"
   ],
   "metadata": {
    "collapsed": false,
    "pycharm": {
     "name": "#%%\n"
    }
   }
  },
  {
   "cell_type": "code",
   "execution_count": 453,
   "id": "c5c84cd9",
   "metadata": {
    "pycharm": {
     "name": "#%%\n"
    }
   },
   "outputs": [
    {
     "name": "stdout",
     "output_type": "stream",
     "text": [
      "<class 'pandas.core.frame.DataFrame'>\n",
      "Int64Index: 19300 entries, 0 to 19360\n",
      "Data columns (total 18 columns):\n",
      " #   Column              Non-Null Count  Dtype  \n",
      "---  ------              --------------  -----  \n",
      " 0   title               19300 non-null  object \n",
      " 1   price               19300 non-null  float64\n",
      " 2   price_new           19300 non-null  float64\n",
      " 3   date_regi           19300 non-null  object \n",
      " 4   mileage             19300 non-null  float64\n",
      " 5   official_endurance  4998 non-null   float64\n",
      " 6   standard            19300 non-null  object \n",
      " 7   gearbox             19300 non-null  int64  \n",
      " 8   num_trans           19300 non-null  float64\n",
      " 9   license_location    19300 non-null  float64\n",
      " 10  color               19300 non-null  float64\n",
      " 11  motor_power         5003 non-null   float64\n",
      " 12  battery_capacity    4849 non-null   float64\n",
      " 13  battery_type        5004 non-null   object \n",
      " 14  energy_type         19300 non-null  int64  \n",
      " 15  displacement        14296 non-null  float64\n",
      " 16  keys                19300 non-null  float64\n",
      " 17  brand               19300 non-null  object \n",
      "dtypes: float64(11), int64(2), object(5)\n",
      "memory usage: 2.8+ MB\n"
     ]
    }
   ],
   "source": [
    "clean_data.info()"
   ]
  },
  {
   "cell_type": "code",
   "execution_count": 454,
   "id": "47ef5085",
   "metadata": {
    "pycharm": {
     "name": "#%%\n"
    }
   },
   "outputs": [],
   "source": [
    "# 挑出油车\n",
    "petrol = clean_data[clean_data['energy_type']==0]\n",
    "# 删除电车特征\n",
    "petrol = petrol.drop(['official_endurance','motor_power','battery_capacity','battery_type'],axis=1)"
   ]
  },
  {
   "cell_type": "code",
   "execution_count": 455,
   "id": "86a37fbc",
   "metadata": {
    "pycharm": {
     "name": "#%%\n"
    }
   },
   "outputs": [
    {
     "name": "stderr",
     "output_type": "stream",
     "text": [
      "/var/folders/hv/0r6f95ls1ss09znhzxqsj0nr0000gn/T/ipykernel_73808/2910221480.py:4: SettingWithCopyWarning: \n",
      "A value is trying to be set on a copy of a slice from a DataFrame\n",
      "\n",
      "See the caveats in the documentation: https://pandas.pydata.org/pandas-docs/stable/user_guide/indexing.html#returning-a-view-versus-a-copy\n",
      "  electric['motor_power'].fillna(electric['motor_power'].mean(), inplace=True)\n",
      "/var/folders/hv/0r6f95ls1ss09znhzxqsj0nr0000gn/T/ipykernel_73808/2910221480.py:5: SettingWithCopyWarning: \n",
      "A value is trying to be set on a copy of a slice from a DataFrame\n",
      "\n",
      "See the caveats in the documentation: https://pandas.pydata.org/pandas-docs/stable/user_guide/indexing.html#returning-a-view-versus-a-copy\n",
      "  electric['battery_capacity'].fillna(electric['battery_capacity'].mean(), inplace=True)\n",
      "/var/folders/hv/0r6f95ls1ss09znhzxqsj0nr0000gn/T/ipykernel_73808/2910221480.py:6: SettingWithCopyWarning: \n",
      "A value is trying to be set on a copy of a slice from a DataFrame\n",
      "\n",
      "See the caveats in the documentation: https://pandas.pydata.org/pandas-docs/stable/user_guide/indexing.html#returning-a-view-versus-a-copy\n",
      "  electric['official_endurance'].fillna(electric['official_endurance'].mean(), inplace=True)\n",
      "/var/folders/hv/0r6f95ls1ss09znhzxqsj0nr0000gn/T/ipykernel_73808/2910221480.py:7: SettingWithCopyWarning: \n",
      "A value is trying to be set on a copy of a slice from a DataFrame\n",
      "\n",
      "See the caveats in the documentation: https://pandas.pydata.org/pandas-docs/stable/user_guide/indexing.html#returning-a-view-versus-a-copy\n",
      "  electric['battery_type'].fillna('三元锂电池', inplace=True)\n"
     ]
    }
   ],
   "source": [
    "#挑出电车\n",
    "electric = clean_data[clean_data['energy_type']==1]\n",
    "# 均值motor_power、battery_capacity、official_endurance # 众数battery_type #删除displacement\n",
    "electric['motor_power'].fillna(electric['motor_power'].mean(), inplace=True)\n",
    "electric['battery_capacity'].fillna(electric['battery_capacity'].mean(), inplace=True)\n",
    "electric['official_endurance'].fillna(electric['official_endurance'].mean(), inplace=True)\n",
    "electric['battery_type'].fillna('三元锂电池', inplace=True)\n",
    "electric = electric.drop(['displacement'],axis=1)"
   ]
  },
  {
   "cell_type": "code",
   "execution_count": 456,
   "outputs": [],
   "source": [
    "#挑出混合车\n",
    "mixed = clean_data[clean_data['energy_type']==2]"
   ],
   "metadata": {
    "collapsed": false,
    "pycharm": {
     "name": "#%%\n"
    }
   }
  },
  {
   "cell_type": "code",
   "execution_count": 457,
   "id": "3b9fac33",
   "metadata": {
    "scrolled": true,
    "pycharm": {
     "name": "#%%\n"
    }
   },
   "outputs": [],
   "source": [
    "# 写文件\n",
    "def write_xlsx(df,path, sheetName):\n",
    "    writer = pd.ExcelWriter(path, engine='openpyxl',mode='a', if_sheet_exists=\"overlay\")\n",
    "    df.to_excel(writer, sheet_name=sheetName)\n",
    "    writer.close()"
   ]
  },
  {
   "cell_type": "code",
   "execution_count": 458,
   "id": "aa991224",
   "metadata": {
    "pycharm": {
     "name": "#%%\n"
    }
   },
   "outputs": [],
   "source": [
    "# 写入同一个文件三张表\n",
    "path = '../data/cleaneddata/cleaned_car_all_beijing.xlsx'\n",
    "pd.DataFrame().to_excel(path,sheet_name='total') # 先创建文件\n",
    "write_xlsx(petrol,path,'petrol')\n",
    "write_xlsx(electric, path,'electric')\n",
    "write_xlsx(mixed,path,'mixed')\n",
    "write_xlsx(clean_data, path,'total')"
   ]
  },
  {
   "cell_type": "code",
   "execution_count": null,
   "outputs": [],
   "source": [],
   "metadata": {
    "collapsed": false,
    "pycharm": {
     "name": "#%%\n",
     "is_executing": true
    }
   }
  },
  {
   "cell_type": "code",
   "execution_count": 312,
   "outputs": [],
   "source": [],
   "metadata": {
    "collapsed": false,
    "pycharm": {
     "name": "#%%\n"
    }
   }
  }
 ],
 "metadata": {
  "kernelspec": {
   "display_name": "Python 3 (ipykernel)",
   "language": "python",
   "name": "python3"
  },
  "language_info": {
   "codemirror_mode": {
    "name": "ipython",
    "version": 3
   },
   "file_extension": ".py",
   "mimetype": "text/x-python",
   "name": "python",
   "nbconvert_exporter": "python",
   "pygments_lexer": "ipython3",
   "version": "3.10.6"
  },
  "toc": {
   "base_numbering": 1,
   "nav_menu": {},
   "number_sections": true,
   "sideBar": true,
   "skip_h1_title": false,
   "title_cell": "Table of Contents",
   "title_sidebar": "Contents",
   "toc_cell": false,
   "toc_position": {},
   "toc_section_display": true,
   "toc_window_display": false
  },
  "vp": {
   "vp_config_version": "1.0.0",
   "vp_menu_width": 273,
   "vp_note_display": false,
   "vp_note_width": 0,
   "vp_position": {
    "width": 278
   },
   "vp_section_display": false,
   "vp_signature": "VisualPython"
  }
 },
 "nbformat": 4,
 "nbformat_minor": 5
}