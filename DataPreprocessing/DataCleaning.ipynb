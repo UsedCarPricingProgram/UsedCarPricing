{
 "cells": [
  {
   "cell_type": "code",
   "execution_count": 60,
   "id": "3b4267b0",
   "metadata": {
    "pycharm": {
     "name": "#%%\n"
    }
   },
   "outputs": [],
   "source": [
    "import numpy as np\n",
    "import pandas as pd\n",
    "import matplotlib.pyplot as plt\n",
    "import os\n",
    "import re"
   ]
  },
  {
   "cell_type": "markdown",
   "source": [
    "# Data Cleaning"
   ],
   "metadata": {
    "collapsed": false,
    "pycharm": {
     "name": "#%% md\n"
    }
   }
  },
  {
   "cell_type": "code",
   "execution_count": 61,
   "id": "006bdde6",
   "metadata": {
    "pycharm": {
     "name": "#%%\n"
    }
   },
   "outputs": [],
   "source": [
    "# raw_data是从原表读到的原始数据\n",
    "raw_data = pd.read_excel(os.path.join(os.getcwd(),'../data/rawdata/car_all_shenzhen.xls'))"
   ]
  },
  {
   "cell_type": "code",
   "execution_count": 62,
   "id": "45a5823f",
   "metadata": {
    "pycharm": {
     "name": "#%%\n"
    }
   },
   "outputs": [],
   "source": [
    "raw_data = raw_data.rename(columns={\n",
    "    '标题':'title',\n",
    "    '价格':'price',\n",
    "    '新车价格':'price_new',\n",
    "    '首次上牌':'date_regi',\n",
    "    '表显里程':'mileage', \n",
    "    '官方续航':'official_endurance',\n",
    "    '排放标准':'standard',\n",
    "    '变速箱':'gearbox',\n",
    "    '过户次数':'num_trans',\n",
    "    '车牌地':'license_location',\n",
    "    '车身颜色':'color',\n",
    "    '电动机总功率':'motor_power',\n",
    "    '电池容量':'battery_capacity',\n",
    "    '电池类型':'battery_type',\n",
    "    '能源类型':'energy_type',\n",
    "    '排量':'displacement',\n",
    "    '钥匙数':'keys'\n",
    "    })"
   ]
  },
  {
   "cell_type": "code",
   "execution_count": 63,
   "id": "7e1209e2",
   "metadata": {
    "pycharm": {
     "name": "#%%\n"
    }
   },
   "outputs": [
    {
     "name": "stdout",
     "output_type": "stream",
     "text": [
      "(39216, 17)\n",
      "(39159, 17)\n",
      "空行数量： 57\n",
      "查看每个列空值数量：\n",
      "title                     0\n",
      "price                     0\n",
      "price_new                 0\n",
      "date_regi                 0\n",
      "mileage                   0\n",
      "official_endurance    34083\n",
      "standard                  0\n",
      "gearbox                   0\n",
      "num_trans                 0\n",
      "license_location          0\n",
      "color                     0\n",
      "motor_power           34083\n",
      "battery_capacity      34083\n",
      "battery_type          34083\n",
      "energy_type               1\n",
      "displacement           5076\n",
      "keys                      1\n",
      "dtype: int64\n"
     ]
    }
   ],
   "source": [
    "print(raw_data.shape) # (39216, 17)\n",
    "# 根据title去掉空行\n",
    "not_null_raw_data = raw_data[~(raw_data['title'].isnull())]\n",
    "print(not_null_raw_data.shape) # (39159, 17)\n",
    "print('空行数量：',39216-39159)\n",
    "print('查看每个列空值数量：')\n",
    "print(not_null_raw_data.isnull().sum())"
   ]
  },
  {
   "cell_type": "code",
   "execution_count": 64,
   "outputs": [],
   "source": [
    "# 全部数据清洗\n",
    "clean_data = not_null_raw_data.copy()\n",
    "# title处理\n",
    "clean_data['brand'] = clean_data['title'].str.split(' ',expand=True)[0]"
   ],
   "metadata": {
    "collapsed": false,
    "pycharm": {
     "name": "#%%\n"
    }
   }
  },
  {
   "cell_type": "code",
   "execution_count": 65,
   "outputs": [],
   "source": [
    "# def is_all_eng(strs):\n",
    "#     import string\n",
    "#     for i in strs:\n",
    "#         if i not in string.ascii_lowercase+string.ascii_uppercase:\n",
    "#             return False\n",
    "#     return True\n",
    "#\n",
    "# def brand(strs):\n",
    "#     count = 0\n",
    "#     if is_all_eng(strs):\n",
    "#         return(strs)\n",
    "#     else:\n",
    "#         for i in strs:\n",
    "#             if is_all_eng(i) or i.isdigit():\n",
    "#                 return(strs[:count])\n",
    "#             else:\n",
    "#                 count += 1\n",
    "#         return(strs)\n",
    "#\n",
    "# clean_data['brand']=clean_data['title'].apply(lambda x:brand(x))"
   ],
   "metadata": {
    "collapsed": false,
    "pycharm": {
     "name": "#%%\n"
    }
   }
  },
  {
   "cell_type": "code",
   "execution_count": 66,
   "outputs": [
    {
     "data": {
      "text/plain": "0        荣威e950\n1           WEY\n2           雪佛兰\n3        本田XR-V\n4            现代\n          ...  \n39211        路虎\n39212     哈弗H6S\n39213    现代ix35\n39214        三菱\n39215    小鹏汽车G3\nName: brand, Length: 39159, dtype: object"
     },
     "execution_count": 66,
     "metadata": {},
     "output_type": "execute_result"
    }
   ],
   "source": [
    "clean_data['brand']"
   ],
   "metadata": {
    "collapsed": false,
    "pycharm": {
     "name": "#%%\n"
    }
   }
  },
  {
   "cell_type": "code",
   "execution_count": 67,
   "outputs": [],
   "source": [
    "#去掉-\n",
    "clean_data['brand']=clean_data['brand'].map(lambda x: re.sub(r'[-·]','',x))"
   ],
   "metadata": {
    "collapsed": false,
    "pycharm": {
     "name": "#%%\n"
    }
   }
  },
  {
   "cell_type": "code",
   "execution_count": 68,
   "outputs": [
    {
     "data": {
      "text/plain": "0          荣威\n1         WEY\n2         雪佛兰\n3          本田\n4          现代\n         ... \n39211      路虎\n39212      哈弗\n39213      现代\n39214      三菱\n39215    小鹏汽车\nName: brand, Length: 39159, dtype: object"
     },
     "execution_count": 68,
     "metadata": {},
     "output_type": "execute_result"
    }
   ],
   "source": [
    "#去掉字母数字\n",
    "def find_brand(x):\n",
    "    \"\"\"brand\"\"\"\n",
    "    if re.search(r'[\\u4e00-\\u9fff]+', x):\n",
    "        res = re.sub(r'( )*[0-9A-Za-z]+$','',x)\n",
    "    else:\n",
    "        res = x\n",
    "    return res\n",
    "clean_data['brand'] = clean_data['brand'].apply(find_brand)\n",
    "clean_data['brand']"
   ],
   "metadata": {
    "collapsed": false,
    "pycharm": {
     "name": "#%%\n"
    }
   }
  },
  {
   "cell_type": "code",
   "execution_count": 69,
   "outputs": [
    {
     "data": {
      "text/plain": "0"
     },
     "execution_count": 69,
     "metadata": {},
     "output_type": "execute_result"
    }
   ],
   "source": [
    "clean_data['brand'].isnull().sum()"
   ],
   "metadata": {
    "collapsed": false,
    "pycharm": {
     "name": "#%%\n"
    }
   }
  },
  {
   "cell_type": "code",
   "execution_count": 70,
   "outputs": [
    {
     "data": {
      "text/plain": "array(['荣威', 'WEY', '雪佛兰', '本田', '现代', '北汽威旺', '起亚', '奇瑞', '吉利汽车', '马自达',\n       '标致', '三菱', '雷克萨斯', '奔腾', '长安', '日产', '众泰', '别克', '奥迪', '英菲尼迪',\n       '特斯拉', '丰田', '奔驰GLA级', '宝马', '哪吒汽车', '领克', '理想汽车', '大众', '哈弗',\n       '保时捷', '欧拉好猫', '五菱汽车', '陆风', '宝马3系', '力帆汽车', '几何汽车', 'MINI',\n       '广汽埃安', '广汽传祺', '沃尔沃', '奔驰E级', '比亚迪', '宝骏', '宝马5系', '凯迪拉克', '铃木',\n       '斯柯达', '福特', '长安欧尚', '捷豹', '北汽新能源', '东南', '路虎', '小鹏汽车', '名爵',\n       '奔驰B级', '红旗', '领克01新能源', '零跑汽车', '奔驰GLC级', '宝马1系', '威马汽车', '欧拉黑猫',\n       '飞凡汽车', '捷达', '上汽', '奔驰C级', '阿尔法罗密欧', '东风风光', '奔驰A级', '林肯大陆',\n       '岚图汽车', '新宝骏', '奔驰', '启辰', 'Jeep', '北汽幻速', '猎豹汽车', '江淮', '广汽新能源',\n       '宝马X1新能源', '奔驰CLA级', '道奇', '领克02新能源', 'ARCFOX极狐', '野马汽车', 'smart',\n       '纳智捷', '雷克萨斯UX新能源', '奇瑞蚂蚁', '菲亚特', '宝马4系', '宝马7系', '蔚来', '雪铁龙',\n       '长安新能源', '东风风神', '东风风行', '奔驰GLE级', '欧拉', '雷诺', '北京汽车', '沃尔沃S60新能源',\n       '奔驰S级', 'DS', '讴歌', '星途追风', '北京', '宝沃', '玛莎拉蒂', '宝马5系新能源', '开瑞',\n       '奔腾X40新能源', '奔驰CLS级', '哈弗神兽', '广汽集团', '观致', '林肯', '凯迪拉克CT6新能源',\n       '欧拉白猫', '捷途', '奇瑞新能源', '坦克', 'SERES赛力斯', '哈弗大狗', '宝马2系旅行车', '斯巴鲁',\n       '国机智骏', '汉腾汽车', '海马S5青春版', 'Polestar', '全球鹰', '海马', '北汽昌河', '五十铃',\n       '上汽大通', 'SWM斯威汽车', '潍柴英致', '新特汽车', '驭胜', '腾势', '2019款', '宝马2系',\n       '星途凌云', '华颂', '凯翼', '合众汽车', '奔驰V级', '一汽', '合创', '思皓', '电咖', '哈弗初恋',\n       '宝马6系', '极氪', '奔驰R级', '名爵EZS纯电动', '奔驰GLS级', '天际汽车', '大运', '启辰星',\n       '中华', '奔驰E级新能源', '华晨新日', '领克06新能源', '北汽制造', '本田e:', '星途', '哈弗赤兔',\n       'AITO', '魏牌', '雷克萨斯RX经典', '凌宝汽车', '创维汽车', '凯迪拉克ATSL2017款',\n       '名爵HS新能源', '君马汽车', '大众ID.', '潍柴汽车', '启辰大', '星途揽月', '知豆', 'R汽车',\n       '奥迪A6L新能源', '路特斯', '奔驰GLK级', '高合汽车', '思铭', '名爵6新能源', '领途汽车', '福迪',\n       '本田CRV新能源', '沃尔沃S90新能源', 'ALPINA', '马自达3星骋', '陆风逍遥', '长城', '雷丁芒果',\n       '长安UNIK新能源', '朋克汽车', 'LITE原力版', '云度π', '福田', '克莱斯勒', 'Smart',\n       '东南DX3新能源', '标致508L新能源', '北汽绅宝', '东风', '长安欧尚科赛', '长安轻型车', '比速汽车',\n       '东风风度', '福特福克斯2018款', '众泰T300新能源', '理念', '长城C30新能源', '力帆',\n       '宝马2系多功能旅行车', '奔驰SLC级', '江铃集团新能源', '保时捷Panamera新能源', '大乘汽车',\n       '阿斯顿马丁', '奔驰SLK级', '东南A5翼舞', 'MG3', '传祺', 'BEIJING汽车', '奔驰GL级',\n       '哈弗酷狗', '福特电马', '传祺GS4新能源', '领克05新能源', '东风EV新能源', '领克03新能源',\n       'SRM鑫源', '保时捷Macan2018款', '瑞驰新能源', '奔驰M级', '华泰', '宝马X5新能源', '枫叶汽车',\n       '金杯', 'HYCAN合创', '沃尔沃XC60新能源', '电动屋'], dtype=object)"
     },
     "execution_count": 70,
     "metadata": {},
     "output_type": "execute_result"
    }
   ],
   "source": [
    "clean_data['brand'].unique()"
   ],
   "metadata": {
    "collapsed": false,
    "pycharm": {
     "name": "#%%\n"
    }
   }
  },
  {
   "cell_type": "code",
   "execution_count": 71,
   "outputs": [],
   "source": [
    "#去掉-\n",
    "clean_data['brand']=clean_data['brand'].map(lambda x: re.sub(r'[-·]','',x))\n",
    "\n",
    "# 手动去掉北京品牌中的多余字\n",
    "clean_data['brand']=clean_data['brand'].map(\n",
    "     lambda x: re.sub(r'[级系]+','', x)).map(\n",
    "     lambda x: re.sub(r'(风光)|(风行)|(风神)|(小康)|(EV)|(新能源)|(黑猫)|(传祺)|(欧尚)|(罗密欧)|(2多功能旅行车)|(2旅行车)|(ID.)|(e:)|(G列)|(大狗)|(初恋)|(EZS纯电动)|(跨越)|(白猫)|(蚂蚁)|(好猫)|(精灵#)|(轻型车)|(原力版)|(神兽)|(赤兔)|(CRV)|(UX)|(T300)|(Panamera)|(S90)|(UNIK)|(DX3)|(HS)|(XC60)|(A6L)|(X40)|(C30)','', x)).map(\n",
    "     lambda x: re.sub(r'(启辰大|启辰星)','启辰', x)).map(\n",
    "     lambda x: re.sub(r'(BEIJING汽车)','北京汽车', x)).map(\n",
    "     lambda x: re.sub(r'(奔驰E)|(奔驰B)|(奔驰S)|(奔驰GLA)|(奔驰A)|(奔驰V)|(奔驰GLS)|(奔驰SLK)|(奔驰CLA)|(奔驰GLE)|(奔驰GLC)|(奔驰GLK)|(奔驰CLS)|(奔驰LC)|(奔驰R)|(奔驰C)','奔驰', x)).map(\n",
    "      lambda x: re.sub(r'(领克01)|(领克06)|(领克05)|(领克09)','领克', x)).map(\n",
    "      lambda x: re.sub(r'(宝马5)|(宝马2)|(宝马1)|(宝马X1新能源)|(宝马4)|(宝马X5)|(宝马7)|(宝马6)|(宝马3)|(宝马X1)','宝马', x)).map(\n",
    "      lambda x: re.sub(r'(日产)','东风日产', x))\n"
   ],
   "metadata": {
    "collapsed": false,
    "pycharm": {
     "name": "#%%\n"
    }
   }
  },
  {
   "cell_type": "code",
   "execution_count": 72,
   "outputs": [],
   "source": [
    "#去掉-\n",
    "clean_data['brand']=clean_data['brand'].map(lambda x: re.sub(r'[-·]','',x))\n",
    "\n",
    "# 手动去掉深圳品牌中的多余字\n",
    "clean_data['brand']=clean_data['brand'].map(\n",
    "     lambda x: re.sub(r'[级系]+','', x)).map(\n",
    "     lambda x: re.sub(r'(风光)|(风行)|(风神)|(小康)|(EV)|(新能源)|(黑猫)|(传祺)|(欧尚)|(罗密欧)|(2多功能旅行车)|(2旅行车)|(ID.)|(e:)|(G列)|(大狗)|(初恋)|(EZS纯电动)|(跨越)|(白猫)|(蚂蚁)|(好猫)|(精灵#)|(轻型车)|(原力版)|(神兽)|(赤兔)|(埃安)|(埃安)|(酷狗)|(风度)|(S5青春版)|(昌河)|(制造)|(ATSL2017款)|(绅宝)|(Macan2018款)|(3星骋)|(ATSL2017款)|(RX经典)|(2018款)|(A5翼舞)|(电马)|(集团)','', x)).map(\n",
    "     lambda x: re.sub(r'(启辰大|启辰星)','启辰', x)).map(\n",
    "     lambda x: re.sub(r'(BEIJING汽车)','北京汽车', x)).map(\n",
    "     lambda x: re.sub(r'(名爵6)','名爵', x))\n"
   ],
   "metadata": {
    "collapsed": false,
    "pycharm": {
     "name": "#%%\n"
    }
   }
  },
  {
   "cell_type": "code",
   "execution_count": 73,
   "outputs": [],
   "source": [
    "\n",
    "# 手动去掉shanghai品牌中的多余字\n",
    "clean_data['brand']=clean_data['brand'].map(\n",
    "     lambda x: re.sub(r'[级系]+','', x)).map(\n",
    "     lambda x: re.sub(r'(风光)|(风行)|(风神)|(小康)|(新能源)|(黑猫)|(传祺)|(欧尚)|(罗密欧)|(2多功能旅行车)|(2旅行车)|(ID.)|(e:)|(G列)|(大狗)|(初恋)|(EZS纯电动)|(跨越)|(白猫)|(蚂蚁)|(好猫)|(精灵#)|(轻型车)|(原力版)|(神兽)|(赤兔)|(埃安)|(埃安)|(酷狗)|(风度)|(S5青春版)|(昌河)|(制造)|(福克斯2018款)|(CT6)|(S60)|(CRV)|(UNIK)|(A6L)|(UX)|(3星骋)|(T300)|(up!)|(S0)|(CT)','', x)).map(\n",
    "     lambda x: re.sub(r'(启辰大|启辰星)','启辰', x)).map(\n",
    "     lambda x: re.sub(r'(BEIJING汽车)','北京汽车', x)).map(\n",
    "     lambda x: re.sub(r'(宝马5)|(宝马1)|(宝马X1新能源)|(宝马4)|(宝马X5)|(宝马7)|(宝马6)|(宝马3)|(宝马X1)','宝马', x)).map(\n",
    "     lambda x: re.sub(r'(奔驰E)|(奔驰B)|(奔驰S)|(奔驰GLA)|(奔驰A)|(奔驰V)|(奔驰GLS)|(奔驰SLK)|(奔驰CLA)|(奔驰GLE)|(奔驰GLC)|(奔驰GLK)|(奔驰CLS)|(奔驰LC)|(奔驰R)|(奔驰C)|(奔驰M)|(奔驰LK)','奔驰', x)).map(\n",
    "     lambda x: re.sub(r'(领克01)|(领克06)|(领克05)|(领克03)|(领克0)','领克', x)).map(\n",
    "     lambda x: re.sub(r'(沃尔沃L)','沃尔沃', x))\n",
    "\n"
   ],
   "metadata": {
    "collapsed": false,
    "pycharm": {
     "name": "#%%\n"
    }
   }
  },
  {
   "cell_type": "code",
   "execution_count": 74,
   "outputs": [
    {
     "data": {
      "text/plain": "array(['荣威', 'WEY', '雪佛兰', '本田', '现代', '北汽威旺', '起亚', '奇瑞', '吉利汽车', '马自达',\n       '标致', '三菱', '雷克萨斯', '奔腾', '长安', '东风日产', '众泰', '别克', '奥迪', '英菲尼迪',\n       '特斯拉', '丰田', '奔驰', '宝马', '哪吒汽车', '领克', '理想汽车', '大众', '哈弗', '保时捷',\n       '欧拉', '五菱汽车', '陆风', '力帆汽车', '几何汽车', 'MINI', '广汽', '沃尔沃', '比亚迪',\n       '宝骏', '凯迪拉克', '铃木', '斯柯达', '福特', '捷豹', '北汽', '东南', '路虎', '小鹏汽车',\n       '名爵', '红旗', '零跑汽车', '威马汽车', '飞凡汽车', '捷达', '上汽', '阿尔法', '东风',\n       '林肯大陆', '岚图汽车', '新宝骏', '启辰', 'Jeep', '北汽幻速', '猎豹汽车', '江淮', '道奇',\n       '领克2', 'ARCFOX极狐', '野马汽车', 'smart', '纳智捷', '菲亚特', '蔚来', '雪铁龙',\n       '雷诺', '北京汽车', 'DS', '讴歌', '星途追风', '北京', '宝沃', '玛莎拉蒂', '开瑞', '观致',\n       '林肯', '捷途', '坦克', 'SERES赛力斯', '斯巴鲁', '国机智骏', '汉腾汽车', '海马',\n       'Polestar', '全球鹰', '五十铃', '上汽大通', 'SWM斯威汽车', '潍柴英致', '新特汽车', '驭胜',\n       '腾势', '2019款', '星途凌云', '华颂', '凯翼', '合众汽车', '一汽', '合创', '思皓', '电咖',\n       '极氪', '天际汽车', '大运', '中华', '华晨新日', '星途', 'AITO', '魏牌', '凌宝汽车',\n       '创维汽车', '君马汽车', '潍柴汽车', '星途揽月', '知豆', 'R汽车', '路特斯', '高合汽车', '思铭',\n       '领途汽车', '福迪', 'ALPINA', '陆风逍遥', '长城', '雷丁芒果', '朋克汽车', 'LITE',\n       '云度π', '福田', '克莱斯勒', 'Smart', '标致508L', '长安科赛', '比速汽车', '福特福克斯',\n       '理念', '力帆', '江铃', '大乘汽车', '阿斯顿马丁', 'MG3', '', '奔驰GL', 'GS4',\n       'SRM鑫源', '瑞驰', '华泰', '枫叶汽车', '金杯', 'HYCAN合创', '电动屋'], dtype=object)"
     },
     "execution_count": 74,
     "metadata": {},
     "output_type": "execute_result"
    }
   ],
   "source": [
    "clean_data['brand'].unique()"
   ],
   "metadata": {
    "collapsed": false,
    "pycharm": {
     "name": "#%%\n"
    }
   }
  },
  {
   "cell_type": "code",
   "execution_count": 75,
   "outputs": [
    {
     "data": {
      "text/plain": "0"
     },
     "execution_count": 75,
     "metadata": {},
     "output_type": "execute_result"
    }
   ],
   "source": [
    "clean_data['brand'].isnull().sum()"
   ],
   "metadata": {
    "collapsed": false,
    "pycharm": {
     "name": "#%%\n"
    }
   }
  },
  {
   "cell_type": "code",
   "execution_count": 76,
   "id": "7ea64d52",
   "metadata": {
    "pycharm": {
     "name": "#%%\n"
    }
   },
   "outputs": [],
   "source": [
    "# 去掉单位\n",
    "clean_data['mileage'] = clean_data['mileage'].str.replace('万公里','').apply(lambda x :float(x.replace('公里',''))/10000 if '公里' in str(x) else x).astype(np.float64)\n",
    "clean_data['official_endurance'] = clean_data['official_endurance'].str.replace('km','').replace('-',np.nan).astype(np.float64)\n",
    "clean_data['num_trans'] = clean_data['num_trans'].str.replace('次','').replace('-',np.nan).astype(np.float64)\n",
    "clean_data['battery_capacity'] = clean_data['battery_capacity'].str.replace('kWh','').replace('-',np.nan).astype(np.float64)\n",
    "clean_data['motor_power'] = clean_data['motor_power'].str.replace('kw','').replace('-',np.nan).astype(np.float64)\n",
    "clean_data['keys'] = clean_data['keys'].str.replace('把','').astype(np.float64)\n",
    "\n",
    "# location 一线城市（北上广深）为1，其他城市为0\n",
    "clean_data['license_location'] = clean_data['license_location'].str.split('[(（]',expand=True)[0]\n",
    "clean_data['license_location'] = clean_data['license_location'].apply(lambda x : 1 if x in ['上海','北京','广州','深圳'] else 0).astype(np.float64)\n",
    "\n",
    "# color 黑色、白色、深灰色、银灰色为0，其他颜色为1\n",
    "clean_data['color'] = clean_data['color'].apply(lambda x : 0 if x in ['白色','黑色','深灰色','银灰色'] else 1).astype(np.float64)\n",
    "\n",
    "# displace：T*1.4变成L，方便分析，排放越大性能越好\n",
    "clean_data['displacement'] = clean_data['displacement'].astype(str).apply(lambda x : float(x.replace('T',''))*1.4 if 'T' in x else float(x.replace('L',''))).astype(np.float64)\n"
   ]
  },
  {
   "cell_type": "code",
   "execution_count": 77,
   "outputs": [
    {
     "data": {
      "text/plain": "['插电式混合动力',\n '汽油',\n '纯电动',\n '油电混合',\n '增程式',\n '汽油+48V轻混系统',\n '汽油+90V轻混系统',\n '柴油',\n '汽油电驱',\n '汽油+24V轻混系统']"
     },
     "execution_count": 77,
     "metadata": {},
     "output_type": "execute_result"
    }
   ],
   "source": [
    "energy_type = list(clean_data['energy_type'].dropna().unique())\n",
    "energy_type"
   ],
   "metadata": {
    "collapsed": false,
    "pycharm": {
     "name": "#%%\n"
    }
   }
  },
  {
   "cell_type": "code",
   "execution_count": 78,
   "outputs": [],
   "source": [
    "# 能源类型:汽油0，电动1，混合2\n",
    "energy_type = list(clean_data['energy_type'].dropna().unique())\n",
    "# 北京\n",
    "# type_num = [0,2,1,2,2,2,2,0,2,2]\n",
    "\n",
    "#深圳\n",
    "type_num = [2,0,1,2,2,2,2,0,2,2]\n",
    "\n",
    "#上海\n",
    "# type_num = [2,0,1,2,2,2,2,0,2]\n",
    "energy_type_num=dict(zip(energy_type,type_num))\n",
    "clean_data['energy_type'] = clean_data['energy_type'].map(energy_type_num)\n",
    "\n",
    "# 变速箱：手动0，自动1\n",
    "clean_data['gearbox'] = clean_data['gearbox'].apply(lambda x : 1 if str(x)=='自动' else 0)"
   ],
   "metadata": {
    "collapsed": false,
    "pycharm": {
     "name": "#%%\n"
    }
   }
  },
  {
   "cell_type": "code",
   "execution_count": 79,
   "id": "c5c84cd9",
   "metadata": {
    "pycharm": {
     "name": "#%%\n"
    }
   },
   "outputs": [
    {
     "name": "stdout",
     "output_type": "stream",
     "text": [
      "<class 'pandas.core.frame.DataFrame'>\n",
      "Int64Index: 39159 entries, 0 to 39215\n",
      "Data columns (total 18 columns):\n",
      " #   Column              Non-Null Count  Dtype  \n",
      "---  ------              --------------  -----  \n",
      " 0   title               39159 non-null  object \n",
      " 1   price               39159 non-null  float64\n",
      " 2   price_new           39159 non-null  float64\n",
      " 3   date_regi           39159 non-null  object \n",
      " 4   mileage             39159 non-null  float64\n",
      " 5   official_endurance  5075 non-null   float64\n",
      " 6   standard            39159 non-null  object \n",
      " 7   gearbox             39159 non-null  int64  \n",
      " 8   num_trans           39159 non-null  float64\n",
      " 9   license_location    39159 non-null  float64\n",
      " 10  color               39159 non-null  float64\n",
      " 11  motor_power         5075 non-null   float64\n",
      " 12  battery_capacity    4931 non-null   float64\n",
      " 13  battery_type        5076 non-null   object \n",
      " 14  energy_type         39158 non-null  float64\n",
      " 15  displacement        34083 non-null  float64\n",
      " 16  keys                39158 non-null  float64\n",
      " 17  brand               39159 non-null  object \n",
      "dtypes: float64(12), int64(1), object(5)\n",
      "memory usage: 5.7+ MB\n"
     ]
    }
   ],
   "source": [
    "clean_data.info()"
   ]
  },
  {
   "cell_type": "code",
   "execution_count": 80,
   "id": "47ef5085",
   "metadata": {
    "pycharm": {
     "name": "#%%\n"
    }
   },
   "outputs": [],
   "source": [
    "# 挑出油车\n",
    "petrol = clean_data[clean_data['energy_type']==0]\n",
    "# 删除电车特征\n",
    "petrol = petrol.drop(['official_endurance','motor_power','battery_capacity','battery_type'],axis=1)"
   ]
  },
  {
   "cell_type": "code",
   "execution_count": 81,
   "id": "86a37fbc",
   "metadata": {
    "pycharm": {
     "name": "#%%\n"
    }
   },
   "outputs": [
    {
     "name": "stderr",
     "output_type": "stream",
     "text": [
      "/var/folders/hv/0r6f95ls1ss09znhzxqsj0nr0000gn/T/ipykernel_2510/2910221480.py:4: SettingWithCopyWarning: \n",
      "A value is trying to be set on a copy of a slice from a DataFrame\n",
      "\n",
      "See the caveats in the documentation: https://pandas.pydata.org/pandas-docs/stable/user_guide/indexing.html#returning-a-view-versus-a-copy\n",
      "  electric['motor_power'].fillna(electric['motor_power'].mean(), inplace=True)\n",
      "/var/folders/hv/0r6f95ls1ss09znhzxqsj0nr0000gn/T/ipykernel_2510/2910221480.py:5: SettingWithCopyWarning: \n",
      "A value is trying to be set on a copy of a slice from a DataFrame\n",
      "\n",
      "See the caveats in the documentation: https://pandas.pydata.org/pandas-docs/stable/user_guide/indexing.html#returning-a-view-versus-a-copy\n",
      "  electric['battery_capacity'].fillna(electric['battery_capacity'].mean(), inplace=True)\n",
      "/var/folders/hv/0r6f95ls1ss09znhzxqsj0nr0000gn/T/ipykernel_2510/2910221480.py:6: SettingWithCopyWarning: \n",
      "A value is trying to be set on a copy of a slice from a DataFrame\n",
      "\n",
      "See the caveats in the documentation: https://pandas.pydata.org/pandas-docs/stable/user_guide/indexing.html#returning-a-view-versus-a-copy\n",
      "  electric['official_endurance'].fillna(electric['official_endurance'].mean(), inplace=True)\n",
      "/var/folders/hv/0r6f95ls1ss09znhzxqsj0nr0000gn/T/ipykernel_2510/2910221480.py:7: SettingWithCopyWarning: \n",
      "A value is trying to be set on a copy of a slice from a DataFrame\n",
      "\n",
      "See the caveats in the documentation: https://pandas.pydata.org/pandas-docs/stable/user_guide/indexing.html#returning-a-view-versus-a-copy\n",
      "  electric['battery_type'].fillna('三元锂电池', inplace=True)\n"
     ]
    }
   ],
   "source": [
    "#挑出电车\n",
    "electric = clean_data[clean_data['energy_type']==1]\n",
    "# 均值motor_power、battery_capacity、official_endurance # 众数battery_type #删除displacement\n",
    "electric['motor_power'].fillna(electric['motor_power'].mean(), inplace=True)\n",
    "electric['battery_capacity'].fillna(electric['battery_capacity'].mean(), inplace=True)\n",
    "electric['official_endurance'].fillna(electric['official_endurance'].mean(), inplace=True)\n",
    "electric['battery_type'].fillna('三元锂电池', inplace=True)\n",
    "electric = electric.drop(['displacement'],axis=1)"
   ]
  },
  {
   "cell_type": "code",
   "execution_count": 82,
   "outputs": [],
   "source": [
    "#挑出混合车\n",
    "mixed = clean_data[clean_data['energy_type']==2]"
   ],
   "metadata": {
    "collapsed": false,
    "pycharm": {
     "name": "#%%\n"
    }
   }
  },
  {
   "cell_type": "code",
   "execution_count": 83,
   "id": "3b9fac33",
   "metadata": {
    "scrolled": true,
    "pycharm": {
     "name": "#%%\n"
    }
   },
   "outputs": [],
   "source": [
    "# 写文件\n",
    "def write_xlsx(df,path, sheetName):\n",
    "    writer = pd.ExcelWriter(path, engine='openpyxl',mode='a', if_sheet_exists=\"overlay\")\n",
    "    df.to_excel(writer, sheet_name=sheetName)\n",
    "    writer.close()"
   ]
  },
  {
   "cell_type": "code",
   "execution_count": 84,
   "id": "aa991224",
   "metadata": {
    "pycharm": {
     "name": "#%%\n"
    }
   },
   "outputs": [],
   "source": [
    "# 写入同一个文件三张表\n",
    "path = '../data/cleaneddata/cleaned_car_all_shenzhen.xlsx'\n",
    "pd.DataFrame().to_excel(path,sheet_name='total') # 先创建文件\n",
    "write_xlsx(petrol,path,'petrol')\n",
    "write_xlsx(electric, path,'electric')\n",
    "write_xlsx(mixed,path,'mixed')\n",
    "write_xlsx(clean_data, path,'total')"
   ]
  },
  {
   "cell_type": "markdown",
   "source": [
    "更改品牌日产为东风日产（单独运行）"
   ],
   "metadata": {
    "collapsed": false,
    "pycharm": {
     "name": "#%% md\n"
    }
   }
  },
  {
   "cell_type": "code",
   "execution_count": 2,
   "outputs": [],
   "source": [
    "df_p= pd.read_excel(os.path.join(os.getcwd(),'../data/cleaneddata/cleaned_car_all.xlsx'),sheet_name='petrol')\n",
    "df_e =pd.read_excel(os.path.join(os.getcwd(),'../data/cleaneddata/cleaned_car_all.xlsx'),sheet_name='electric')\n",
    "df_m =pd.read_excel(os.path.join(os.getcwd(),'../data/cleaneddata/cleaned_car_all.xlsx'),sheet_name='mixed')"
   ],
   "metadata": {
    "collapsed": false,
    "pycharm": {
     "name": "#%%\n"
    }
   }
  },
  {
   "cell_type": "code",
   "execution_count": 48,
   "outputs": [
    {
     "data": {
      "text/plain": "0          荣威\n1          丰田\n2          宝骏\n3          别克\n4          现代\n         ... \n66560      奔驰\n66561      领克\n66562      丰田\n66563    凯迪拉克\n66564      哈弗\nName: brand, Length: 66565, dtype: object"
     },
     "execution_count": 48,
     "metadata": {},
     "output_type": "execute_result"
    }
   ],
   "source": [
    "df_p['brand']"
   ],
   "metadata": {
    "collapsed": false,
    "pycharm": {
     "name": "#%%\n"
    }
   }
  },
  {
   "cell_type": "code",
   "execution_count": 5,
   "outputs": [
    {
     "ename": "TypeError",
     "evalue": "expected string or bytes-like object",
     "output_type": "error",
     "traceback": [
      "\u001B[0;31m---------------------------------------------------------------------------\u001B[0m",
      "\u001B[0;31mTypeError\u001B[0m                                 Traceback (most recent call last)",
      "Input \u001B[0;32mIn [5]\u001B[0m, in \u001B[0;36m<cell line: 2>\u001B[0;34m()\u001B[0m\n\u001B[1;32m      1\u001B[0m \u001B[38;5;66;03m# 手动去掉北京品牌中的多余字\u001B[39;00m\n\u001B[0;32m----> 2\u001B[0m df_p[\u001B[38;5;124m'\u001B[39m\u001B[38;5;124mbrand\u001B[39m\u001B[38;5;124m'\u001B[39m]\u001B[38;5;241m=\u001B[39m\u001B[43mdf_p\u001B[49m\u001B[43m[\u001B[49m\u001B[38;5;124;43m'\u001B[39;49m\u001B[38;5;124;43mbrand\u001B[39;49m\u001B[38;5;124;43m'\u001B[39;49m\u001B[43m]\u001B[49m\u001B[38;5;241;43m.\u001B[39;49m\u001B[43mmap\u001B[49m\u001B[43m(\u001B[49m\n\u001B[1;32m      3\u001B[0m \u001B[43m     \u001B[49m\u001B[38;5;28;43;01mlambda\u001B[39;49;00m\u001B[43m \u001B[49m\u001B[43mx\u001B[49m\u001B[43m:\u001B[49m\u001B[43m \u001B[49m\u001B[43mre\u001B[49m\u001B[38;5;241;43m.\u001B[39;49m\u001B[43msub\u001B[49m\u001B[43m(\u001B[49m\u001B[38;5;124;43mr\u001B[39;49m\u001B[38;5;124;43m'\u001B[39;49m\u001B[38;5;124;43m[级系]+\u001B[39;49m\u001B[38;5;124;43m'\u001B[39;49m\u001B[43m,\u001B[49m\u001B[38;5;124;43m'\u001B[39;49m\u001B[38;5;124;43m'\u001B[39;49m\u001B[43m,\u001B[49m\u001B[43m \u001B[49m\u001B[43mx\u001B[49m\u001B[43m)\u001B[49m\u001B[43m)\u001B[49m\u001B[38;5;241m.\u001B[39mmap(\n\u001B[1;32m      4\u001B[0m      \u001B[38;5;28;01mlambda\u001B[39;00m x: re\u001B[38;5;241m.\u001B[39msub(\u001B[38;5;124mr\u001B[39m\u001B[38;5;124m'\u001B[39m\u001B[38;5;124m(风光)|(风行)|(风神)|(小康)|(EV)|(新能源)|(黑猫)|(传祺)|(欧尚)|(罗密欧)|(2多功能旅行车)|(2旅行车)|(ID.)|(e:)|(G列)|(大狗)|(初恋)|(EZS纯电动)|(跨越)|(白猫)|(蚂蚁)|(好猫)|(精灵#)|(轻型车)|(原力版)|(神兽)|(赤兔)|(CRV)|(UX)|(T300)|(Panamera)|(S90)|(UNIK)|(DX3)|(HS)|(XC60)|(A6L)|(X40)|(C30)\u001B[39m\u001B[38;5;124m'\u001B[39m,\u001B[38;5;124m'\u001B[39m\u001B[38;5;124m'\u001B[39m, x))\u001B[38;5;241m.\u001B[39mmap(\n\u001B[1;32m      5\u001B[0m      \u001B[38;5;28;01mlambda\u001B[39;00m x: re\u001B[38;5;241m.\u001B[39msub(\u001B[38;5;124mr\u001B[39m\u001B[38;5;124m'\u001B[39m\u001B[38;5;124m(启辰大|启辰星)\u001B[39m\u001B[38;5;124m'\u001B[39m,\u001B[38;5;124m'\u001B[39m\u001B[38;5;124m启辰\u001B[39m\u001B[38;5;124m'\u001B[39m, x))\u001B[38;5;241m.\u001B[39mmap(\n\u001B[1;32m      6\u001B[0m      \u001B[38;5;28;01mlambda\u001B[39;00m x: re\u001B[38;5;241m.\u001B[39msub(\u001B[38;5;124mr\u001B[39m\u001B[38;5;124m'\u001B[39m\u001B[38;5;124m(BEIJING汽车)\u001B[39m\u001B[38;5;124m'\u001B[39m,\u001B[38;5;124m'\u001B[39m\u001B[38;5;124m北京汽车\u001B[39m\u001B[38;5;124m'\u001B[39m, x))\u001B[38;5;241m.\u001B[39mmap(\n\u001B[1;32m      7\u001B[0m      \u001B[38;5;28;01mlambda\u001B[39;00m x: re\u001B[38;5;241m.\u001B[39msub(\u001B[38;5;124mr\u001B[39m\u001B[38;5;124m'\u001B[39m\u001B[38;5;124m(奔驰E)|(奔驰B)|(奔驰S)|(奔驰GLA)|(奔驰A)|(奔驰V)|(奔驰GLS)|(奔驰SLK)|(奔驰CLA)|(奔驰GLE)|(奔驰GLC)|(奔驰GLK)|(奔驰CLS)|(奔驰LC)|(奔驰R)|(奔驰C)\u001B[39m\u001B[38;5;124m'\u001B[39m,\u001B[38;5;124m'\u001B[39m\u001B[38;5;124m奔驰\u001B[39m\u001B[38;5;124m'\u001B[39m, x))\u001B[38;5;241m.\u001B[39mmap(\n\u001B[1;32m      8\u001B[0m       \u001B[38;5;28;01mlambda\u001B[39;00m x: re\u001B[38;5;241m.\u001B[39msub(\u001B[38;5;124mr\u001B[39m\u001B[38;5;124m'\u001B[39m\u001B[38;5;124m(领克01)|(领克06)|(领克05)|(领克09)\u001B[39m\u001B[38;5;124m'\u001B[39m,\u001B[38;5;124m'\u001B[39m\u001B[38;5;124m领克\u001B[39m\u001B[38;5;124m'\u001B[39m, x))\u001B[38;5;241m.\u001B[39mmap(\n\u001B[1;32m      9\u001B[0m       \u001B[38;5;28;01mlambda\u001B[39;00m x: re\u001B[38;5;241m.\u001B[39msub(\u001B[38;5;124mr\u001B[39m\u001B[38;5;124m'\u001B[39m\u001B[38;5;124m(宝马5)|(宝马2)|(宝马1)|(宝马X1新能源)|(宝马4)|(宝马X5)|(宝马7)|(宝马6)|(宝马3)|(宝马X1)\u001B[39m\u001B[38;5;124m'\u001B[39m,\u001B[38;5;124m'\u001B[39m\u001B[38;5;124m宝马\u001B[39m\u001B[38;5;124m'\u001B[39m, x))\u001B[38;5;241m.\u001B[39mmap(\n\u001B[1;32m     10\u001B[0m       \u001B[38;5;28;01mlambda\u001B[39;00m x: re\u001B[38;5;241m.\u001B[39msub(\u001B[38;5;124mr\u001B[39m\u001B[38;5;124m'\u001B[39m\u001B[38;5;124m(日产)\u001B[39m\u001B[38;5;124m'\u001B[39m,\u001B[38;5;124m'\u001B[39m\u001B[38;5;124m东风日产\u001B[39m\u001B[38;5;124m'\u001B[39m, x))\n",
      "File \u001B[0;32m~/opt/anaconda3/lib/python3.8/site-packages/pandas/core/series.py:4237\u001B[0m, in \u001B[0;36mSeries.map\u001B[0;34m(self, arg, na_action)\u001B[0m\n\u001B[1;32m   4162\u001B[0m \u001B[38;5;28;01mdef\u001B[39;00m \u001B[38;5;21mmap\u001B[39m(\u001B[38;5;28mself\u001B[39m, arg, na_action\u001B[38;5;241m=\u001B[39m\u001B[38;5;28;01mNone\u001B[39;00m) \u001B[38;5;241m-\u001B[39m\u001B[38;5;241m>\u001B[39m Series:\n\u001B[1;32m   4163\u001B[0m     \u001B[38;5;124;03m\"\"\"\u001B[39;00m\n\u001B[1;32m   4164\u001B[0m \u001B[38;5;124;03m    Map values of Series according to an input mapping or function.\u001B[39;00m\n\u001B[1;32m   4165\u001B[0m \n\u001B[0;32m   (...)\u001B[0m\n\u001B[1;32m   4235\u001B[0m \u001B[38;5;124;03m    dtype: object\u001B[39;00m\n\u001B[1;32m   4236\u001B[0m \u001B[38;5;124;03m    \"\"\"\u001B[39;00m\n\u001B[0;32m-> 4237\u001B[0m     new_values \u001B[38;5;241m=\u001B[39m \u001B[38;5;28;43mself\u001B[39;49m\u001B[38;5;241;43m.\u001B[39;49m\u001B[43m_map_values\u001B[49m\u001B[43m(\u001B[49m\u001B[43marg\u001B[49m\u001B[43m,\u001B[49m\u001B[43m \u001B[49m\u001B[43mna_action\u001B[49m\u001B[38;5;241;43m=\u001B[39;49m\u001B[43mna_action\u001B[49m\u001B[43m)\u001B[49m\n\u001B[1;32m   4238\u001B[0m     \u001B[38;5;28;01mreturn\u001B[39;00m \u001B[38;5;28mself\u001B[39m\u001B[38;5;241m.\u001B[39m_constructor(new_values, index\u001B[38;5;241m=\u001B[39m\u001B[38;5;28mself\u001B[39m\u001B[38;5;241m.\u001B[39mindex)\u001B[38;5;241m.\u001B[39m__finalize__(\n\u001B[1;32m   4239\u001B[0m         \u001B[38;5;28mself\u001B[39m, method\u001B[38;5;241m=\u001B[39m\u001B[38;5;124m\"\u001B[39m\u001B[38;5;124mmap\u001B[39m\u001B[38;5;124m\"\u001B[39m\n\u001B[1;32m   4240\u001B[0m     )\n",
      "File \u001B[0;32m~/opt/anaconda3/lib/python3.8/site-packages/pandas/core/base.py:880\u001B[0m, in \u001B[0;36mIndexOpsMixin._map_values\u001B[0;34m(self, mapper, na_action)\u001B[0m\n\u001B[1;32m    877\u001B[0m         \u001B[38;5;28;01mraise\u001B[39;00m \u001B[38;5;167;01mValueError\u001B[39;00m(msg)\n\u001B[1;32m    879\u001B[0m \u001B[38;5;66;03m# mapper is a function\u001B[39;00m\n\u001B[0;32m--> 880\u001B[0m new_values \u001B[38;5;241m=\u001B[39m \u001B[43mmap_f\u001B[49m\u001B[43m(\u001B[49m\u001B[43mvalues\u001B[49m\u001B[43m,\u001B[49m\u001B[43m \u001B[49m\u001B[43mmapper\u001B[49m\u001B[43m)\u001B[49m\n\u001B[1;32m    882\u001B[0m \u001B[38;5;28;01mreturn\u001B[39;00m new_values\n",
      "File \u001B[0;32m~/opt/anaconda3/lib/python3.8/site-packages/pandas/_libs/lib.pyx:2870\u001B[0m, in \u001B[0;36mpandas._libs.lib.map_infer\u001B[0;34m()\u001B[0m\n",
      "Input \u001B[0;32mIn [5]\u001B[0m, in \u001B[0;36m<lambda>\u001B[0;34m(x)\u001B[0m\n\u001B[1;32m      1\u001B[0m \u001B[38;5;66;03m# 手动去掉北京品牌中的多余字\u001B[39;00m\n\u001B[1;32m      2\u001B[0m df_p[\u001B[38;5;124m'\u001B[39m\u001B[38;5;124mbrand\u001B[39m\u001B[38;5;124m'\u001B[39m]\u001B[38;5;241m=\u001B[39mdf_p[\u001B[38;5;124m'\u001B[39m\u001B[38;5;124mbrand\u001B[39m\u001B[38;5;124m'\u001B[39m]\u001B[38;5;241m.\u001B[39mmap(\n\u001B[0;32m----> 3\u001B[0m      \u001B[38;5;28;01mlambda\u001B[39;00m x: \u001B[43mre\u001B[49m\u001B[38;5;241;43m.\u001B[39;49m\u001B[43msub\u001B[49m\u001B[43m(\u001B[49m\u001B[38;5;124;43mr\u001B[39;49m\u001B[38;5;124;43m'\u001B[39;49m\u001B[38;5;124;43m[级系]+\u001B[39;49m\u001B[38;5;124;43m'\u001B[39;49m\u001B[43m,\u001B[49m\u001B[38;5;124;43m'\u001B[39;49m\u001B[38;5;124;43m'\u001B[39;49m\u001B[43m,\u001B[49m\u001B[43m \u001B[49m\u001B[43mx\u001B[49m\u001B[43m)\u001B[49m)\u001B[38;5;241m.\u001B[39mmap(\n\u001B[1;32m      4\u001B[0m      \u001B[38;5;28;01mlambda\u001B[39;00m x: re\u001B[38;5;241m.\u001B[39msub(\u001B[38;5;124mr\u001B[39m\u001B[38;5;124m'\u001B[39m\u001B[38;5;124m(风光)|(风行)|(风神)|(小康)|(EV)|(新能源)|(黑猫)|(传祺)|(欧尚)|(罗密欧)|(2多功能旅行车)|(2旅行车)|(ID.)|(e:)|(G列)|(大狗)|(初恋)|(EZS纯电动)|(跨越)|(白猫)|(蚂蚁)|(好猫)|(精灵#)|(轻型车)|(原力版)|(神兽)|(赤兔)|(CRV)|(UX)|(T300)|(Panamera)|(S90)|(UNIK)|(DX3)|(HS)|(XC60)|(A6L)|(X40)|(C30)\u001B[39m\u001B[38;5;124m'\u001B[39m,\u001B[38;5;124m'\u001B[39m\u001B[38;5;124m'\u001B[39m, x))\u001B[38;5;241m.\u001B[39mmap(\n\u001B[1;32m      5\u001B[0m      \u001B[38;5;28;01mlambda\u001B[39;00m x: re\u001B[38;5;241m.\u001B[39msub(\u001B[38;5;124mr\u001B[39m\u001B[38;5;124m'\u001B[39m\u001B[38;5;124m(启辰大|启辰星)\u001B[39m\u001B[38;5;124m'\u001B[39m,\u001B[38;5;124m'\u001B[39m\u001B[38;5;124m启辰\u001B[39m\u001B[38;5;124m'\u001B[39m, x))\u001B[38;5;241m.\u001B[39mmap(\n\u001B[1;32m      6\u001B[0m      \u001B[38;5;28;01mlambda\u001B[39;00m x: re\u001B[38;5;241m.\u001B[39msub(\u001B[38;5;124mr\u001B[39m\u001B[38;5;124m'\u001B[39m\u001B[38;5;124m(BEIJING汽车)\u001B[39m\u001B[38;5;124m'\u001B[39m,\u001B[38;5;124m'\u001B[39m\u001B[38;5;124m北京汽车\u001B[39m\u001B[38;5;124m'\u001B[39m, x))\u001B[38;5;241m.\u001B[39mmap(\n\u001B[1;32m      7\u001B[0m      \u001B[38;5;28;01mlambda\u001B[39;00m x: re\u001B[38;5;241m.\u001B[39msub(\u001B[38;5;124mr\u001B[39m\u001B[38;5;124m'\u001B[39m\u001B[38;5;124m(奔驰E)|(奔驰B)|(奔驰S)|(奔驰GLA)|(奔驰A)|(奔驰V)|(奔驰GLS)|(奔驰SLK)|(奔驰CLA)|(奔驰GLE)|(奔驰GLC)|(奔驰GLK)|(奔驰CLS)|(奔驰LC)|(奔驰R)|(奔驰C)\u001B[39m\u001B[38;5;124m'\u001B[39m,\u001B[38;5;124m'\u001B[39m\u001B[38;5;124m奔驰\u001B[39m\u001B[38;5;124m'\u001B[39m, x))\u001B[38;5;241m.\u001B[39mmap(\n\u001B[1;32m      8\u001B[0m       \u001B[38;5;28;01mlambda\u001B[39;00m x: re\u001B[38;5;241m.\u001B[39msub(\u001B[38;5;124mr\u001B[39m\u001B[38;5;124m'\u001B[39m\u001B[38;5;124m(领克01)|(领克06)|(领克05)|(领克09)\u001B[39m\u001B[38;5;124m'\u001B[39m,\u001B[38;5;124m'\u001B[39m\u001B[38;5;124m领克\u001B[39m\u001B[38;5;124m'\u001B[39m, x))\u001B[38;5;241m.\u001B[39mmap(\n\u001B[1;32m      9\u001B[0m       \u001B[38;5;28;01mlambda\u001B[39;00m x: re\u001B[38;5;241m.\u001B[39msub(\u001B[38;5;124mr\u001B[39m\u001B[38;5;124m'\u001B[39m\u001B[38;5;124m(宝马5)|(宝马2)|(宝马1)|(宝马X1新能源)|(宝马4)|(宝马X5)|(宝马7)|(宝马6)|(宝马3)|(宝马X1)\u001B[39m\u001B[38;5;124m'\u001B[39m,\u001B[38;5;124m'\u001B[39m\u001B[38;5;124m宝马\u001B[39m\u001B[38;5;124m'\u001B[39m, x))\u001B[38;5;241m.\u001B[39mmap(\n\u001B[1;32m     10\u001B[0m       \u001B[38;5;28;01mlambda\u001B[39;00m x: re\u001B[38;5;241m.\u001B[39msub(\u001B[38;5;124mr\u001B[39m\u001B[38;5;124m'\u001B[39m\u001B[38;5;124m(日产)\u001B[39m\u001B[38;5;124m'\u001B[39m,\u001B[38;5;124m'\u001B[39m\u001B[38;5;124m东风日产\u001B[39m\u001B[38;5;124m'\u001B[39m, x))\n",
      "File \u001B[0;32m~/opt/anaconda3/lib/python3.8/re.py:210\u001B[0m, in \u001B[0;36msub\u001B[0;34m(pattern, repl, string, count, flags)\u001B[0m\n\u001B[1;32m    203\u001B[0m \u001B[38;5;28;01mdef\u001B[39;00m \u001B[38;5;21msub\u001B[39m(pattern, repl, string, count\u001B[38;5;241m=\u001B[39m\u001B[38;5;241m0\u001B[39m, flags\u001B[38;5;241m=\u001B[39m\u001B[38;5;241m0\u001B[39m):\n\u001B[1;32m    204\u001B[0m     \u001B[38;5;124;03m\"\"\"Return the string obtained by replacing the leftmost\u001B[39;00m\n\u001B[1;32m    205\u001B[0m \u001B[38;5;124;03m    non-overlapping occurrences of the pattern in string by the\u001B[39;00m\n\u001B[1;32m    206\u001B[0m \u001B[38;5;124;03m    replacement repl.  repl can be either a string or a callable;\u001B[39;00m\n\u001B[1;32m    207\u001B[0m \u001B[38;5;124;03m    if a string, backslash escapes in it are processed.  If it is\u001B[39;00m\n\u001B[1;32m    208\u001B[0m \u001B[38;5;124;03m    a callable, it's passed the Match object and must return\u001B[39;00m\n\u001B[1;32m    209\u001B[0m \u001B[38;5;124;03m    a replacement string to be used.\"\"\"\u001B[39;00m\n\u001B[0;32m--> 210\u001B[0m     \u001B[38;5;28;01mreturn\u001B[39;00m \u001B[43m_compile\u001B[49m\u001B[43m(\u001B[49m\u001B[43mpattern\u001B[49m\u001B[43m,\u001B[49m\u001B[43m \u001B[49m\u001B[43mflags\u001B[49m\u001B[43m)\u001B[49m\u001B[38;5;241;43m.\u001B[39;49m\u001B[43msub\u001B[49m\u001B[43m(\u001B[49m\u001B[43mrepl\u001B[49m\u001B[43m,\u001B[49m\u001B[43m \u001B[49m\u001B[43mstring\u001B[49m\u001B[43m,\u001B[49m\u001B[43m \u001B[49m\u001B[43mcount\u001B[49m\u001B[43m)\u001B[49m\n",
      "\u001B[0;31mTypeError\u001B[0m: expected string or bytes-like object"
     ]
    }
   ],
   "source": [
    "# 手动去掉北京品牌中的多余字\n",
    "df_p['brand']=df_p['brand'].map(\n",
    "     lambda x: re.sub(r'[级系]+','', x)).map(\n",
    "     lambda x: re.sub(r'(风光)|(风行)|(风神)|(小康)|(EV)|(新能源)|(黑猫)|(传祺)|(欧尚)|(罗密欧)|(2多功能旅行车)|(2旅行车)|(ID.)|(e:)|(G列)|(大狗)|(初恋)|(EZS纯电动)|(跨越)|(白猫)|(蚂蚁)|(好猫)|(精灵#)|(轻型车)|(原力版)|(神兽)|(赤兔)|(CRV)|(UX)|(T300)|(Panamera)|(S90)|(UNIK)|(DX3)|(HS)|(XC60)|(A6L)|(X40)|(C30)','', x)).map(\n",
    "     lambda x: re.sub(r'(启辰大|启辰星)','启辰', x)).map(\n",
    "     lambda x: re.sub(r'(BEIJING汽车)','北京汽车', x)).map(\n",
    "     lambda x: re.sub(r'(奔驰E)|(奔驰B)|(奔驰S)|(奔驰GLA)|(奔驰A)|(奔驰V)|(奔驰GLS)|(奔驰SLK)|(奔驰CLA)|(奔驰GLE)|(奔驰GLC)|(奔驰GLK)|(奔驰CLS)|(奔驰LC)|(奔驰R)|(奔驰C)','奔驰', x)).map(\n",
    "      lambda x: re.sub(r'(领克01)|(领克06)|(领克05)|(领克09)','领克', x)).map(\n",
    "      lambda x: re.sub(r'(宝马5)|(宝马2)|(宝马1)|(宝马X1新能源)|(宝马4)|(宝马X5)|(宝马7)|(宝马6)|(宝马3)|(宝马X1)','宝马', x)).map(\n",
    "      lambda x: re.sub(r'(日产)','东风日产', x))"
   ],
   "metadata": {
    "collapsed": false,
    "pycharm": {
     "name": "#%%\n"
    }
   }
  },
  {
   "cell_type": "code",
   "execution_count": 3,
   "outputs": [
    {
     "ename": "TypeError",
     "evalue": "expected string or bytes-like object",
     "output_type": "error",
     "traceback": [
      "\u001B[0;31m---------------------------------------------------------------------------\u001B[0m",
      "\u001B[0;31mTypeError\u001B[0m                                 Traceback (most recent call last)",
      "Input \u001B[0;32mIn [3]\u001B[0m, in \u001B[0;36m<cell line: 1>\u001B[0;34m()\u001B[0m\n\u001B[0;32m----> 1\u001B[0m df_p[\u001B[38;5;124m'\u001B[39m\u001B[38;5;124mbrand\u001B[39m\u001B[38;5;124m'\u001B[39m]\u001B[38;5;241m=\u001B[39m\u001B[43mdf_p\u001B[49m\u001B[43m[\u001B[49m\u001B[38;5;124;43m'\u001B[39;49m\u001B[38;5;124;43mbrand\u001B[39;49m\u001B[38;5;124;43m'\u001B[39;49m\u001B[43m]\u001B[49m\u001B[38;5;241;43m.\u001B[39;49m\u001B[43mmap\u001B[49m\u001B[43m(\u001B[49m\u001B[38;5;28;43;01mlambda\u001B[39;49;00m\u001B[43m \u001B[49m\u001B[43mx\u001B[49m\u001B[43m:\u001B[49m\u001B[43m \u001B[49m\u001B[43mre\u001B[49m\u001B[38;5;241;43m.\u001B[39;49m\u001B[43msub\u001B[49m\u001B[43m(\u001B[49m\u001B[38;5;124;43mr\u001B[39;49m\u001B[38;5;124;43m'\u001B[39;49m\u001B[38;5;124;43m(日产)\u001B[39;49m\u001B[38;5;124;43m'\u001B[39;49m\u001B[43m,\u001B[49m\u001B[38;5;124;43m'\u001B[39;49m\u001B[38;5;124;43m东风日产\u001B[39;49m\u001B[38;5;124;43m'\u001B[39;49m\u001B[43m,\u001B[49m\u001B[43m \u001B[49m\u001B[43mx\u001B[49m\u001B[43m)\u001B[49m\u001B[43m)\u001B[49m\n",
      "File \u001B[0;32m~/opt/anaconda3/lib/python3.8/site-packages/pandas/core/series.py:4237\u001B[0m, in \u001B[0;36mSeries.map\u001B[0;34m(self, arg, na_action)\u001B[0m\n\u001B[1;32m   4162\u001B[0m \u001B[38;5;28;01mdef\u001B[39;00m \u001B[38;5;21mmap\u001B[39m(\u001B[38;5;28mself\u001B[39m, arg, na_action\u001B[38;5;241m=\u001B[39m\u001B[38;5;28;01mNone\u001B[39;00m) \u001B[38;5;241m-\u001B[39m\u001B[38;5;241m>\u001B[39m Series:\n\u001B[1;32m   4163\u001B[0m     \u001B[38;5;124;03m\"\"\"\u001B[39;00m\n\u001B[1;32m   4164\u001B[0m \u001B[38;5;124;03m    Map values of Series according to an input mapping or function.\u001B[39;00m\n\u001B[1;32m   4165\u001B[0m \n\u001B[0;32m   (...)\u001B[0m\n\u001B[1;32m   4235\u001B[0m \u001B[38;5;124;03m    dtype: object\u001B[39;00m\n\u001B[1;32m   4236\u001B[0m \u001B[38;5;124;03m    \"\"\"\u001B[39;00m\n\u001B[0;32m-> 4237\u001B[0m     new_values \u001B[38;5;241m=\u001B[39m \u001B[38;5;28;43mself\u001B[39;49m\u001B[38;5;241;43m.\u001B[39;49m\u001B[43m_map_values\u001B[49m\u001B[43m(\u001B[49m\u001B[43marg\u001B[49m\u001B[43m,\u001B[49m\u001B[43m \u001B[49m\u001B[43mna_action\u001B[49m\u001B[38;5;241;43m=\u001B[39;49m\u001B[43mna_action\u001B[49m\u001B[43m)\u001B[49m\n\u001B[1;32m   4238\u001B[0m     \u001B[38;5;28;01mreturn\u001B[39;00m \u001B[38;5;28mself\u001B[39m\u001B[38;5;241m.\u001B[39m_constructor(new_values, index\u001B[38;5;241m=\u001B[39m\u001B[38;5;28mself\u001B[39m\u001B[38;5;241m.\u001B[39mindex)\u001B[38;5;241m.\u001B[39m__finalize__(\n\u001B[1;32m   4239\u001B[0m         \u001B[38;5;28mself\u001B[39m, method\u001B[38;5;241m=\u001B[39m\u001B[38;5;124m\"\u001B[39m\u001B[38;5;124mmap\u001B[39m\u001B[38;5;124m\"\u001B[39m\n\u001B[1;32m   4240\u001B[0m     )\n",
      "File \u001B[0;32m~/opt/anaconda3/lib/python3.8/site-packages/pandas/core/base.py:880\u001B[0m, in \u001B[0;36mIndexOpsMixin._map_values\u001B[0;34m(self, mapper, na_action)\u001B[0m\n\u001B[1;32m    877\u001B[0m         \u001B[38;5;28;01mraise\u001B[39;00m \u001B[38;5;167;01mValueError\u001B[39;00m(msg)\n\u001B[1;32m    879\u001B[0m \u001B[38;5;66;03m# mapper is a function\u001B[39;00m\n\u001B[0;32m--> 880\u001B[0m new_values \u001B[38;5;241m=\u001B[39m \u001B[43mmap_f\u001B[49m\u001B[43m(\u001B[49m\u001B[43mvalues\u001B[49m\u001B[43m,\u001B[49m\u001B[43m \u001B[49m\u001B[43mmapper\u001B[49m\u001B[43m)\u001B[49m\n\u001B[1;32m    882\u001B[0m \u001B[38;5;28;01mreturn\u001B[39;00m new_values\n",
      "File \u001B[0;32m~/opt/anaconda3/lib/python3.8/site-packages/pandas/_libs/lib.pyx:2870\u001B[0m, in \u001B[0;36mpandas._libs.lib.map_infer\u001B[0;34m()\u001B[0m\n",
      "Input \u001B[0;32mIn [3]\u001B[0m, in \u001B[0;36m<lambda>\u001B[0;34m(x)\u001B[0m\n\u001B[0;32m----> 1\u001B[0m df_p[\u001B[38;5;124m'\u001B[39m\u001B[38;5;124mbrand\u001B[39m\u001B[38;5;124m'\u001B[39m]\u001B[38;5;241m=\u001B[39mdf_p[\u001B[38;5;124m'\u001B[39m\u001B[38;5;124mbrand\u001B[39m\u001B[38;5;124m'\u001B[39m]\u001B[38;5;241m.\u001B[39mmap(\u001B[38;5;28;01mlambda\u001B[39;00m x: \u001B[43mre\u001B[49m\u001B[38;5;241;43m.\u001B[39;49m\u001B[43msub\u001B[49m\u001B[43m(\u001B[49m\u001B[38;5;124;43mr\u001B[39;49m\u001B[38;5;124;43m'\u001B[39;49m\u001B[38;5;124;43m(日产)\u001B[39;49m\u001B[38;5;124;43m'\u001B[39;49m\u001B[43m,\u001B[49m\u001B[38;5;124;43m'\u001B[39;49m\u001B[38;5;124;43m东风日产\u001B[39;49m\u001B[38;5;124;43m'\u001B[39;49m\u001B[43m,\u001B[49m\u001B[43m \u001B[49m\u001B[43mx\u001B[49m\u001B[43m)\u001B[49m)\n",
      "File \u001B[0;32m~/opt/anaconda3/lib/python3.8/re.py:210\u001B[0m, in \u001B[0;36msub\u001B[0;34m(pattern, repl, string, count, flags)\u001B[0m\n\u001B[1;32m    203\u001B[0m \u001B[38;5;28;01mdef\u001B[39;00m \u001B[38;5;21msub\u001B[39m(pattern, repl, string, count\u001B[38;5;241m=\u001B[39m\u001B[38;5;241m0\u001B[39m, flags\u001B[38;5;241m=\u001B[39m\u001B[38;5;241m0\u001B[39m):\n\u001B[1;32m    204\u001B[0m     \u001B[38;5;124;03m\"\"\"Return the string obtained by replacing the leftmost\u001B[39;00m\n\u001B[1;32m    205\u001B[0m \u001B[38;5;124;03m    non-overlapping occurrences of the pattern in string by the\u001B[39;00m\n\u001B[1;32m    206\u001B[0m \u001B[38;5;124;03m    replacement repl.  repl can be either a string or a callable;\u001B[39;00m\n\u001B[1;32m    207\u001B[0m \u001B[38;5;124;03m    if a string, backslash escapes in it are processed.  If it is\u001B[39;00m\n\u001B[1;32m    208\u001B[0m \u001B[38;5;124;03m    a callable, it's passed the Match object and must return\u001B[39;00m\n\u001B[1;32m    209\u001B[0m \u001B[38;5;124;03m    a replacement string to be used.\"\"\"\u001B[39;00m\n\u001B[0;32m--> 210\u001B[0m     \u001B[38;5;28;01mreturn\u001B[39;00m \u001B[43m_compile\u001B[49m\u001B[43m(\u001B[49m\u001B[43mpattern\u001B[49m\u001B[43m,\u001B[49m\u001B[43m \u001B[49m\u001B[43mflags\u001B[49m\u001B[43m)\u001B[49m\u001B[38;5;241;43m.\u001B[39;49m\u001B[43msub\u001B[49m\u001B[43m(\u001B[49m\u001B[43mrepl\u001B[49m\u001B[43m,\u001B[49m\u001B[43m \u001B[49m\u001B[43mstring\u001B[49m\u001B[43m,\u001B[49m\u001B[43m \u001B[49m\u001B[43mcount\u001B[49m\u001B[43m)\u001B[49m\n",
      "\u001B[0;31mTypeError\u001B[0m: expected string or bytes-like object"
     ]
    }
   ],
   "source": [
    "df_p['brand']=df_p['brand'].map(lambda x: re.sub(r'(日产)','东风日产', x))"
   ],
   "metadata": {
    "collapsed": false,
    "pycharm": {
     "name": "#%%\n"
    }
   }
  },
  {
   "cell_type": "code",
   "execution_count": 45,
   "outputs": [
    {
     "ename": "TypeError",
     "evalue": "expected string or bytes-like object",
     "output_type": "error",
     "traceback": [
      "\u001B[0;31m---------------------------------------------------------------------------\u001B[0m",
      "\u001B[0;31mTypeError\u001B[0m                                 Traceback (most recent call last)",
      "Input \u001B[0;32mIn [45]\u001B[0m, in \u001B[0;36m<cell line: 1>\u001B[0;34m()\u001B[0m\n\u001B[0;32m----> 1\u001B[0m df_e[\u001B[38;5;124m'\u001B[39m\u001B[38;5;124mbrand\u001B[39m\u001B[38;5;124m'\u001B[39m]\u001B[38;5;241m=\u001B[39m\u001B[43mdf_e\u001B[49m\u001B[43m[\u001B[49m\u001B[38;5;124;43m'\u001B[39;49m\u001B[38;5;124;43mbrand\u001B[39;49m\u001B[38;5;124;43m'\u001B[39;49m\u001B[43m]\u001B[49m\u001B[38;5;241;43m.\u001B[39;49m\u001B[43mmap\u001B[49m\u001B[43m(\u001B[49m\u001B[38;5;28;43;01mlambda\u001B[39;49;00m\u001B[43m \u001B[49m\u001B[43mx\u001B[49m\u001B[43m:\u001B[49m\u001B[43m \u001B[49m\u001B[43mre\u001B[49m\u001B[38;5;241;43m.\u001B[39;49m\u001B[43msub\u001B[49m\u001B[43m(\u001B[49m\u001B[38;5;124;43mr\u001B[39;49m\u001B[38;5;124;43m'\u001B[39;49m\u001B[38;5;124;43m(日产)\u001B[39;49m\u001B[38;5;124;43m'\u001B[39;49m\u001B[43m,\u001B[49m\u001B[38;5;124;43m'\u001B[39;49m\u001B[38;5;124;43m东风日产\u001B[39;49m\u001B[38;5;124;43m'\u001B[39;49m\u001B[43m,\u001B[49m\u001B[43m \u001B[49m\u001B[43mx\u001B[49m\u001B[43m)\u001B[49m\u001B[43m)\u001B[49m\n",
      "File \u001B[0;32m~/opt/anaconda3/lib/python3.8/site-packages/pandas/core/series.py:4237\u001B[0m, in \u001B[0;36mSeries.map\u001B[0;34m(self, arg, na_action)\u001B[0m\n\u001B[1;32m   4162\u001B[0m \u001B[38;5;28;01mdef\u001B[39;00m \u001B[38;5;21mmap\u001B[39m(\u001B[38;5;28mself\u001B[39m, arg, na_action\u001B[38;5;241m=\u001B[39m\u001B[38;5;28;01mNone\u001B[39;00m) \u001B[38;5;241m-\u001B[39m\u001B[38;5;241m>\u001B[39m Series:\n\u001B[1;32m   4163\u001B[0m     \u001B[38;5;124;03m\"\"\"\u001B[39;00m\n\u001B[1;32m   4164\u001B[0m \u001B[38;5;124;03m    Map values of Series according to an input mapping or function.\u001B[39;00m\n\u001B[1;32m   4165\u001B[0m \n\u001B[0;32m   (...)\u001B[0m\n\u001B[1;32m   4235\u001B[0m \u001B[38;5;124;03m    dtype: object\u001B[39;00m\n\u001B[1;32m   4236\u001B[0m \u001B[38;5;124;03m    \"\"\"\u001B[39;00m\n\u001B[0;32m-> 4237\u001B[0m     new_values \u001B[38;5;241m=\u001B[39m \u001B[38;5;28;43mself\u001B[39;49m\u001B[38;5;241;43m.\u001B[39;49m\u001B[43m_map_values\u001B[49m\u001B[43m(\u001B[49m\u001B[43marg\u001B[49m\u001B[43m,\u001B[49m\u001B[43m \u001B[49m\u001B[43mna_action\u001B[49m\u001B[38;5;241;43m=\u001B[39;49m\u001B[43mna_action\u001B[49m\u001B[43m)\u001B[49m\n\u001B[1;32m   4238\u001B[0m     \u001B[38;5;28;01mreturn\u001B[39;00m \u001B[38;5;28mself\u001B[39m\u001B[38;5;241m.\u001B[39m_constructor(new_values, index\u001B[38;5;241m=\u001B[39m\u001B[38;5;28mself\u001B[39m\u001B[38;5;241m.\u001B[39mindex)\u001B[38;5;241m.\u001B[39m__finalize__(\n\u001B[1;32m   4239\u001B[0m         \u001B[38;5;28mself\u001B[39m, method\u001B[38;5;241m=\u001B[39m\u001B[38;5;124m\"\u001B[39m\u001B[38;5;124mmap\u001B[39m\u001B[38;5;124m\"\u001B[39m\n\u001B[1;32m   4240\u001B[0m     )\n",
      "File \u001B[0;32m~/opt/anaconda3/lib/python3.8/site-packages/pandas/core/base.py:880\u001B[0m, in \u001B[0;36mIndexOpsMixin._map_values\u001B[0;34m(self, mapper, na_action)\u001B[0m\n\u001B[1;32m    877\u001B[0m         \u001B[38;5;28;01mraise\u001B[39;00m \u001B[38;5;167;01mValueError\u001B[39;00m(msg)\n\u001B[1;32m    879\u001B[0m \u001B[38;5;66;03m# mapper is a function\u001B[39;00m\n\u001B[0;32m--> 880\u001B[0m new_values \u001B[38;5;241m=\u001B[39m \u001B[43mmap_f\u001B[49m\u001B[43m(\u001B[49m\u001B[43mvalues\u001B[49m\u001B[43m,\u001B[49m\u001B[43m \u001B[49m\u001B[43mmapper\u001B[49m\u001B[43m)\u001B[49m\n\u001B[1;32m    882\u001B[0m \u001B[38;5;28;01mreturn\u001B[39;00m new_values\n",
      "File \u001B[0;32m~/opt/anaconda3/lib/python3.8/site-packages/pandas/_libs/lib.pyx:2870\u001B[0m, in \u001B[0;36mpandas._libs.lib.map_infer\u001B[0;34m()\u001B[0m\n",
      "Input \u001B[0;32mIn [45]\u001B[0m, in \u001B[0;36m<lambda>\u001B[0;34m(x)\u001B[0m\n\u001B[0;32m----> 1\u001B[0m df_e[\u001B[38;5;124m'\u001B[39m\u001B[38;5;124mbrand\u001B[39m\u001B[38;5;124m'\u001B[39m]\u001B[38;5;241m=\u001B[39mdf_e[\u001B[38;5;124m'\u001B[39m\u001B[38;5;124mbrand\u001B[39m\u001B[38;5;124m'\u001B[39m]\u001B[38;5;241m.\u001B[39mmap(\u001B[38;5;28;01mlambda\u001B[39;00m x: \u001B[43mre\u001B[49m\u001B[38;5;241;43m.\u001B[39;49m\u001B[43msub\u001B[49m\u001B[43m(\u001B[49m\u001B[38;5;124;43mr\u001B[39;49m\u001B[38;5;124;43m'\u001B[39;49m\u001B[38;5;124;43m(日产)\u001B[39;49m\u001B[38;5;124;43m'\u001B[39;49m\u001B[43m,\u001B[49m\u001B[38;5;124;43m'\u001B[39;49m\u001B[38;5;124;43m东风日产\u001B[39;49m\u001B[38;5;124;43m'\u001B[39;49m\u001B[43m,\u001B[49m\u001B[43m \u001B[49m\u001B[43mx\u001B[49m\u001B[43m)\u001B[49m)\n",
      "File \u001B[0;32m~/opt/anaconda3/lib/python3.8/re.py:210\u001B[0m, in \u001B[0;36msub\u001B[0;34m(pattern, repl, string, count, flags)\u001B[0m\n\u001B[1;32m    203\u001B[0m \u001B[38;5;28;01mdef\u001B[39;00m \u001B[38;5;21msub\u001B[39m(pattern, repl, string, count\u001B[38;5;241m=\u001B[39m\u001B[38;5;241m0\u001B[39m, flags\u001B[38;5;241m=\u001B[39m\u001B[38;5;241m0\u001B[39m):\n\u001B[1;32m    204\u001B[0m     \u001B[38;5;124;03m\"\"\"Return the string obtained by replacing the leftmost\u001B[39;00m\n\u001B[1;32m    205\u001B[0m \u001B[38;5;124;03m    non-overlapping occurrences of the pattern in string by the\u001B[39;00m\n\u001B[1;32m    206\u001B[0m \u001B[38;5;124;03m    replacement repl.  repl can be either a string or a callable;\u001B[39;00m\n\u001B[1;32m    207\u001B[0m \u001B[38;5;124;03m    if a string, backslash escapes in it are processed.  If it is\u001B[39;00m\n\u001B[1;32m    208\u001B[0m \u001B[38;5;124;03m    a callable, it's passed the Match object and must return\u001B[39;00m\n\u001B[1;32m    209\u001B[0m \u001B[38;5;124;03m    a replacement string to be used.\"\"\"\u001B[39;00m\n\u001B[0;32m--> 210\u001B[0m     \u001B[38;5;28;01mreturn\u001B[39;00m \u001B[43m_compile\u001B[49m\u001B[43m(\u001B[49m\u001B[43mpattern\u001B[49m\u001B[43m,\u001B[49m\u001B[43m \u001B[49m\u001B[43mflags\u001B[49m\u001B[43m)\u001B[49m\u001B[38;5;241;43m.\u001B[39;49m\u001B[43msub\u001B[49m\u001B[43m(\u001B[49m\u001B[43mrepl\u001B[49m\u001B[43m,\u001B[49m\u001B[43m \u001B[49m\u001B[43mstring\u001B[49m\u001B[43m,\u001B[49m\u001B[43m \u001B[49m\u001B[43mcount\u001B[49m\u001B[43m)\u001B[49m\n",
      "\u001B[0;31mTypeError\u001B[0m: expected string or bytes-like object"
     ]
    }
   ],
   "source": [
    "df_e['brand']=df_e['brand'].map(lambda x: re.sub(r'(日产)','东风日产', x))\n"
   ],
   "metadata": {
    "collapsed": false,
    "pycharm": {
     "name": "#%%\n"
    }
   }
  },
  {
   "cell_type": "code",
   "execution_count": 46,
   "outputs": [],
   "source": [
    "df_m['brand']=df_m['brand'].map(lambda x: re.sub(r'(日产)','东风日产', x))"
   ],
   "metadata": {
    "collapsed": false,
    "pycharm": {
     "name": "#%%\n"
    }
   }
  },
  {
   "cell_type": "code",
   "execution_count": null,
   "outputs": [],
   "source": [
    "# 写文件\n",
    "def write_xlsx(df,path, sheetName):\n",
    "    writer = pd.ExcelWriter(path, engine='openpyxl',mode='a', if_sheet_exists=\"overlay\")\n",
    "    df.to_excel(writer, sheet_name=sheetName)\n",
    "    writer.close()\n",
    "\n",
    "# 写入同一个文件三张表\n",
    "path = '../data/cleaneddata/cleaned_car_v1.xlsx'\n",
    "pd.DataFrame().to_excel(path,sheet_name='total') # 先创建文件\n",
    "write_xlsx(df_p,path,'petrol')\n",
    "write_xlsx(df_e, path,'electric')\n",
    "write_xlsx(df_m,path,'mixed')"
   ],
   "metadata": {
    "collapsed": false,
    "pycharm": {
     "name": "#%%\n"
    }
   }
  }
 ],
 "metadata": {
  "kernelspec": {
   "display_name": "Python 3 (ipykernel)",
   "language": "python",
   "name": "python3"
  },
  "language_info": {
   "codemirror_mode": {
    "name": "ipython",
    "version": 3
   },
   "file_extension": ".py",
   "mimetype": "text/x-python",
   "name": "python",
   "nbconvert_exporter": "python",
   "pygments_lexer": "ipython3",
   "version": "3.10.6"
  },
  "toc": {
   "base_numbering": 1,
   "nav_menu": {},
   "number_sections": true,
   "sideBar": true,
   "skip_h1_title": false,
   "title_cell": "Table of Contents",
   "title_sidebar": "Contents",
   "toc_cell": false,
   "toc_position": {},
   "toc_section_display": true,
   "toc_window_display": false
  },
  "vp": {
   "vp_config_version": "1.0.0",
   "vp_menu_width": 273,
   "vp_note_display": false,
   "vp_note_width": 0,
   "vp_position": {
    "width": 278
   },
   "vp_section_display": false,
   "vp_signature": "VisualPython"
  }
 },
 "nbformat": 4,
 "nbformat_minor": 5
}