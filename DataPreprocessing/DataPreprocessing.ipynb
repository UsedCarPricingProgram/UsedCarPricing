{
 "cells": [
  {
   "cell_type": "code",
   "execution_count": 319,
   "id": "c63d04a9",
   "metadata": {
    "pycharm": {
     "name": "#%%\n"
    }
   },
   "outputs": [],
   "source": [
    "#导入相关包\n",
    "import pandas as pd\n",
    "import numpy as np\n",
    "import matplotlib.pyplot as plt\n",
    "import seaborn as sns\n",
    "from datetime import datetime\n",
    "import os\n",
    "%matplotlib inline"
   ]
  },
  {
   "cell_type": "markdown",
   "source": [
    "# Data Preprocessing"
   ],
   "metadata": {
    "collapsed": false,
    "pycharm": {
     "name": "#%% md\n"
    }
   }
  },
  {
   "cell_type": "markdown",
   "source": [
    "深圳数据处理"
   ],
   "metadata": {
    "collapsed": false,
    "pycharm": {
     "name": "#%% md\n"
    }
   }
  },
  {
   "cell_type": "code",
   "execution_count": 320,
   "id": "3d001486",
   "metadata": {
    "collapsed": true,
    "pycharm": {
     "name": "#%%\n"
    }
   },
   "outputs": [
    {
     "data": {
      "text/plain": "   Unnamed: 0                         title  price  price_new date_regi  \\\n0           1        WEY VV7 2017款 2.0T 旗舰型   7.80      20.49   2017-11   \n1           2    雪佛兰 迈锐宝XL 2017款 1.5T 自动锐驰版   7.71      21.16   2017-06   \n2           3  本田XR-V 2017款 1.8L EXi CVT舒适版  10.10      16.26   2019-03   \n3           4    现代 领动 2019款 1.5L CVT智炫·精英型   7.07      13.00   2020-01   \n4           5       北汽威旺M50F 2017款 1.5L 舒适型   2.93       7.36   2017-12   \n5           6  起亚 智跑 2019款 1.4T DCT智享豪华版GLS   9.66      15.73   2019-10   \n6           8     雪佛兰 科迈罗 2017款 2.0T RS(进口)  26.60      43.41   2019-03   \n7           9      吉利汽车 远景 2018款 1.5L 手动幸福版   3.85       6.50   2019-01   \n8          10      马自达 阿特兹 2020款 2.0L 蓝天豪华版  13.80      20.60   2020-12   \n9          12        标致408 2015款 1.2T 自动豪华版   5.27      16.47   2016-11   \n\n   mileage  official_endurance standard  gearbox  num_trans  license_location  \\\n0      9.5                 NaN       国五        1          2                 0   \n1      6.5                 NaN       国五        1          1                 0   \n2      1.6                 NaN       国五        1          1                 0   \n3      5.1                 NaN      国六b        1          0                 0   \n4      6.1                 NaN       国五        0          1                 0   \n5      3.3                 NaN      国六b        1          2                 0   \n6      3.5                 NaN       国五        1          4                 0   \n7      4.2                 NaN       国五        0          1                 0   \n8      0.9                 NaN      国六b        1          3                 0   \n9      8.9                 NaN       国五        1          1                 0   \n\n   color  motor_power  battery_capacity  battery_type  energy_type  \\\n0      0          NaN               NaN           NaN            0   \n1      0          NaN               NaN           NaN            0   \n2      0          NaN               NaN           NaN            0   \n3      0          NaN               NaN           NaN            0   \n4      0          NaN               NaN           NaN            0   \n5      0          NaN               NaN           NaN            0   \n6      1          NaN               NaN           NaN            0   \n7      0          NaN               NaN           NaN            0   \n8      1          NaN               NaN           NaN            0   \n9      0          NaN               NaN           NaN            0   \n\n   displacement  keys brand city  \n0          2.80     1   WEY    2  \n1          2.10     1   雪佛兰    2  \n2          1.80     1    本田    2  \n3          1.50     1    现代    2  \n4          1.50     1  北汽威旺    2  \n5          1.96     1    起亚    2  \n6          2.80     1   雪佛兰    2  \n7          1.50     1  吉利汽车    2  \n8          2.00     2   马自达    2  \n9          1.68     1    标致    2  ",
      "text/html": "<div>\n<style scoped>\n    .dataframe tbody tr th:only-of-type {\n        vertical-align: middle;\n    }\n\n    .dataframe tbody tr th {\n        vertical-align: top;\n    }\n\n    .dataframe thead th {\n        text-align: right;\n    }\n</style>\n<table border=\"1\" class=\"dataframe\">\n  <thead>\n    <tr style=\"text-align: right;\">\n      <th></th>\n      <th>Unnamed: 0</th>\n      <th>title</th>\n      <th>price</th>\n      <th>price_new</th>\n      <th>date_regi</th>\n      <th>mileage</th>\n      <th>official_endurance</th>\n      <th>standard</th>\n      <th>gearbox</th>\n      <th>num_trans</th>\n      <th>license_location</th>\n      <th>color</th>\n      <th>motor_power</th>\n      <th>battery_capacity</th>\n      <th>battery_type</th>\n      <th>energy_type</th>\n      <th>displacement</th>\n      <th>keys</th>\n      <th>brand</th>\n      <th>city</th>\n    </tr>\n  </thead>\n  <tbody>\n    <tr>\n      <th>0</th>\n      <td>1</td>\n      <td>WEY VV7 2017款 2.0T 旗舰型</td>\n      <td>7.80</td>\n      <td>20.49</td>\n      <td>2017-11</td>\n      <td>9.5</td>\n      <td>NaN</td>\n      <td>国五</td>\n      <td>1</td>\n      <td>2</td>\n      <td>0</td>\n      <td>0</td>\n      <td>NaN</td>\n      <td>NaN</td>\n      <td>NaN</td>\n      <td>0</td>\n      <td>2.80</td>\n      <td>1</td>\n      <td>WEY</td>\n      <td>2</td>\n    </tr>\n    <tr>\n      <th>1</th>\n      <td>2</td>\n      <td>雪佛兰 迈锐宝XL 2017款 1.5T 自动锐驰版</td>\n      <td>7.71</td>\n      <td>21.16</td>\n      <td>2017-06</td>\n      <td>6.5</td>\n      <td>NaN</td>\n      <td>国五</td>\n      <td>1</td>\n      <td>1</td>\n      <td>0</td>\n      <td>0</td>\n      <td>NaN</td>\n      <td>NaN</td>\n      <td>NaN</td>\n      <td>0</td>\n      <td>2.10</td>\n      <td>1</td>\n      <td>雪佛兰</td>\n      <td>2</td>\n    </tr>\n    <tr>\n      <th>2</th>\n      <td>3</td>\n      <td>本田XR-V 2017款 1.8L EXi CVT舒适版</td>\n      <td>10.10</td>\n      <td>16.26</td>\n      <td>2019-03</td>\n      <td>1.6</td>\n      <td>NaN</td>\n      <td>国五</td>\n      <td>1</td>\n      <td>1</td>\n      <td>0</td>\n      <td>0</td>\n      <td>NaN</td>\n      <td>NaN</td>\n      <td>NaN</td>\n      <td>0</td>\n      <td>1.80</td>\n      <td>1</td>\n      <td>本田</td>\n      <td>2</td>\n    </tr>\n    <tr>\n      <th>3</th>\n      <td>4</td>\n      <td>现代 领动 2019款 1.5L CVT智炫·精英型</td>\n      <td>7.07</td>\n      <td>13.00</td>\n      <td>2020-01</td>\n      <td>5.1</td>\n      <td>NaN</td>\n      <td>国六b</td>\n      <td>1</td>\n      <td>0</td>\n      <td>0</td>\n      <td>0</td>\n      <td>NaN</td>\n      <td>NaN</td>\n      <td>NaN</td>\n      <td>0</td>\n      <td>1.50</td>\n      <td>1</td>\n      <td>现代</td>\n      <td>2</td>\n    </tr>\n    <tr>\n      <th>4</th>\n      <td>5</td>\n      <td>北汽威旺M50F 2017款 1.5L 舒适型</td>\n      <td>2.93</td>\n      <td>7.36</td>\n      <td>2017-12</td>\n      <td>6.1</td>\n      <td>NaN</td>\n      <td>国五</td>\n      <td>0</td>\n      <td>1</td>\n      <td>0</td>\n      <td>0</td>\n      <td>NaN</td>\n      <td>NaN</td>\n      <td>NaN</td>\n      <td>0</td>\n      <td>1.50</td>\n      <td>1</td>\n      <td>北汽威旺</td>\n      <td>2</td>\n    </tr>\n    <tr>\n      <th>5</th>\n      <td>6</td>\n      <td>起亚 智跑 2019款 1.4T DCT智享豪华版GLS</td>\n      <td>9.66</td>\n      <td>15.73</td>\n      <td>2019-10</td>\n      <td>3.3</td>\n      <td>NaN</td>\n      <td>国六b</td>\n      <td>1</td>\n      <td>2</td>\n      <td>0</td>\n      <td>0</td>\n      <td>NaN</td>\n      <td>NaN</td>\n      <td>NaN</td>\n      <td>0</td>\n      <td>1.96</td>\n      <td>1</td>\n      <td>起亚</td>\n      <td>2</td>\n    </tr>\n    <tr>\n      <th>6</th>\n      <td>8</td>\n      <td>雪佛兰 科迈罗 2017款 2.0T RS(进口)</td>\n      <td>26.60</td>\n      <td>43.41</td>\n      <td>2019-03</td>\n      <td>3.5</td>\n      <td>NaN</td>\n      <td>国五</td>\n      <td>1</td>\n      <td>4</td>\n      <td>0</td>\n      <td>1</td>\n      <td>NaN</td>\n      <td>NaN</td>\n      <td>NaN</td>\n      <td>0</td>\n      <td>2.80</td>\n      <td>1</td>\n      <td>雪佛兰</td>\n      <td>2</td>\n    </tr>\n    <tr>\n      <th>7</th>\n      <td>9</td>\n      <td>吉利汽车 远景 2018款 1.5L 手动幸福版</td>\n      <td>3.85</td>\n      <td>6.50</td>\n      <td>2019-01</td>\n      <td>4.2</td>\n      <td>NaN</td>\n      <td>国五</td>\n      <td>0</td>\n      <td>1</td>\n      <td>0</td>\n      <td>0</td>\n      <td>NaN</td>\n      <td>NaN</td>\n      <td>NaN</td>\n      <td>0</td>\n      <td>1.50</td>\n      <td>1</td>\n      <td>吉利汽车</td>\n      <td>2</td>\n    </tr>\n    <tr>\n      <th>8</th>\n      <td>10</td>\n      <td>马自达 阿特兹 2020款 2.0L 蓝天豪华版</td>\n      <td>13.80</td>\n      <td>20.60</td>\n      <td>2020-12</td>\n      <td>0.9</td>\n      <td>NaN</td>\n      <td>国六b</td>\n      <td>1</td>\n      <td>3</td>\n      <td>0</td>\n      <td>1</td>\n      <td>NaN</td>\n      <td>NaN</td>\n      <td>NaN</td>\n      <td>0</td>\n      <td>2.00</td>\n      <td>2</td>\n      <td>马自达</td>\n      <td>2</td>\n    </tr>\n    <tr>\n      <th>9</th>\n      <td>12</td>\n      <td>标致408 2015款 1.2T 自动豪华版</td>\n      <td>5.27</td>\n      <td>16.47</td>\n      <td>2016-11</td>\n      <td>8.9</td>\n      <td>NaN</td>\n      <td>国五</td>\n      <td>1</td>\n      <td>1</td>\n      <td>0</td>\n      <td>0</td>\n      <td>NaN</td>\n      <td>NaN</td>\n      <td>NaN</td>\n      <td>0</td>\n      <td>1.68</td>\n      <td>1</td>\n      <td>标致</td>\n      <td>2</td>\n    </tr>\n  </tbody>\n</table>\n</div>"
     },
     "execution_count": 320,
     "metadata": {},
     "output_type": "execute_result"
    }
   ],
   "source": [
    "#读取深圳的petrol sheet\n",
    "df_petrol_2 = pd.read_excel((os.path.join(os.getcwd(),'../data/cleaneddata/cleaned_car_all_shenzhen.xlsx')),sheet_name='petrol')\n",
    "#添加数据归属城市\n",
    "#1：北京\n",
    "#2：深圳\n",
    "#3：上海\n",
    "df_petrol_2['city']='2'\n",
    "df_petrol_2.head(10)\n"
   ]
  },
  {
   "cell_type": "code",
   "execution_count": 321,
   "outputs": [
    {
     "data": {
      "text/plain": "   Unnamed: 0                                 title  price  price_new  \\\n0           7          奇瑞 小蚂蚁 2021款 15万蚁粉款 蚁炫版 磷酸铁锂   5.45       7.38   \n1          27             特斯拉 Model Y 2021款 标准续航后驱版  27.90      29.18   \n2          35               特斯拉 Model 3 2022款 后轮驱动版  22.99      29.10   \n3          36               哪吒汽车U 2021款 Pro 400 巡航版  10.25      10.98   \n4          42        特斯拉 Model Y 2021款 长续航全轮驱动版 3D7  31.30      34.79   \n5          44         欧拉好猫 2022款 400km标准续航 豪华型 磷酸铁锂  13.20      12.79   \n6          45       五菱汽车 宏光MINI EV 2021款 马卡龙臻享款 三元锂   4.15       4.36   \n7          58         几何汽车 几何C 2020款 优选续航版 400KM C+  11.80      13.98   \n8          63       哪吒汽车 哪吒V 2022款 潮 400 Lite 粉色定制款   8.16       8.79   \n9          68  广汽埃安 Aion LX(埃安LX) 2022款 PLUS 80 智尊版  22.98      28.66   \n\n  date_regi  mileage  official_endurance standard  gearbox  num_trans  \\\n0   2020-11     4.60               301.0      新能源        1          1   \n1   2021-12     1.70               525.0      新能源        1          1   \n2   2022-03     1.80               556.0      新能源        1          0   \n3   2022-01     1.30               400.0      新能源        1          0   \n4   2021-08     0.40               594.0      新能源        1          0   \n5   2022-08     0.01               401.0      新能源        1          0   \n6   2021-09     0.20               170.0      新能源        1          2   \n7   2021-05     4.60               400.0      新能源        1          1   \n8   2022-08     0.20               401.0      新能源        1          0   \n9   2022-05     0.30               650.0      新能源        1          1   \n\n   license_location  color  motor_power  battery_capacity battery_type  \\\n0                 1      1         30.0         35.000000            -   \n1                 0      0        220.0         60.000000            -   \n2                 0      0        202.0         60.000000       磷酸铁锂电池   \n3                 0      1        120.0         47.389771        三元锂电池   \n4                 0      0        331.0         76.000000            -   \n5                 0      0        105.0         47.000000       磷酸铁锂电池   \n6                 0      1         20.0         13.000000        三元锂电池   \n7                 0      1        150.0         53.000000        三元锂电池   \n8                 0      1         55.0         38.000000            -   \n9                 0      0        180.0         93.000000        三元锂电池   \n\n   energy_type  keys brand city  \n0            1     2    奇瑞    2  \n1            1     1   特斯拉    2  \n2            1     1   特斯拉    2  \n3            1     1  哪吒汽车    2  \n4            1     1   特斯拉    2  \n5            1     2    欧拉    2  \n6            1     2  五菱汽车    2  \n7            1     1  几何汽车    2  \n8            1     2  哪吒汽车    2  \n9            1     1    广汽    2  ",
      "text/html": "<div>\n<style scoped>\n    .dataframe tbody tr th:only-of-type {\n        vertical-align: middle;\n    }\n\n    .dataframe tbody tr th {\n        vertical-align: top;\n    }\n\n    .dataframe thead th {\n        text-align: right;\n    }\n</style>\n<table border=\"1\" class=\"dataframe\">\n  <thead>\n    <tr style=\"text-align: right;\">\n      <th></th>\n      <th>Unnamed: 0</th>\n      <th>title</th>\n      <th>price</th>\n      <th>price_new</th>\n      <th>date_regi</th>\n      <th>mileage</th>\n      <th>official_endurance</th>\n      <th>standard</th>\n      <th>gearbox</th>\n      <th>num_trans</th>\n      <th>license_location</th>\n      <th>color</th>\n      <th>motor_power</th>\n      <th>battery_capacity</th>\n      <th>battery_type</th>\n      <th>energy_type</th>\n      <th>keys</th>\n      <th>brand</th>\n      <th>city</th>\n    </tr>\n  </thead>\n  <tbody>\n    <tr>\n      <th>0</th>\n      <td>7</td>\n      <td>奇瑞 小蚂蚁 2021款 15万蚁粉款 蚁炫版 磷酸铁锂</td>\n      <td>5.45</td>\n      <td>7.38</td>\n      <td>2020-11</td>\n      <td>4.60</td>\n      <td>301.0</td>\n      <td>新能源</td>\n      <td>1</td>\n      <td>1</td>\n      <td>1</td>\n      <td>1</td>\n      <td>30.0</td>\n      <td>35.000000</td>\n      <td>-</td>\n      <td>1</td>\n      <td>2</td>\n      <td>奇瑞</td>\n      <td>2</td>\n    </tr>\n    <tr>\n      <th>1</th>\n      <td>27</td>\n      <td>特斯拉 Model Y 2021款 标准续航后驱版</td>\n      <td>27.90</td>\n      <td>29.18</td>\n      <td>2021-12</td>\n      <td>1.70</td>\n      <td>525.0</td>\n      <td>新能源</td>\n      <td>1</td>\n      <td>1</td>\n      <td>0</td>\n      <td>0</td>\n      <td>220.0</td>\n      <td>60.000000</td>\n      <td>-</td>\n      <td>1</td>\n      <td>1</td>\n      <td>特斯拉</td>\n      <td>2</td>\n    </tr>\n    <tr>\n      <th>2</th>\n      <td>35</td>\n      <td>特斯拉 Model 3 2022款 后轮驱动版</td>\n      <td>22.99</td>\n      <td>29.10</td>\n      <td>2022-03</td>\n      <td>1.80</td>\n      <td>556.0</td>\n      <td>新能源</td>\n      <td>1</td>\n      <td>0</td>\n      <td>0</td>\n      <td>0</td>\n      <td>202.0</td>\n      <td>60.000000</td>\n      <td>磷酸铁锂电池</td>\n      <td>1</td>\n      <td>1</td>\n      <td>特斯拉</td>\n      <td>2</td>\n    </tr>\n    <tr>\n      <th>3</th>\n      <td>36</td>\n      <td>哪吒汽车U 2021款 Pro 400 巡航版</td>\n      <td>10.25</td>\n      <td>10.98</td>\n      <td>2022-01</td>\n      <td>1.30</td>\n      <td>400.0</td>\n      <td>新能源</td>\n      <td>1</td>\n      <td>0</td>\n      <td>0</td>\n      <td>1</td>\n      <td>120.0</td>\n      <td>47.389771</td>\n      <td>三元锂电池</td>\n      <td>1</td>\n      <td>1</td>\n      <td>哪吒汽车</td>\n      <td>2</td>\n    </tr>\n    <tr>\n      <th>4</th>\n      <td>42</td>\n      <td>特斯拉 Model Y 2021款 长续航全轮驱动版 3D7</td>\n      <td>31.30</td>\n      <td>34.79</td>\n      <td>2021-08</td>\n      <td>0.40</td>\n      <td>594.0</td>\n      <td>新能源</td>\n      <td>1</td>\n      <td>0</td>\n      <td>0</td>\n      <td>0</td>\n      <td>331.0</td>\n      <td>76.000000</td>\n      <td>-</td>\n      <td>1</td>\n      <td>1</td>\n      <td>特斯拉</td>\n      <td>2</td>\n    </tr>\n    <tr>\n      <th>5</th>\n      <td>44</td>\n      <td>欧拉好猫 2022款 400km标准续航 豪华型 磷酸铁锂</td>\n      <td>13.20</td>\n      <td>12.79</td>\n      <td>2022-08</td>\n      <td>0.01</td>\n      <td>401.0</td>\n      <td>新能源</td>\n      <td>1</td>\n      <td>0</td>\n      <td>0</td>\n      <td>0</td>\n      <td>105.0</td>\n      <td>47.000000</td>\n      <td>磷酸铁锂电池</td>\n      <td>1</td>\n      <td>2</td>\n      <td>欧拉</td>\n      <td>2</td>\n    </tr>\n    <tr>\n      <th>6</th>\n      <td>45</td>\n      <td>五菱汽车 宏光MINI EV 2021款 马卡龙臻享款 三元锂</td>\n      <td>4.15</td>\n      <td>4.36</td>\n      <td>2021-09</td>\n      <td>0.20</td>\n      <td>170.0</td>\n      <td>新能源</td>\n      <td>1</td>\n      <td>2</td>\n      <td>0</td>\n      <td>1</td>\n      <td>20.0</td>\n      <td>13.000000</td>\n      <td>三元锂电池</td>\n      <td>1</td>\n      <td>2</td>\n      <td>五菱汽车</td>\n      <td>2</td>\n    </tr>\n    <tr>\n      <th>7</th>\n      <td>58</td>\n      <td>几何汽车 几何C 2020款 优选续航版 400KM C+</td>\n      <td>11.80</td>\n      <td>13.98</td>\n      <td>2021-05</td>\n      <td>4.60</td>\n      <td>400.0</td>\n      <td>新能源</td>\n      <td>1</td>\n      <td>1</td>\n      <td>0</td>\n      <td>1</td>\n      <td>150.0</td>\n      <td>53.000000</td>\n      <td>三元锂电池</td>\n      <td>1</td>\n      <td>1</td>\n      <td>几何汽车</td>\n      <td>2</td>\n    </tr>\n    <tr>\n      <th>8</th>\n      <td>63</td>\n      <td>哪吒汽车 哪吒V 2022款 潮 400 Lite 粉色定制款</td>\n      <td>8.16</td>\n      <td>8.79</td>\n      <td>2022-08</td>\n      <td>0.20</td>\n      <td>401.0</td>\n      <td>新能源</td>\n      <td>1</td>\n      <td>0</td>\n      <td>0</td>\n      <td>1</td>\n      <td>55.0</td>\n      <td>38.000000</td>\n      <td>-</td>\n      <td>1</td>\n      <td>2</td>\n      <td>哪吒汽车</td>\n      <td>2</td>\n    </tr>\n    <tr>\n      <th>9</th>\n      <td>68</td>\n      <td>广汽埃安 Aion LX(埃安LX) 2022款 PLUS 80 智尊版</td>\n      <td>22.98</td>\n      <td>28.66</td>\n      <td>2022-05</td>\n      <td>0.30</td>\n      <td>650.0</td>\n      <td>新能源</td>\n      <td>1</td>\n      <td>1</td>\n      <td>0</td>\n      <td>0</td>\n      <td>180.0</td>\n      <td>93.000000</td>\n      <td>三元锂电池</td>\n      <td>1</td>\n      <td>1</td>\n      <td>广汽</td>\n      <td>2</td>\n    </tr>\n  </tbody>\n</table>\n</div>"
     },
     "execution_count": 321,
     "metadata": {},
     "output_type": "execute_result"
    }
   ],
   "source": [
    "#读取深圳的electric sheet\n",
    "df_electric_2 = pd.read_excel('../data/cleaneddata/cleaned_car_all_shenzhen.xlsx',sheet_name='electric')\n",
    "df_electric_2.head(10)\n",
    "df_electric_2['city']='2'\n",
    "df_electric_2.head(10)"
   ],
   "metadata": {
    "collapsed": false,
    "pycharm": {
     "name": "#%%\n"
    }
   }
  },
  {
   "cell_type": "code",
   "execution_count": 322,
   "outputs": [
    {
     "data": {
      "text/plain": "   Unnamed: 0                                        title  price  price_new  \\\n0           0                     荣威e950 2017款 50T 混动互联行政版  11.56      27.78   \n1          11  吉利汽车 帝豪L 雷神Hi·X 2022款 1.5TD-DHT Pro Super 迅  12.42      14.74   \n2          15                      雷克萨斯RX 2016款 450h 四驱典雅版  38.80      69.69   \n3          24                      别克 微蓝6 2020款 插电混动 互联智慧型  10.90      20.44   \n4          38                       理想汽车 理想ONE 2021款 增程6座版  28.82      34.98   \n5          71                本田 英仕派 2019款 锐·混动 2.0L 净越版 国V  16.46      27.12   \n6          80                       理想汽车 理想ONE 2020款 增程6座版  26.20      32.80   \n7          86                       理想汽车 理想ONE 2020款 增程6座版  23.71      32.80   \n8         106           丰田 卡罗拉 2019款 双擎 1.8L E-CVT GL-i精英版  10.38      15.61   \n9         175                   雷克萨斯UX 2019款 260h 探·酷版 国VI  18.80      29.09   \n\n  date_regi  mileage  official_endurance standard  gearbox  num_trans  \\\n0   2019-07      5.0                 NaN       国五        1          0   \n1   2022-08      0.3                 NaN      国六b        1          1   \n2   2017-08      9.7                 NaN       国五        1          1   \n3   2020-08      0.5                 NaN      国六b        1          0   \n4   2022-04      0.7               188.0      新能源        1          0   \n5   2019-01      3.4                 NaN       国五        1          1   \n6   2021-04      2.5               180.0      新能源        1          0   \n7   2021-05      2.6               180.0      新能源        1          0   \n8   2020-08      4.4                 NaN      国六b        1          0   \n9   2019-03      3.8                 NaN      国六b        1          0   \n\n   license_location  color  motor_power  battery_capacity battery_type  \\\n0                 1      0          NaN               NaN          NaN   \n1                 0      0          NaN               NaN          NaN   \n2                 0      1          NaN               NaN          NaN   \n3                 0      1          NaN               NaN          NaN   \n4                 0      0        245.0              40.0            -   \n5                 0      1          NaN               NaN          NaN   \n6                 0      0        240.0              40.0        三元锂电池   \n7                 1      0        240.0              40.0        三元锂电池   \n8                 0      0          NaN               NaN          NaN   \n9                 0      1          NaN               NaN          NaN   \n\n   energy_type  displacement  keys brand city  \n0            2          1.96     2    荣威    2  \n1            2          2.10     1  吉利汽车    2  \n2            2          3.50     1  雷克萨斯    2  \n3            2          1.50     2    别克    2  \n4            2           NaN     2  理想汽车    2  \n5            2          2.00     1    本田    2  \n6            2           NaN     1  理想汽车    2  \n7            2           NaN     1  理想汽车    2  \n8            2          1.80     1    丰田    2  \n9            2          2.00     1  雷克萨斯    2  ",
      "text/html": "<div>\n<style scoped>\n    .dataframe tbody tr th:only-of-type {\n        vertical-align: middle;\n    }\n\n    .dataframe tbody tr th {\n        vertical-align: top;\n    }\n\n    .dataframe thead th {\n        text-align: right;\n    }\n</style>\n<table border=\"1\" class=\"dataframe\">\n  <thead>\n    <tr style=\"text-align: right;\">\n      <th></th>\n      <th>Unnamed: 0</th>\n      <th>title</th>\n      <th>price</th>\n      <th>price_new</th>\n      <th>date_regi</th>\n      <th>mileage</th>\n      <th>official_endurance</th>\n      <th>standard</th>\n      <th>gearbox</th>\n      <th>num_trans</th>\n      <th>license_location</th>\n      <th>color</th>\n      <th>motor_power</th>\n      <th>battery_capacity</th>\n      <th>battery_type</th>\n      <th>energy_type</th>\n      <th>displacement</th>\n      <th>keys</th>\n      <th>brand</th>\n      <th>city</th>\n    </tr>\n  </thead>\n  <tbody>\n    <tr>\n      <th>0</th>\n      <td>0</td>\n      <td>荣威e950 2017款 50T 混动互联行政版</td>\n      <td>11.56</td>\n      <td>27.78</td>\n      <td>2019-07</td>\n      <td>5.0</td>\n      <td>NaN</td>\n      <td>国五</td>\n      <td>1</td>\n      <td>0</td>\n      <td>1</td>\n      <td>0</td>\n      <td>NaN</td>\n      <td>NaN</td>\n      <td>NaN</td>\n      <td>2</td>\n      <td>1.96</td>\n      <td>2</td>\n      <td>荣威</td>\n      <td>2</td>\n    </tr>\n    <tr>\n      <th>1</th>\n      <td>11</td>\n      <td>吉利汽车 帝豪L 雷神Hi·X 2022款 1.5TD-DHT Pro Super 迅</td>\n      <td>12.42</td>\n      <td>14.74</td>\n      <td>2022-08</td>\n      <td>0.3</td>\n      <td>NaN</td>\n      <td>国六b</td>\n      <td>1</td>\n      <td>1</td>\n      <td>0</td>\n      <td>0</td>\n      <td>NaN</td>\n      <td>NaN</td>\n      <td>NaN</td>\n      <td>2</td>\n      <td>2.10</td>\n      <td>1</td>\n      <td>吉利汽车</td>\n      <td>2</td>\n    </tr>\n    <tr>\n      <th>2</th>\n      <td>15</td>\n      <td>雷克萨斯RX 2016款 450h 四驱典雅版</td>\n      <td>38.80</td>\n      <td>69.69</td>\n      <td>2017-08</td>\n      <td>9.7</td>\n      <td>NaN</td>\n      <td>国五</td>\n      <td>1</td>\n      <td>1</td>\n      <td>0</td>\n      <td>1</td>\n      <td>NaN</td>\n      <td>NaN</td>\n      <td>NaN</td>\n      <td>2</td>\n      <td>3.50</td>\n      <td>1</td>\n      <td>雷克萨斯</td>\n      <td>2</td>\n    </tr>\n    <tr>\n      <th>3</th>\n      <td>24</td>\n      <td>别克 微蓝6 2020款 插电混动 互联智慧型</td>\n      <td>10.90</td>\n      <td>20.44</td>\n      <td>2020-08</td>\n      <td>0.5</td>\n      <td>NaN</td>\n      <td>国六b</td>\n      <td>1</td>\n      <td>0</td>\n      <td>0</td>\n      <td>1</td>\n      <td>NaN</td>\n      <td>NaN</td>\n      <td>NaN</td>\n      <td>2</td>\n      <td>1.50</td>\n      <td>2</td>\n      <td>别克</td>\n      <td>2</td>\n    </tr>\n    <tr>\n      <th>4</th>\n      <td>38</td>\n      <td>理想汽车 理想ONE 2021款 增程6座版</td>\n      <td>28.82</td>\n      <td>34.98</td>\n      <td>2022-04</td>\n      <td>0.7</td>\n      <td>188.0</td>\n      <td>新能源</td>\n      <td>1</td>\n      <td>0</td>\n      <td>0</td>\n      <td>0</td>\n      <td>245.0</td>\n      <td>40.0</td>\n      <td>-</td>\n      <td>2</td>\n      <td>NaN</td>\n      <td>2</td>\n      <td>理想汽车</td>\n      <td>2</td>\n    </tr>\n    <tr>\n      <th>5</th>\n      <td>71</td>\n      <td>本田 英仕派 2019款 锐·混动 2.0L 净越版 国V</td>\n      <td>16.46</td>\n      <td>27.12</td>\n      <td>2019-01</td>\n      <td>3.4</td>\n      <td>NaN</td>\n      <td>国五</td>\n      <td>1</td>\n      <td>1</td>\n      <td>0</td>\n      <td>1</td>\n      <td>NaN</td>\n      <td>NaN</td>\n      <td>NaN</td>\n      <td>2</td>\n      <td>2.00</td>\n      <td>1</td>\n      <td>本田</td>\n      <td>2</td>\n    </tr>\n    <tr>\n      <th>6</th>\n      <td>80</td>\n      <td>理想汽车 理想ONE 2020款 增程6座版</td>\n      <td>26.20</td>\n      <td>32.80</td>\n      <td>2021-04</td>\n      <td>2.5</td>\n      <td>180.0</td>\n      <td>新能源</td>\n      <td>1</td>\n      <td>0</td>\n      <td>0</td>\n      <td>0</td>\n      <td>240.0</td>\n      <td>40.0</td>\n      <td>三元锂电池</td>\n      <td>2</td>\n      <td>NaN</td>\n      <td>1</td>\n      <td>理想汽车</td>\n      <td>2</td>\n    </tr>\n    <tr>\n      <th>7</th>\n      <td>86</td>\n      <td>理想汽车 理想ONE 2020款 增程6座版</td>\n      <td>23.71</td>\n      <td>32.80</td>\n      <td>2021-05</td>\n      <td>2.6</td>\n      <td>180.0</td>\n      <td>新能源</td>\n      <td>1</td>\n      <td>0</td>\n      <td>1</td>\n      <td>0</td>\n      <td>240.0</td>\n      <td>40.0</td>\n      <td>三元锂电池</td>\n      <td>2</td>\n      <td>NaN</td>\n      <td>1</td>\n      <td>理想汽车</td>\n      <td>2</td>\n    </tr>\n    <tr>\n      <th>8</th>\n      <td>106</td>\n      <td>丰田 卡罗拉 2019款 双擎 1.8L E-CVT GL-i精英版</td>\n      <td>10.38</td>\n      <td>15.61</td>\n      <td>2020-08</td>\n      <td>4.4</td>\n      <td>NaN</td>\n      <td>国六b</td>\n      <td>1</td>\n      <td>0</td>\n      <td>0</td>\n      <td>0</td>\n      <td>NaN</td>\n      <td>NaN</td>\n      <td>NaN</td>\n      <td>2</td>\n      <td>1.80</td>\n      <td>1</td>\n      <td>丰田</td>\n      <td>2</td>\n    </tr>\n    <tr>\n      <th>9</th>\n      <td>175</td>\n      <td>雷克萨斯UX 2019款 260h 探·酷版 国VI</td>\n      <td>18.80</td>\n      <td>29.09</td>\n      <td>2019-03</td>\n      <td>3.8</td>\n      <td>NaN</td>\n      <td>国六b</td>\n      <td>1</td>\n      <td>0</td>\n      <td>0</td>\n      <td>1</td>\n      <td>NaN</td>\n      <td>NaN</td>\n      <td>NaN</td>\n      <td>2</td>\n      <td>2.00</td>\n      <td>1</td>\n      <td>雷克萨斯</td>\n      <td>2</td>\n    </tr>\n  </tbody>\n</table>\n</div>"
     },
     "execution_count": 322,
     "metadata": {},
     "output_type": "execute_result"
    }
   ],
   "source": [
    "#读取深圳的mixed sheet\n",
    "df_mixed_2 = pd.read_excel('/Users/apple/Desktop/progrmming_project/UsedCarPricing/data/cleaneddata/cleaned_car_all_shenzhen.xlsx',sheet_name='mixed')\n",
    "df_mixed_2.head(10)\n",
    "df_mixed_2['city']='2'\n",
    "df_mixed_2.head(10)"
   ],
   "metadata": {
    "collapsed": false,
    "pycharm": {
     "name": "#%%\n"
    }
   }
  },
  {
   "cell_type": "markdown",
   "source": [
    "北京数据处理"
   ],
   "metadata": {
    "collapsed": false,
    "pycharm": {
     "name": "#%% md\n"
    }
   }
  },
  {
   "cell_type": "code",
   "execution_count": 323,
   "outputs": [
    {
     "data": {
      "text/plain": "   Unnamed: 0                          title  price  price_new date_regi  \\\n0           1         理想汽车 理想ONE 2020款 增程6座版  27.60      35.60   2021-02   \n1          54         理想汽车 理想ONE 2021款 增程6座版  27.35      34.98   2022-04   \n2          77         理想汽车 理想ONE 2020款 增程6座版  23.73      32.80   2021-01   \n3          88         理想汽车 理想ONE 2020款 增程6座版  25.94      32.80   2021-04   \n4          94         理想汽车 理想ONE 2020款 增程6座版  23.61      32.80   2021-05   \n5         144         理想汽车 理想ONE 2020款 增程6座版  26.58      32.80   2021-01   \n6         248         理想汽车 理想ONE 2021款 增程6座版  28.00      34.98   2022-09   \n7         280         理想汽车 理想ONE 2021款 增程6座版  26.58      34.98   2021-06   \n8         446         理想汽车 理想ONE 2020款 增程6座版  23.33      32.80   2021-01   \n9         559  岚图汽车 岚图FREE 2021款 四驱增程版专属豪华套装  24.68      33.36   2022-10   \n\n   mileage  official_endurance standard  gearbox  num_trans  license_location  \\\n0     1.60                 NaN      国六b        1          1                 0   \n1     0.70               188.0      新能源        1          0                 0   \n2     4.10               180.0      新能源        1          1                 1   \n3     2.50               180.0      新能源        1          0                 0   \n4     2.60               180.0      新能源        1          0                 1   \n5     3.30               180.0      新能源        1          1                 0   \n6     0.01               188.0      新能源        1          0                 0   \n7     2.50               188.0      新能源        1          2                 0   \n8     2.90               180.0      新能源        1          0                 0   \n9     0.04               140.0      新能源        1          1                 0   \n\n   color  motor_power  battery_capacity battery_type  energy_type  \\\n0      1          NaN               NaN          NaN            0   \n1      0        245.0              40.0            -            0   \n2      1        240.0              40.0        三元锂电池            0   \n3      0        240.0              40.0        三元锂电池            0   \n4      0        240.0              40.0        三元锂电池            0   \n5      0        240.0              40.0        三元锂电池            0   \n6      0        245.0              40.0            -            0   \n7      0        245.0              40.0            -            0   \n8      0        240.0              40.0        三元锂电池            0   \n9      1        510.0              33.0            -            0   \n\n   displacement  keys brand city  \n0          1.68     1  理想汽车    1  \n1           NaN     2  理想汽车    1  \n2           NaN     2  理想汽车    1  \n3           NaN     1  理想汽车    1  \n4           NaN     1  理想汽车    1  \n5           NaN     2  理想汽车    1  \n6           NaN     2  理想汽车    1  \n7           NaN     2  理想汽车    1  \n8           NaN     1  理想汽车    1  \n9           NaN     1  岚图汽车    1  ",
      "text/html": "<div>\n<style scoped>\n    .dataframe tbody tr th:only-of-type {\n        vertical-align: middle;\n    }\n\n    .dataframe tbody tr th {\n        vertical-align: top;\n    }\n\n    .dataframe thead th {\n        text-align: right;\n    }\n</style>\n<table border=\"1\" class=\"dataframe\">\n  <thead>\n    <tr style=\"text-align: right;\">\n      <th></th>\n      <th>Unnamed: 0</th>\n      <th>title</th>\n      <th>price</th>\n      <th>price_new</th>\n      <th>date_regi</th>\n      <th>mileage</th>\n      <th>official_endurance</th>\n      <th>standard</th>\n      <th>gearbox</th>\n      <th>num_trans</th>\n      <th>license_location</th>\n      <th>color</th>\n      <th>motor_power</th>\n      <th>battery_capacity</th>\n      <th>battery_type</th>\n      <th>energy_type</th>\n      <th>displacement</th>\n      <th>keys</th>\n      <th>brand</th>\n      <th>city</th>\n    </tr>\n  </thead>\n  <tbody>\n    <tr>\n      <th>0</th>\n      <td>1</td>\n      <td>理想汽车 理想ONE 2020款 增程6座版</td>\n      <td>27.60</td>\n      <td>35.60</td>\n      <td>2021-02</td>\n      <td>1.60</td>\n      <td>NaN</td>\n      <td>国六b</td>\n      <td>1</td>\n      <td>1</td>\n      <td>0</td>\n      <td>1</td>\n      <td>NaN</td>\n      <td>NaN</td>\n      <td>NaN</td>\n      <td>0</td>\n      <td>1.68</td>\n      <td>1</td>\n      <td>理想汽车</td>\n      <td>1</td>\n    </tr>\n    <tr>\n      <th>1</th>\n      <td>54</td>\n      <td>理想汽车 理想ONE 2021款 增程6座版</td>\n      <td>27.35</td>\n      <td>34.98</td>\n      <td>2022-04</td>\n      <td>0.70</td>\n      <td>188.0</td>\n      <td>新能源</td>\n      <td>1</td>\n      <td>0</td>\n      <td>0</td>\n      <td>0</td>\n      <td>245.0</td>\n      <td>40.0</td>\n      <td>-</td>\n      <td>0</td>\n      <td>NaN</td>\n      <td>2</td>\n      <td>理想汽车</td>\n      <td>1</td>\n    </tr>\n    <tr>\n      <th>2</th>\n      <td>77</td>\n      <td>理想汽车 理想ONE 2020款 增程6座版</td>\n      <td>23.73</td>\n      <td>32.80</td>\n      <td>2021-01</td>\n      <td>4.10</td>\n      <td>180.0</td>\n      <td>新能源</td>\n      <td>1</td>\n      <td>1</td>\n      <td>1</td>\n      <td>1</td>\n      <td>240.0</td>\n      <td>40.0</td>\n      <td>三元锂电池</td>\n      <td>0</td>\n      <td>NaN</td>\n      <td>2</td>\n      <td>理想汽车</td>\n      <td>1</td>\n    </tr>\n    <tr>\n      <th>3</th>\n      <td>88</td>\n      <td>理想汽车 理想ONE 2020款 增程6座版</td>\n      <td>25.94</td>\n      <td>32.80</td>\n      <td>2021-04</td>\n      <td>2.50</td>\n      <td>180.0</td>\n      <td>新能源</td>\n      <td>1</td>\n      <td>0</td>\n      <td>0</td>\n      <td>0</td>\n      <td>240.0</td>\n      <td>40.0</td>\n      <td>三元锂电池</td>\n      <td>0</td>\n      <td>NaN</td>\n      <td>1</td>\n      <td>理想汽车</td>\n      <td>1</td>\n    </tr>\n    <tr>\n      <th>4</th>\n      <td>94</td>\n      <td>理想汽车 理想ONE 2020款 增程6座版</td>\n      <td>23.61</td>\n      <td>32.80</td>\n      <td>2021-05</td>\n      <td>2.60</td>\n      <td>180.0</td>\n      <td>新能源</td>\n      <td>1</td>\n      <td>0</td>\n      <td>1</td>\n      <td>0</td>\n      <td>240.0</td>\n      <td>40.0</td>\n      <td>三元锂电池</td>\n      <td>0</td>\n      <td>NaN</td>\n      <td>1</td>\n      <td>理想汽车</td>\n      <td>1</td>\n    </tr>\n    <tr>\n      <th>5</th>\n      <td>144</td>\n      <td>理想汽车 理想ONE 2020款 增程6座版</td>\n      <td>26.58</td>\n      <td>32.80</td>\n      <td>2021-01</td>\n      <td>3.30</td>\n      <td>180.0</td>\n      <td>新能源</td>\n      <td>1</td>\n      <td>1</td>\n      <td>0</td>\n      <td>0</td>\n      <td>240.0</td>\n      <td>40.0</td>\n      <td>三元锂电池</td>\n      <td>0</td>\n      <td>NaN</td>\n      <td>2</td>\n      <td>理想汽车</td>\n      <td>1</td>\n    </tr>\n    <tr>\n      <th>6</th>\n      <td>248</td>\n      <td>理想汽车 理想ONE 2021款 增程6座版</td>\n      <td>28.00</td>\n      <td>34.98</td>\n      <td>2022-09</td>\n      <td>0.01</td>\n      <td>188.0</td>\n      <td>新能源</td>\n      <td>1</td>\n      <td>0</td>\n      <td>0</td>\n      <td>0</td>\n      <td>245.0</td>\n      <td>40.0</td>\n      <td>-</td>\n      <td>0</td>\n      <td>NaN</td>\n      <td>2</td>\n      <td>理想汽车</td>\n      <td>1</td>\n    </tr>\n    <tr>\n      <th>7</th>\n      <td>280</td>\n      <td>理想汽车 理想ONE 2021款 增程6座版</td>\n      <td>26.58</td>\n      <td>34.98</td>\n      <td>2021-06</td>\n      <td>2.50</td>\n      <td>188.0</td>\n      <td>新能源</td>\n      <td>1</td>\n      <td>2</td>\n      <td>0</td>\n      <td>0</td>\n      <td>245.0</td>\n      <td>40.0</td>\n      <td>-</td>\n      <td>0</td>\n      <td>NaN</td>\n      <td>2</td>\n      <td>理想汽车</td>\n      <td>1</td>\n    </tr>\n    <tr>\n      <th>8</th>\n      <td>446</td>\n      <td>理想汽车 理想ONE 2020款 增程6座版</td>\n      <td>23.33</td>\n      <td>32.80</td>\n      <td>2021-01</td>\n      <td>2.90</td>\n      <td>180.0</td>\n      <td>新能源</td>\n      <td>1</td>\n      <td>0</td>\n      <td>0</td>\n      <td>0</td>\n      <td>240.0</td>\n      <td>40.0</td>\n      <td>三元锂电池</td>\n      <td>0</td>\n      <td>NaN</td>\n      <td>1</td>\n      <td>理想汽车</td>\n      <td>1</td>\n    </tr>\n    <tr>\n      <th>9</th>\n      <td>559</td>\n      <td>岚图汽车 岚图FREE 2021款 四驱增程版专属豪华套装</td>\n      <td>24.68</td>\n      <td>33.36</td>\n      <td>2022-10</td>\n      <td>0.04</td>\n      <td>140.0</td>\n      <td>新能源</td>\n      <td>1</td>\n      <td>1</td>\n      <td>0</td>\n      <td>1</td>\n      <td>510.0</td>\n      <td>33.0</td>\n      <td>-</td>\n      <td>0</td>\n      <td>NaN</td>\n      <td>1</td>\n      <td>岚图汽车</td>\n      <td>1</td>\n    </tr>\n  </tbody>\n</table>\n</div>"
     },
     "execution_count": 323,
     "metadata": {},
     "output_type": "execute_result"
    }
   ],
   "source": [
    "#读取北京的petrol sheet\n",
    "df_petrol_1 = pd.read_excel('/Users/apple/Desktop/progrmming_project/UsedCarPricing/data/cleaneddata/cleaned_car_all_beijing.xlsx',sheet_name='petrol')\n",
    "df_petrol_1['city']='1'\n",
    "df_petrol_1.head(10)"
   ],
   "metadata": {
    "collapsed": false,
    "pycharm": {
     "name": "#%%\n"
    }
   }
  },
  {
   "cell_type": "code",
   "execution_count": 324,
   "outputs": [
    {
     "data": {
      "text/plain": "   Unnamed: 0                                 title  price  price_new  \\\n0           4               零跑汽车 零跑T03 2021款 400豪华版   7.19       7.58   \n1           5          威马汽车 威马W6 2021款 520km PRO全能版  15.60      20.98   \n2          13          奇瑞 小蚂蚁 2021款 15万蚁粉款 蚁炫版 磷酸铁锂   5.30       7.38   \n3          14            特斯拉 Model Y 2022款 长续航全轮驱动版  35.45      37.59   \n4          20            零跑汽车 零跑T03 2021款 400豪华Pro版   7.88       7.68   \n5          21       特斯拉 Model 3 2021款 标准续航后驱升级版 3D6  21.60      25.17   \n6          28  长安 奔奔E-Star 2020款 心悦版 磷酸铁锂（31.18kWh）   6.95       7.48   \n7          31             奇瑞eQ1 2018款 小蚂蚁400 智享版 4座   4.57       6.58   \n8          33           特斯拉 Model 3 2019款 标准续航后驱升级版  17.78      29.18   \n9          35             特斯拉 Model Y 2021款 标准续航后驱版  26.55      29.18   \n\n  date_regi  mileage  official_endurance standard  gearbox  num_trans  \\\n0   2021-05     1.50               403.0      新能源        1          0   \n1   2022-11     0.01               520.0      新能源        1          0   \n2   2020-11     4.60               301.0      新能源        1          1   \n3   2022-06     0.08               640.0      新能源        1          1   \n4   2022-03     0.60               403.0      新能源        1          1   \n5   2021-06     2.00               468.0      新能源        1          0   \n6   2022-06     0.01               301.0      新能源        1          0   \n7   2018-12     4.30               301.0      新能源        1          2   \n8   2020-01     8.50               460.0      新能源        1          1   \n9   2021-12     1.70               525.0      新能源        1          1   \n\n   license_location  color  motor_power  battery_capacity battery_type  \\\n0                 0      1         55.0         38.000000            -   \n1                 0      1        160.0         47.070922        三元锂电池   \n2                 1      1         30.0         35.000000            -   \n3                 0      0        331.0         78.000000        三元锂电池   \n4                 0      1         80.0         41.000000            -   \n5                 0      0        220.0         55.000000            -   \n6                 0      1         55.0         32.000000            -   \n7                 0      0         30.0         35.000000        锂离子电池   \n8                 0      0        175.0         52.000000        三元锂电池   \n9                 0      0        220.0         60.000000            -   \n\n   energy_type  keys brand city  \n0            1     2  零跑汽车    1  \n1            1     2  威马汽车    1  \n2            1     2    奇瑞    1  \n3            1     1   特斯拉    1  \n4            1     2  零跑汽车    1  \n5            1     1   特斯拉    1  \n6            1     2    长安    1  \n7            1     1    奇瑞    1  \n8            1     1   特斯拉    1  \n9            1     1   特斯拉    1  ",
      "text/html": "<div>\n<style scoped>\n    .dataframe tbody tr th:only-of-type {\n        vertical-align: middle;\n    }\n\n    .dataframe tbody tr th {\n        vertical-align: top;\n    }\n\n    .dataframe thead th {\n        text-align: right;\n    }\n</style>\n<table border=\"1\" class=\"dataframe\">\n  <thead>\n    <tr style=\"text-align: right;\">\n      <th></th>\n      <th>Unnamed: 0</th>\n      <th>title</th>\n      <th>price</th>\n      <th>price_new</th>\n      <th>date_regi</th>\n      <th>mileage</th>\n      <th>official_endurance</th>\n      <th>standard</th>\n      <th>gearbox</th>\n      <th>num_trans</th>\n      <th>license_location</th>\n      <th>color</th>\n      <th>motor_power</th>\n      <th>battery_capacity</th>\n      <th>battery_type</th>\n      <th>energy_type</th>\n      <th>keys</th>\n      <th>brand</th>\n      <th>city</th>\n    </tr>\n  </thead>\n  <tbody>\n    <tr>\n      <th>0</th>\n      <td>4</td>\n      <td>零跑汽车 零跑T03 2021款 400豪华版</td>\n      <td>7.19</td>\n      <td>7.58</td>\n      <td>2021-05</td>\n      <td>1.50</td>\n      <td>403.0</td>\n      <td>新能源</td>\n      <td>1</td>\n      <td>0</td>\n      <td>0</td>\n      <td>1</td>\n      <td>55.0</td>\n      <td>38.000000</td>\n      <td>-</td>\n      <td>1</td>\n      <td>2</td>\n      <td>零跑汽车</td>\n      <td>1</td>\n    </tr>\n    <tr>\n      <th>1</th>\n      <td>5</td>\n      <td>威马汽车 威马W6 2021款 520km PRO全能版</td>\n      <td>15.60</td>\n      <td>20.98</td>\n      <td>2022-11</td>\n      <td>0.01</td>\n      <td>520.0</td>\n      <td>新能源</td>\n      <td>1</td>\n      <td>0</td>\n      <td>0</td>\n      <td>1</td>\n      <td>160.0</td>\n      <td>47.070922</td>\n      <td>三元锂电池</td>\n      <td>1</td>\n      <td>2</td>\n      <td>威马汽车</td>\n      <td>1</td>\n    </tr>\n    <tr>\n      <th>2</th>\n      <td>13</td>\n      <td>奇瑞 小蚂蚁 2021款 15万蚁粉款 蚁炫版 磷酸铁锂</td>\n      <td>5.30</td>\n      <td>7.38</td>\n      <td>2020-11</td>\n      <td>4.60</td>\n      <td>301.0</td>\n      <td>新能源</td>\n      <td>1</td>\n      <td>1</td>\n      <td>1</td>\n      <td>1</td>\n      <td>30.0</td>\n      <td>35.000000</td>\n      <td>-</td>\n      <td>1</td>\n      <td>2</td>\n      <td>奇瑞</td>\n      <td>1</td>\n    </tr>\n    <tr>\n      <th>3</th>\n      <td>14</td>\n      <td>特斯拉 Model Y 2022款 长续航全轮驱动版</td>\n      <td>35.45</td>\n      <td>37.59</td>\n      <td>2022-06</td>\n      <td>0.08</td>\n      <td>640.0</td>\n      <td>新能源</td>\n      <td>1</td>\n      <td>1</td>\n      <td>0</td>\n      <td>0</td>\n      <td>331.0</td>\n      <td>78.000000</td>\n      <td>三元锂电池</td>\n      <td>1</td>\n      <td>1</td>\n      <td>特斯拉</td>\n      <td>1</td>\n    </tr>\n    <tr>\n      <th>4</th>\n      <td>20</td>\n      <td>零跑汽车 零跑T03 2021款 400豪华Pro版</td>\n      <td>7.88</td>\n      <td>7.68</td>\n      <td>2022-03</td>\n      <td>0.60</td>\n      <td>403.0</td>\n      <td>新能源</td>\n      <td>1</td>\n      <td>1</td>\n      <td>0</td>\n      <td>1</td>\n      <td>80.0</td>\n      <td>41.000000</td>\n      <td>-</td>\n      <td>1</td>\n      <td>2</td>\n      <td>零跑汽车</td>\n      <td>1</td>\n    </tr>\n    <tr>\n      <th>5</th>\n      <td>21</td>\n      <td>特斯拉 Model 3 2021款 标准续航后驱升级版 3D6</td>\n      <td>21.60</td>\n      <td>25.17</td>\n      <td>2021-06</td>\n      <td>2.00</td>\n      <td>468.0</td>\n      <td>新能源</td>\n      <td>1</td>\n      <td>0</td>\n      <td>0</td>\n      <td>0</td>\n      <td>220.0</td>\n      <td>55.000000</td>\n      <td>-</td>\n      <td>1</td>\n      <td>1</td>\n      <td>特斯拉</td>\n      <td>1</td>\n    </tr>\n    <tr>\n      <th>6</th>\n      <td>28</td>\n      <td>长安 奔奔E-Star 2020款 心悦版 磷酸铁锂（31.18kWh）</td>\n      <td>6.95</td>\n      <td>7.48</td>\n      <td>2022-06</td>\n      <td>0.01</td>\n      <td>301.0</td>\n      <td>新能源</td>\n      <td>1</td>\n      <td>0</td>\n      <td>0</td>\n      <td>1</td>\n      <td>55.0</td>\n      <td>32.000000</td>\n      <td>-</td>\n      <td>1</td>\n      <td>2</td>\n      <td>长安</td>\n      <td>1</td>\n    </tr>\n    <tr>\n      <th>7</th>\n      <td>31</td>\n      <td>奇瑞eQ1 2018款 小蚂蚁400 智享版 4座</td>\n      <td>4.57</td>\n      <td>6.58</td>\n      <td>2018-12</td>\n      <td>4.30</td>\n      <td>301.0</td>\n      <td>新能源</td>\n      <td>1</td>\n      <td>2</td>\n      <td>0</td>\n      <td>0</td>\n      <td>30.0</td>\n      <td>35.000000</td>\n      <td>锂离子电池</td>\n      <td>1</td>\n      <td>1</td>\n      <td>奇瑞</td>\n      <td>1</td>\n    </tr>\n    <tr>\n      <th>8</th>\n      <td>33</td>\n      <td>特斯拉 Model 3 2019款 标准续航后驱升级版</td>\n      <td>17.78</td>\n      <td>29.18</td>\n      <td>2020-01</td>\n      <td>8.50</td>\n      <td>460.0</td>\n      <td>新能源</td>\n      <td>1</td>\n      <td>1</td>\n      <td>0</td>\n      <td>0</td>\n      <td>175.0</td>\n      <td>52.000000</td>\n      <td>三元锂电池</td>\n      <td>1</td>\n      <td>1</td>\n      <td>特斯拉</td>\n      <td>1</td>\n    </tr>\n    <tr>\n      <th>9</th>\n      <td>35</td>\n      <td>特斯拉 Model Y 2021款 标准续航后驱版</td>\n      <td>26.55</td>\n      <td>29.18</td>\n      <td>2021-12</td>\n      <td>1.70</td>\n      <td>525.0</td>\n      <td>新能源</td>\n      <td>1</td>\n      <td>1</td>\n      <td>0</td>\n      <td>0</td>\n      <td>220.0</td>\n      <td>60.000000</td>\n      <td>-</td>\n      <td>1</td>\n      <td>1</td>\n      <td>特斯拉</td>\n      <td>1</td>\n    </tr>\n  </tbody>\n</table>\n</div>"
     },
     "execution_count": 324,
     "metadata": {},
     "output_type": "execute_result"
    }
   ],
   "source": [
    "#读取北京的electric sheet\n",
    "df_electric_1 = pd.read_excel('/Users/apple/Desktop/progrmming_project/UsedCarPricing/data/cleaneddata/cleaned_car_all_beijing.xlsx',sheet_name='electric')\n",
    "df_electric_1.head(10)\n",
    "df_electric_1['city']='1'\n",
    "df_electric_1.head(10)"
   ],
   "metadata": {
    "collapsed": false,
    "pycharm": {
     "name": "#%%\n"
    }
   }
  },
  {
   "cell_type": "code",
   "execution_count": 325,
   "outputs": [
    {
     "data": {
      "text/plain": "   Unnamed: 0                                title  price  price_new  \\\n0           0            荣威i5 2020款 1.5L 自动4G互联领豪版   6.10       9.54   \n1           2          丰田 雷凌 2019款 185T CVT进取版 国VI   8.73      12.57   \n2           3        宝骏730 2019款 1.5L 手动超值型 7座 国VI   4.93       6.93   \n3           6             别克 昂科拉 2021款 332T CVT精英型   9.08      15.84   \n4           7           现代 领动 2019款 1.5L CVT智炫·精英型   7.00      13.00   \n5           8  日产 奇骏 2021款 VC-Turbo 300 CVT 2WD豪华版  15.68      21.70   \n6           9             大众 宝来 2021款 1.5L 自动舒适智联版   9.25      14.76   \n7          10     大众 2019款 改款 宝来·传奇 1.5L 自动时尚型 国VI   7.38      11.81   \n8          11         起亚 智跑 2019款 1.4T DCT智享豪华版GLS   9.49      15.73   \n9          12              大众 桑塔纳 2021款 1.5L 手动风尚版   5.88       9.43   \n\n  date_regi  mileage  official_endurance standard  gearbox  num_trans  \\\n0   2021-04      1.4                 NaN      国六b        1          1   \n1   2020-07      1.8                 NaN      国六b        1          1   \n2   2020-09      4.9                 NaN      国六b        0          0   \n3   2021-04      1.4                 NaN      国六b        1          1   \n4   2020-01      5.1                 NaN      国六b        1          0   \n5   2022-01      1.4                 NaN      国六b        1          1   \n6   2021-03      0.4                 NaN      国六b        1          0   \n7   2021-06      3.3                 NaN      国六b        1          1   \n8   2019-10      3.3                 NaN      国六b        1          2   \n9   2022-07      0.4                 NaN      国六b        0          0   \n\n   license_location  color  motor_power  battery_capacity battery_type  \\\n0                 0      0          NaN               NaN          NaN   \n1                 0      0          NaN               NaN          NaN   \n2                 0      0          NaN               NaN          NaN   \n3                 0      0          NaN               NaN          NaN   \n4                 0      0          NaN               NaN          NaN   \n5                 0      0          NaN               NaN          NaN   \n6                 0      0          NaN               NaN          NaN   \n7                 0      0          NaN               NaN          NaN   \n8                 0      0          NaN               NaN          NaN   \n9                 0      0          NaN               NaN          NaN   \n\n   energy_type  displacement  keys brand city  \n0            2          1.50     2    荣威    1  \n1            2          1.68     2    丰田    1  \n2            2          1.50     1    宝骏    1  \n3            2          1.82     1    别克    1  \n4            2          1.50     1    现代    1  \n5            2          2.10     1    日产    1  \n6            2          1.50     2    大众    1  \n7            2          1.50     1    大众    1  \n8            2          1.96     1    起亚    1  \n9            2          1.50     2    大众    1  ",
      "text/html": "<div>\n<style scoped>\n    .dataframe tbody tr th:only-of-type {\n        vertical-align: middle;\n    }\n\n    .dataframe tbody tr th {\n        vertical-align: top;\n    }\n\n    .dataframe thead th {\n        text-align: right;\n    }\n</style>\n<table border=\"1\" class=\"dataframe\">\n  <thead>\n    <tr style=\"text-align: right;\">\n      <th></th>\n      <th>Unnamed: 0</th>\n      <th>title</th>\n      <th>price</th>\n      <th>price_new</th>\n      <th>date_regi</th>\n      <th>mileage</th>\n      <th>official_endurance</th>\n      <th>standard</th>\n      <th>gearbox</th>\n      <th>num_trans</th>\n      <th>license_location</th>\n      <th>color</th>\n      <th>motor_power</th>\n      <th>battery_capacity</th>\n      <th>battery_type</th>\n      <th>energy_type</th>\n      <th>displacement</th>\n      <th>keys</th>\n      <th>brand</th>\n      <th>city</th>\n    </tr>\n  </thead>\n  <tbody>\n    <tr>\n      <th>0</th>\n      <td>0</td>\n      <td>荣威i5 2020款 1.5L 自动4G互联领豪版</td>\n      <td>6.10</td>\n      <td>9.54</td>\n      <td>2021-04</td>\n      <td>1.4</td>\n      <td>NaN</td>\n      <td>国六b</td>\n      <td>1</td>\n      <td>1</td>\n      <td>0</td>\n      <td>0</td>\n      <td>NaN</td>\n      <td>NaN</td>\n      <td>NaN</td>\n      <td>2</td>\n      <td>1.50</td>\n      <td>2</td>\n      <td>荣威</td>\n      <td>1</td>\n    </tr>\n    <tr>\n      <th>1</th>\n      <td>2</td>\n      <td>丰田 雷凌 2019款 185T CVT进取版 国VI</td>\n      <td>8.73</td>\n      <td>12.57</td>\n      <td>2020-07</td>\n      <td>1.8</td>\n      <td>NaN</td>\n      <td>国六b</td>\n      <td>1</td>\n      <td>1</td>\n      <td>0</td>\n      <td>0</td>\n      <td>NaN</td>\n      <td>NaN</td>\n      <td>NaN</td>\n      <td>2</td>\n      <td>1.68</td>\n      <td>2</td>\n      <td>丰田</td>\n      <td>1</td>\n    </tr>\n    <tr>\n      <th>2</th>\n      <td>3</td>\n      <td>宝骏730 2019款 1.5L 手动超值型 7座 国VI</td>\n      <td>4.93</td>\n      <td>6.93</td>\n      <td>2020-09</td>\n      <td>4.9</td>\n      <td>NaN</td>\n      <td>国六b</td>\n      <td>0</td>\n      <td>0</td>\n      <td>0</td>\n      <td>0</td>\n      <td>NaN</td>\n      <td>NaN</td>\n      <td>NaN</td>\n      <td>2</td>\n      <td>1.50</td>\n      <td>1</td>\n      <td>宝骏</td>\n      <td>1</td>\n    </tr>\n    <tr>\n      <th>3</th>\n      <td>6</td>\n      <td>别克 昂科拉 2021款 332T CVT精英型</td>\n      <td>9.08</td>\n      <td>15.84</td>\n      <td>2021-04</td>\n      <td>1.4</td>\n      <td>NaN</td>\n      <td>国六b</td>\n      <td>1</td>\n      <td>1</td>\n      <td>0</td>\n      <td>0</td>\n      <td>NaN</td>\n      <td>NaN</td>\n      <td>NaN</td>\n      <td>2</td>\n      <td>1.82</td>\n      <td>1</td>\n      <td>别克</td>\n      <td>1</td>\n    </tr>\n    <tr>\n      <th>4</th>\n      <td>7</td>\n      <td>现代 领动 2019款 1.5L CVT智炫·精英型</td>\n      <td>7.00</td>\n      <td>13.00</td>\n      <td>2020-01</td>\n      <td>5.1</td>\n      <td>NaN</td>\n      <td>国六b</td>\n      <td>1</td>\n      <td>0</td>\n      <td>0</td>\n      <td>0</td>\n      <td>NaN</td>\n      <td>NaN</td>\n      <td>NaN</td>\n      <td>2</td>\n      <td>1.50</td>\n      <td>1</td>\n      <td>现代</td>\n      <td>1</td>\n    </tr>\n    <tr>\n      <th>5</th>\n      <td>8</td>\n      <td>日产 奇骏 2021款 VC-Turbo 300 CVT 2WD豪华版</td>\n      <td>15.68</td>\n      <td>21.70</td>\n      <td>2022-01</td>\n      <td>1.4</td>\n      <td>NaN</td>\n      <td>国六b</td>\n      <td>1</td>\n      <td>1</td>\n      <td>0</td>\n      <td>0</td>\n      <td>NaN</td>\n      <td>NaN</td>\n      <td>NaN</td>\n      <td>2</td>\n      <td>2.10</td>\n      <td>1</td>\n      <td>日产</td>\n      <td>1</td>\n    </tr>\n    <tr>\n      <th>6</th>\n      <td>9</td>\n      <td>大众 宝来 2021款 1.5L 自动舒适智联版</td>\n      <td>9.25</td>\n      <td>14.76</td>\n      <td>2021-03</td>\n      <td>0.4</td>\n      <td>NaN</td>\n      <td>国六b</td>\n      <td>1</td>\n      <td>0</td>\n      <td>0</td>\n      <td>0</td>\n      <td>NaN</td>\n      <td>NaN</td>\n      <td>NaN</td>\n      <td>2</td>\n      <td>1.50</td>\n      <td>2</td>\n      <td>大众</td>\n      <td>1</td>\n    </tr>\n    <tr>\n      <th>7</th>\n      <td>10</td>\n      <td>大众 2019款 改款 宝来·传奇 1.5L 自动时尚型 国VI</td>\n      <td>7.38</td>\n      <td>11.81</td>\n      <td>2021-06</td>\n      <td>3.3</td>\n      <td>NaN</td>\n      <td>国六b</td>\n      <td>1</td>\n      <td>1</td>\n      <td>0</td>\n      <td>0</td>\n      <td>NaN</td>\n      <td>NaN</td>\n      <td>NaN</td>\n      <td>2</td>\n      <td>1.50</td>\n      <td>1</td>\n      <td>大众</td>\n      <td>1</td>\n    </tr>\n    <tr>\n      <th>8</th>\n      <td>11</td>\n      <td>起亚 智跑 2019款 1.4T DCT智享豪华版GLS</td>\n      <td>9.49</td>\n      <td>15.73</td>\n      <td>2019-10</td>\n      <td>3.3</td>\n      <td>NaN</td>\n      <td>国六b</td>\n      <td>1</td>\n      <td>2</td>\n      <td>0</td>\n      <td>0</td>\n      <td>NaN</td>\n      <td>NaN</td>\n      <td>NaN</td>\n      <td>2</td>\n      <td>1.96</td>\n      <td>1</td>\n      <td>起亚</td>\n      <td>1</td>\n    </tr>\n    <tr>\n      <th>9</th>\n      <td>12</td>\n      <td>大众 桑塔纳 2021款 1.5L 手动风尚版</td>\n      <td>5.88</td>\n      <td>9.43</td>\n      <td>2022-07</td>\n      <td>0.4</td>\n      <td>NaN</td>\n      <td>国六b</td>\n      <td>0</td>\n      <td>0</td>\n      <td>0</td>\n      <td>0</td>\n      <td>NaN</td>\n      <td>NaN</td>\n      <td>NaN</td>\n      <td>2</td>\n      <td>1.50</td>\n      <td>2</td>\n      <td>大众</td>\n      <td>1</td>\n    </tr>\n  </tbody>\n</table>\n</div>"
     },
     "execution_count": 325,
     "metadata": {},
     "output_type": "execute_result"
    }
   ],
   "source": [
    "#读取北京的mixed sheet\n",
    "df_mixed_1 = pd.read_excel('/Users/apple/Desktop/progrmming_project/UsedCarPricing/data/cleaneddata/cleaned_car_all_beijing.xlsx',sheet_name='mixed')\n",
    "df_mixed_1.head(10)\n",
    "df_mixed_1['city']='1'\n",
    "df_mixed_1.head(10)"
   ],
   "metadata": {
    "collapsed": false,
    "pycharm": {
     "name": "#%%\n"
    }
   }
  },
  {
   "cell_type": "markdown",
   "source": [
    "上海数据处理"
   ],
   "metadata": {
    "collapsed": false,
    "pycharm": {
     "name": "#%% md\n"
    }
   }
  },
  {
   "cell_type": "code",
   "execution_count": 326,
   "outputs": [
    {
     "data": {
      "text/plain": "   Unnamed: 0                                title  price  price_new  \\\n0           1               WEY VV7 2017款 2.0T 旗舰型   8.73      20.49   \n1           2           雪佛兰 迈锐宝XL 2017款 1.5T 自动锐驰版   7.73      21.16   \n2           3  日产 奇骏 2021款 VC-Turbo 300 CVT 2WD豪华版  15.68      21.70   \n3           5                起亚K3 2016款 1.6L 自动天窗版   6.38      11.92   \n4           6            雪佛兰 科迈罗 2017款 2.0T RS(进口)  25.40      43.41   \n5           7             马自达 阿特兹 2020款 2.0L 蓝天豪华版  13.80      20.60   \n6           9               标致408 2015款 1.2T 自动豪华版   5.27      16.47   \n7          10              标致4008 2018款 350THP 精英版   9.15      22.65   \n8          11       本田 杰德 2017款 210TURBO CVT豪华版 5座  11.12      18.01   \n9          12      丰田 卡罗拉 2019款 1.2T S-CVT GL-i豪华版  10.09      14.74   \n\n  date_regi  mileage  official_endurance standard  gearbox  num_trans  \\\n0   2017-11      9.5                 NaN       国五        1          2   \n1   2017-06      6.5                 NaN       国五        1          1   \n2   2022-01      1.4                 NaN      国六b        1          1   \n3   2018-09      6.9                 NaN       国五        1          2   \n4   2019-03      3.5                 NaN       国五        1          4   \n5   2020-12      0.9                 NaN      国六b        1          3   \n6   2016-11      8.9                 NaN       国五        1          1   \n7   2018-01      5.6                 NaN       国五        1          3   \n8   2018-10      6.6                 NaN       国五        1          1   \n9   2020-07      0.7                 NaN      国六b        1          1   \n\n   license_location  color  motor_power  battery_capacity  battery_type  \\\n0                 0      0          NaN               NaN           NaN   \n1                 0      0          NaN               NaN           NaN   \n2                 0      0          NaN               NaN           NaN   \n3                 0      0          NaN               NaN           NaN   \n4                 0      1          NaN               NaN           NaN   \n5                 0      1          NaN               NaN           NaN   \n6                 0      0          NaN               NaN           NaN   \n7                 0      1          NaN               NaN           NaN   \n8                 0      0          NaN               NaN           NaN   \n9                 0      0          NaN               NaN           NaN   \n\n   energy_type  displacement  keys brand city  \n0            0          2.80     1   WEY    3  \n1            0          2.10     1   雪佛兰    3  \n2            0          2.10     1    日产    3  \n3            0          1.60     1    起亚    3  \n4            0          2.80     1   雪佛兰    3  \n5            0          2.00     2   马自达    3  \n6            0          1.68     1    标致    3  \n7            0          2.24     1    标致    3  \n8            0          2.10     2    本田    3  \n9            0          1.68     1    丰田    3  ",
      "text/html": "<div>\n<style scoped>\n    .dataframe tbody tr th:only-of-type {\n        vertical-align: middle;\n    }\n\n    .dataframe tbody tr th {\n        vertical-align: top;\n    }\n\n    .dataframe thead th {\n        text-align: right;\n    }\n</style>\n<table border=\"1\" class=\"dataframe\">\n  <thead>\n    <tr style=\"text-align: right;\">\n      <th></th>\n      <th>Unnamed: 0</th>\n      <th>title</th>\n      <th>price</th>\n      <th>price_new</th>\n      <th>date_regi</th>\n      <th>mileage</th>\n      <th>official_endurance</th>\n      <th>standard</th>\n      <th>gearbox</th>\n      <th>num_trans</th>\n      <th>license_location</th>\n      <th>color</th>\n      <th>motor_power</th>\n      <th>battery_capacity</th>\n      <th>battery_type</th>\n      <th>energy_type</th>\n      <th>displacement</th>\n      <th>keys</th>\n      <th>brand</th>\n      <th>city</th>\n    </tr>\n  </thead>\n  <tbody>\n    <tr>\n      <th>0</th>\n      <td>1</td>\n      <td>WEY VV7 2017款 2.0T 旗舰型</td>\n      <td>8.73</td>\n      <td>20.49</td>\n      <td>2017-11</td>\n      <td>9.5</td>\n      <td>NaN</td>\n      <td>国五</td>\n      <td>1</td>\n      <td>2</td>\n      <td>0</td>\n      <td>0</td>\n      <td>NaN</td>\n      <td>NaN</td>\n      <td>NaN</td>\n      <td>0</td>\n      <td>2.80</td>\n      <td>1</td>\n      <td>WEY</td>\n      <td>3</td>\n    </tr>\n    <tr>\n      <th>1</th>\n      <td>2</td>\n      <td>雪佛兰 迈锐宝XL 2017款 1.5T 自动锐驰版</td>\n      <td>7.73</td>\n      <td>21.16</td>\n      <td>2017-06</td>\n      <td>6.5</td>\n      <td>NaN</td>\n      <td>国五</td>\n      <td>1</td>\n      <td>1</td>\n      <td>0</td>\n      <td>0</td>\n      <td>NaN</td>\n      <td>NaN</td>\n      <td>NaN</td>\n      <td>0</td>\n      <td>2.10</td>\n      <td>1</td>\n      <td>雪佛兰</td>\n      <td>3</td>\n    </tr>\n    <tr>\n      <th>2</th>\n      <td>3</td>\n      <td>日产 奇骏 2021款 VC-Turbo 300 CVT 2WD豪华版</td>\n      <td>15.68</td>\n      <td>21.70</td>\n      <td>2022-01</td>\n      <td>1.4</td>\n      <td>NaN</td>\n      <td>国六b</td>\n      <td>1</td>\n      <td>1</td>\n      <td>0</td>\n      <td>0</td>\n      <td>NaN</td>\n      <td>NaN</td>\n      <td>NaN</td>\n      <td>0</td>\n      <td>2.10</td>\n      <td>1</td>\n      <td>日产</td>\n      <td>3</td>\n    </tr>\n    <tr>\n      <th>3</th>\n      <td>5</td>\n      <td>起亚K3 2016款 1.6L 自动天窗版</td>\n      <td>6.38</td>\n      <td>11.92</td>\n      <td>2018-09</td>\n      <td>6.9</td>\n      <td>NaN</td>\n      <td>国五</td>\n      <td>1</td>\n      <td>2</td>\n      <td>0</td>\n      <td>0</td>\n      <td>NaN</td>\n      <td>NaN</td>\n      <td>NaN</td>\n      <td>0</td>\n      <td>1.60</td>\n      <td>1</td>\n      <td>起亚</td>\n      <td>3</td>\n    </tr>\n    <tr>\n      <th>4</th>\n      <td>6</td>\n      <td>雪佛兰 科迈罗 2017款 2.0T RS(进口)</td>\n      <td>25.40</td>\n      <td>43.41</td>\n      <td>2019-03</td>\n      <td>3.5</td>\n      <td>NaN</td>\n      <td>国五</td>\n      <td>1</td>\n      <td>4</td>\n      <td>0</td>\n      <td>1</td>\n      <td>NaN</td>\n      <td>NaN</td>\n      <td>NaN</td>\n      <td>0</td>\n      <td>2.80</td>\n      <td>1</td>\n      <td>雪佛兰</td>\n      <td>3</td>\n    </tr>\n    <tr>\n      <th>5</th>\n      <td>7</td>\n      <td>马自达 阿特兹 2020款 2.0L 蓝天豪华版</td>\n      <td>13.80</td>\n      <td>20.60</td>\n      <td>2020-12</td>\n      <td>0.9</td>\n      <td>NaN</td>\n      <td>国六b</td>\n      <td>1</td>\n      <td>3</td>\n      <td>0</td>\n      <td>1</td>\n      <td>NaN</td>\n      <td>NaN</td>\n      <td>NaN</td>\n      <td>0</td>\n      <td>2.00</td>\n      <td>2</td>\n      <td>马自达</td>\n      <td>3</td>\n    </tr>\n    <tr>\n      <th>6</th>\n      <td>9</td>\n      <td>标致408 2015款 1.2T 自动豪华版</td>\n      <td>5.27</td>\n      <td>16.47</td>\n      <td>2016-11</td>\n      <td>8.9</td>\n      <td>NaN</td>\n      <td>国五</td>\n      <td>1</td>\n      <td>1</td>\n      <td>0</td>\n      <td>0</td>\n      <td>NaN</td>\n      <td>NaN</td>\n      <td>NaN</td>\n      <td>0</td>\n      <td>1.68</td>\n      <td>1</td>\n      <td>标致</td>\n      <td>3</td>\n    </tr>\n    <tr>\n      <th>7</th>\n      <td>10</td>\n      <td>标致4008 2018款 350THP 精英版</td>\n      <td>9.15</td>\n      <td>22.65</td>\n      <td>2018-01</td>\n      <td>5.6</td>\n      <td>NaN</td>\n      <td>国五</td>\n      <td>1</td>\n      <td>3</td>\n      <td>0</td>\n      <td>1</td>\n      <td>NaN</td>\n      <td>NaN</td>\n      <td>NaN</td>\n      <td>0</td>\n      <td>2.24</td>\n      <td>1</td>\n      <td>标致</td>\n      <td>3</td>\n    </tr>\n    <tr>\n      <th>8</th>\n      <td>11</td>\n      <td>本田 杰德 2017款 210TURBO CVT豪华版 5座</td>\n      <td>11.12</td>\n      <td>18.01</td>\n      <td>2018-10</td>\n      <td>6.6</td>\n      <td>NaN</td>\n      <td>国五</td>\n      <td>1</td>\n      <td>1</td>\n      <td>0</td>\n      <td>0</td>\n      <td>NaN</td>\n      <td>NaN</td>\n      <td>NaN</td>\n      <td>0</td>\n      <td>2.10</td>\n      <td>2</td>\n      <td>本田</td>\n      <td>3</td>\n    </tr>\n    <tr>\n      <th>9</th>\n      <td>12</td>\n      <td>丰田 卡罗拉 2019款 1.2T S-CVT GL-i豪华版</td>\n      <td>10.09</td>\n      <td>14.74</td>\n      <td>2020-07</td>\n      <td>0.7</td>\n      <td>NaN</td>\n      <td>国六b</td>\n      <td>1</td>\n      <td>1</td>\n      <td>0</td>\n      <td>0</td>\n      <td>NaN</td>\n      <td>NaN</td>\n      <td>NaN</td>\n      <td>0</td>\n      <td>1.68</td>\n      <td>1</td>\n      <td>丰田</td>\n      <td>3</td>\n    </tr>\n  </tbody>\n</table>\n</div>"
     },
     "execution_count": 326,
     "metadata": {},
     "output_type": "execute_result"
    }
   ],
   "source": [
    "#读取上海的petrol sheet\n",
    "df_petrol_3 = pd.read_excel('/Users/apple/Desktop/progrmming_project/UsedCarPricing/data/cleaneddata/cleaned_car_all_shanghai.xlsx',sheet_name='petrol')\n",
    "df_petrol_3['city']='3'\n",
    "df_petrol_3.head(10)"
   ],
   "metadata": {
    "collapsed": false,
    "pycharm": {
     "name": "#%%\n"
    }
   }
  },
  {
   "cell_type": "code",
   "execution_count": 327,
   "outputs": [
    {
     "data": {
      "text/plain": "   Unnamed: 0                            title  price  price_new date_regi  \\\n0           4     奇瑞 小蚂蚁 2021款 15万蚁粉款 蚁炫版 磷酸铁锂   5.30       7.38   2020-11   \n1          16        特斯拉 Model Y 2021款 标准续航后驱版  26.55      29.18   2021-12   \n2          18            蔚来ES6 2020款 420KM 运动版  23.50      35.80   2021-04   \n3          23          长安 奔奔EV 2018款 EV260 标准型   3.86      12.38   2018-05   \n4          29  五菱汽车 宏光MINI EV 2021款 马卡龙臻享款 三元锂   4.15       4.36   2021-09   \n5          40    几何汽车 几何C 2020款 优选续航版 400KM C+  11.40      13.98   2021-05   \n6          42  哪吒汽车 哪吒V 2022款 潮 400 Lite 粉色定制款   7.91       8.79   2022-08   \n7          49                小鹏汽车P7 2020款 586E  19.83      28.09   2021-02   \n8          57           宝骏E100 2019款 250KM 智行版   3.24       4.98   2020-03   \n9          60     特斯拉Model X 2016款 MODEL X 90D  41.60      98.47   2017-04   \n\n   mileage  official_endurance standard  gearbox  num_trans  license_location  \\\n0      4.6               301.0      新能源        1          1                 1   \n1      1.7               525.0      新能源        1          1                 0   \n2      1.3               420.0      新能源        1          1                 0   \n3      7.5               251.0      新能源        1          1                 1   \n4      0.2               170.0      新能源        1          2                 0   \n5      4.6               400.0      新能源        1          1                 0   \n6      0.2               401.0      新能源        1          0                 0   \n7      6.5               568.0      新能源        1          0                 0   \n8      2.6               250.0      新能源        1          1                 0   \n9      4.6               489.0      新能源        1          1                 0   \n\n   color  motor_power  battery_capacity battery_type  energy_type  keys brand  \\\n0      1         30.0              35.0            -            1     2    奇瑞   \n1      0        220.0              60.0            -            1     1   特斯拉   \n2      0        320.0              70.0            -            1     1    蔚来   \n3      0         55.0              31.0        三元锂电池            1     2    长安   \n4      1         20.0              13.0        三元锂电池            1     2  五菱汽车   \n5      1        150.0              53.0        三元锂电池            1     1  几何汽车   \n6      1         55.0              38.0            -            1     2  哪吒汽车   \n7      0        196.0              70.0            -            1     1  小鹏汽车   \n8      1         29.0              24.0        锂离子电池            1     1    宝骏   \n9      0        386.0              90.0        锂离子电池            1     2   特斯拉   \n\n  city  \n0    3  \n1    3  \n2    3  \n3    3  \n4    3  \n5    3  \n6    3  \n7    3  \n8    3  \n9    3  ",
      "text/html": "<div>\n<style scoped>\n    .dataframe tbody tr th:only-of-type {\n        vertical-align: middle;\n    }\n\n    .dataframe tbody tr th {\n        vertical-align: top;\n    }\n\n    .dataframe thead th {\n        text-align: right;\n    }\n</style>\n<table border=\"1\" class=\"dataframe\">\n  <thead>\n    <tr style=\"text-align: right;\">\n      <th></th>\n      <th>Unnamed: 0</th>\n      <th>title</th>\n      <th>price</th>\n      <th>price_new</th>\n      <th>date_regi</th>\n      <th>mileage</th>\n      <th>official_endurance</th>\n      <th>standard</th>\n      <th>gearbox</th>\n      <th>num_trans</th>\n      <th>license_location</th>\n      <th>color</th>\n      <th>motor_power</th>\n      <th>battery_capacity</th>\n      <th>battery_type</th>\n      <th>energy_type</th>\n      <th>keys</th>\n      <th>brand</th>\n      <th>city</th>\n    </tr>\n  </thead>\n  <tbody>\n    <tr>\n      <th>0</th>\n      <td>4</td>\n      <td>奇瑞 小蚂蚁 2021款 15万蚁粉款 蚁炫版 磷酸铁锂</td>\n      <td>5.30</td>\n      <td>7.38</td>\n      <td>2020-11</td>\n      <td>4.6</td>\n      <td>301.0</td>\n      <td>新能源</td>\n      <td>1</td>\n      <td>1</td>\n      <td>1</td>\n      <td>1</td>\n      <td>30.0</td>\n      <td>35.0</td>\n      <td>-</td>\n      <td>1</td>\n      <td>2</td>\n      <td>奇瑞</td>\n      <td>3</td>\n    </tr>\n    <tr>\n      <th>1</th>\n      <td>16</td>\n      <td>特斯拉 Model Y 2021款 标准续航后驱版</td>\n      <td>26.55</td>\n      <td>29.18</td>\n      <td>2021-12</td>\n      <td>1.7</td>\n      <td>525.0</td>\n      <td>新能源</td>\n      <td>1</td>\n      <td>1</td>\n      <td>0</td>\n      <td>0</td>\n      <td>220.0</td>\n      <td>60.0</td>\n      <td>-</td>\n      <td>1</td>\n      <td>1</td>\n      <td>特斯拉</td>\n      <td>3</td>\n    </tr>\n    <tr>\n      <th>2</th>\n      <td>18</td>\n      <td>蔚来ES6 2020款 420KM 运动版</td>\n      <td>23.50</td>\n      <td>35.80</td>\n      <td>2021-04</td>\n      <td>1.3</td>\n      <td>420.0</td>\n      <td>新能源</td>\n      <td>1</td>\n      <td>1</td>\n      <td>0</td>\n      <td>0</td>\n      <td>320.0</td>\n      <td>70.0</td>\n      <td>-</td>\n      <td>1</td>\n      <td>1</td>\n      <td>蔚来</td>\n      <td>3</td>\n    </tr>\n    <tr>\n      <th>3</th>\n      <td>23</td>\n      <td>长安 奔奔EV 2018款 EV260 标准型</td>\n      <td>3.86</td>\n      <td>12.38</td>\n      <td>2018-05</td>\n      <td>7.5</td>\n      <td>251.0</td>\n      <td>新能源</td>\n      <td>1</td>\n      <td>1</td>\n      <td>1</td>\n      <td>0</td>\n      <td>55.0</td>\n      <td>31.0</td>\n      <td>三元锂电池</td>\n      <td>1</td>\n      <td>2</td>\n      <td>长安</td>\n      <td>3</td>\n    </tr>\n    <tr>\n      <th>4</th>\n      <td>29</td>\n      <td>五菱汽车 宏光MINI EV 2021款 马卡龙臻享款 三元锂</td>\n      <td>4.15</td>\n      <td>4.36</td>\n      <td>2021-09</td>\n      <td>0.2</td>\n      <td>170.0</td>\n      <td>新能源</td>\n      <td>1</td>\n      <td>2</td>\n      <td>0</td>\n      <td>1</td>\n      <td>20.0</td>\n      <td>13.0</td>\n      <td>三元锂电池</td>\n      <td>1</td>\n      <td>2</td>\n      <td>五菱汽车</td>\n      <td>3</td>\n    </tr>\n    <tr>\n      <th>5</th>\n      <td>40</td>\n      <td>几何汽车 几何C 2020款 优选续航版 400KM C+</td>\n      <td>11.40</td>\n      <td>13.98</td>\n      <td>2021-05</td>\n      <td>4.6</td>\n      <td>400.0</td>\n      <td>新能源</td>\n      <td>1</td>\n      <td>1</td>\n      <td>0</td>\n      <td>1</td>\n      <td>150.0</td>\n      <td>53.0</td>\n      <td>三元锂电池</td>\n      <td>1</td>\n      <td>1</td>\n      <td>几何汽车</td>\n      <td>3</td>\n    </tr>\n    <tr>\n      <th>6</th>\n      <td>42</td>\n      <td>哪吒汽车 哪吒V 2022款 潮 400 Lite 粉色定制款</td>\n      <td>7.91</td>\n      <td>8.79</td>\n      <td>2022-08</td>\n      <td>0.2</td>\n      <td>401.0</td>\n      <td>新能源</td>\n      <td>1</td>\n      <td>0</td>\n      <td>0</td>\n      <td>1</td>\n      <td>55.0</td>\n      <td>38.0</td>\n      <td>-</td>\n      <td>1</td>\n      <td>2</td>\n      <td>哪吒汽车</td>\n      <td>3</td>\n    </tr>\n    <tr>\n      <th>7</th>\n      <td>49</td>\n      <td>小鹏汽车P7 2020款 586E</td>\n      <td>19.83</td>\n      <td>28.09</td>\n      <td>2021-02</td>\n      <td>6.5</td>\n      <td>568.0</td>\n      <td>新能源</td>\n      <td>1</td>\n      <td>0</td>\n      <td>0</td>\n      <td>0</td>\n      <td>196.0</td>\n      <td>70.0</td>\n      <td>-</td>\n      <td>1</td>\n      <td>1</td>\n      <td>小鹏汽车</td>\n      <td>3</td>\n    </tr>\n    <tr>\n      <th>8</th>\n      <td>57</td>\n      <td>宝骏E100 2019款 250KM 智行版</td>\n      <td>3.24</td>\n      <td>4.98</td>\n      <td>2020-03</td>\n      <td>2.6</td>\n      <td>250.0</td>\n      <td>新能源</td>\n      <td>1</td>\n      <td>1</td>\n      <td>0</td>\n      <td>1</td>\n      <td>29.0</td>\n      <td>24.0</td>\n      <td>锂离子电池</td>\n      <td>1</td>\n      <td>1</td>\n      <td>宝骏</td>\n      <td>3</td>\n    </tr>\n    <tr>\n      <th>9</th>\n      <td>60</td>\n      <td>特斯拉Model X 2016款 MODEL X 90D</td>\n      <td>41.60</td>\n      <td>98.47</td>\n      <td>2017-04</td>\n      <td>4.6</td>\n      <td>489.0</td>\n      <td>新能源</td>\n      <td>1</td>\n      <td>1</td>\n      <td>0</td>\n      <td>0</td>\n      <td>386.0</td>\n      <td>90.0</td>\n      <td>锂离子电池</td>\n      <td>1</td>\n      <td>2</td>\n      <td>特斯拉</td>\n      <td>3</td>\n    </tr>\n  </tbody>\n</table>\n</div>"
     },
     "execution_count": 327,
     "metadata": {},
     "output_type": "execute_result"
    }
   ],
   "source": [
    "#读取上海的electric sheet\n",
    "df_electric_3 = pd.read_excel('/Users/apple/Desktop/progrmming_project/UsedCarPricing/data/cleaneddata/cleaned_car_all_shanghai.xlsx',sheet_name='electric')\n",
    "df_electric_3.head(10)\n",
    "df_electric_3['city']='3'\n",
    "df_electric_3.head(10)"
   ],
   "metadata": {
    "collapsed": false,
    "pycharm": {
     "name": "#%%\n"
    }
   }
  },
  {
   "cell_type": "code",
   "execution_count": 328,
   "outputs": [
    {
     "data": {
      "text/plain": "   Unnamed: 0                                title  price  price_new  \\\n0           0            荣威i5 2020款 1.5L 自动4G互联领豪版   6.10       9.54   \n1           2          丰田 雷凌 2019款 185T CVT进取版 国VI   8.73      12.57   \n2           3        宝骏730 2019款 1.5L 手动超值型 7座 国VI   4.93       6.93   \n3           6             别克 昂科拉 2021款 332T CVT精英型   9.08      15.84   \n4           7           现代 领动 2019款 1.5L CVT智炫·精英型   7.00      13.00   \n5           8  日产 奇骏 2021款 VC-Turbo 300 CVT 2WD豪华版  15.68      21.70   \n6           9             大众 宝来 2021款 1.5L 自动舒适智联版   9.25      14.76   \n7          10     大众 2019款 改款 宝来·传奇 1.5L 自动时尚型 国VI   7.38      11.81   \n8          11         起亚 智跑 2019款 1.4T DCT智享豪华版GLS   9.49      15.73   \n9          12              大众 桑塔纳 2021款 1.5L 手动风尚版   5.88       9.43   \n\n  date_regi  mileage  official_endurance standard  gearbox  num_trans  \\\n0   2021-04      1.4                 NaN      国六b        1          1   \n1   2020-07      1.8                 NaN      国六b        1          1   \n2   2020-09      4.9                 NaN      国六b        0          0   \n3   2021-04      1.4                 NaN      国六b        1          1   \n4   2020-01      5.1                 NaN      国六b        1          0   \n5   2022-01      1.4                 NaN      国六b        1          1   \n6   2021-03      0.4                 NaN      国六b        1          0   \n7   2021-06      3.3                 NaN      国六b        1          1   \n8   2019-10      3.3                 NaN      国六b        1          2   \n9   2022-07      0.4                 NaN      国六b        0          0   \n\n   license_location  color  motor_power  battery_capacity battery_type  \\\n0                 0      0          NaN               NaN          NaN   \n1                 0      0          NaN               NaN          NaN   \n2                 0      0          NaN               NaN          NaN   \n3                 0      0          NaN               NaN          NaN   \n4                 0      0          NaN               NaN          NaN   \n5                 0      0          NaN               NaN          NaN   \n6                 0      0          NaN               NaN          NaN   \n7                 0      0          NaN               NaN          NaN   \n8                 0      0          NaN               NaN          NaN   \n9                 0      0          NaN               NaN          NaN   \n\n   energy_type  displacement  keys brand city  \n0            2          1.50     2    荣威    3  \n1            2          1.68     2    丰田    3  \n2            2          1.50     1    宝骏    3  \n3            2          1.82     1    别克    3  \n4            2          1.50     1    现代    3  \n5            2          2.10     1    日产    3  \n6            2          1.50     2    大众    3  \n7            2          1.50     1    大众    3  \n8            2          1.96     1    起亚    3  \n9            2          1.50     2    大众    3  ",
      "text/html": "<div>\n<style scoped>\n    .dataframe tbody tr th:only-of-type {\n        vertical-align: middle;\n    }\n\n    .dataframe tbody tr th {\n        vertical-align: top;\n    }\n\n    .dataframe thead th {\n        text-align: right;\n    }\n</style>\n<table border=\"1\" class=\"dataframe\">\n  <thead>\n    <tr style=\"text-align: right;\">\n      <th></th>\n      <th>Unnamed: 0</th>\n      <th>title</th>\n      <th>price</th>\n      <th>price_new</th>\n      <th>date_regi</th>\n      <th>mileage</th>\n      <th>official_endurance</th>\n      <th>standard</th>\n      <th>gearbox</th>\n      <th>num_trans</th>\n      <th>license_location</th>\n      <th>color</th>\n      <th>motor_power</th>\n      <th>battery_capacity</th>\n      <th>battery_type</th>\n      <th>energy_type</th>\n      <th>displacement</th>\n      <th>keys</th>\n      <th>brand</th>\n      <th>city</th>\n    </tr>\n  </thead>\n  <tbody>\n    <tr>\n      <th>0</th>\n      <td>0</td>\n      <td>荣威i5 2020款 1.5L 自动4G互联领豪版</td>\n      <td>6.10</td>\n      <td>9.54</td>\n      <td>2021-04</td>\n      <td>1.4</td>\n      <td>NaN</td>\n      <td>国六b</td>\n      <td>1</td>\n      <td>1</td>\n      <td>0</td>\n      <td>0</td>\n      <td>NaN</td>\n      <td>NaN</td>\n      <td>NaN</td>\n      <td>2</td>\n      <td>1.50</td>\n      <td>2</td>\n      <td>荣威</td>\n      <td>3</td>\n    </tr>\n    <tr>\n      <th>1</th>\n      <td>2</td>\n      <td>丰田 雷凌 2019款 185T CVT进取版 国VI</td>\n      <td>8.73</td>\n      <td>12.57</td>\n      <td>2020-07</td>\n      <td>1.8</td>\n      <td>NaN</td>\n      <td>国六b</td>\n      <td>1</td>\n      <td>1</td>\n      <td>0</td>\n      <td>0</td>\n      <td>NaN</td>\n      <td>NaN</td>\n      <td>NaN</td>\n      <td>2</td>\n      <td>1.68</td>\n      <td>2</td>\n      <td>丰田</td>\n      <td>3</td>\n    </tr>\n    <tr>\n      <th>2</th>\n      <td>3</td>\n      <td>宝骏730 2019款 1.5L 手动超值型 7座 国VI</td>\n      <td>4.93</td>\n      <td>6.93</td>\n      <td>2020-09</td>\n      <td>4.9</td>\n      <td>NaN</td>\n      <td>国六b</td>\n      <td>0</td>\n      <td>0</td>\n      <td>0</td>\n      <td>0</td>\n      <td>NaN</td>\n      <td>NaN</td>\n      <td>NaN</td>\n      <td>2</td>\n      <td>1.50</td>\n      <td>1</td>\n      <td>宝骏</td>\n      <td>3</td>\n    </tr>\n    <tr>\n      <th>3</th>\n      <td>6</td>\n      <td>别克 昂科拉 2021款 332T CVT精英型</td>\n      <td>9.08</td>\n      <td>15.84</td>\n      <td>2021-04</td>\n      <td>1.4</td>\n      <td>NaN</td>\n      <td>国六b</td>\n      <td>1</td>\n      <td>1</td>\n      <td>0</td>\n      <td>0</td>\n      <td>NaN</td>\n      <td>NaN</td>\n      <td>NaN</td>\n      <td>2</td>\n      <td>1.82</td>\n      <td>1</td>\n      <td>别克</td>\n      <td>3</td>\n    </tr>\n    <tr>\n      <th>4</th>\n      <td>7</td>\n      <td>现代 领动 2019款 1.5L CVT智炫·精英型</td>\n      <td>7.00</td>\n      <td>13.00</td>\n      <td>2020-01</td>\n      <td>5.1</td>\n      <td>NaN</td>\n      <td>国六b</td>\n      <td>1</td>\n      <td>0</td>\n      <td>0</td>\n      <td>0</td>\n      <td>NaN</td>\n      <td>NaN</td>\n      <td>NaN</td>\n      <td>2</td>\n      <td>1.50</td>\n      <td>1</td>\n      <td>现代</td>\n      <td>3</td>\n    </tr>\n    <tr>\n      <th>5</th>\n      <td>8</td>\n      <td>日产 奇骏 2021款 VC-Turbo 300 CVT 2WD豪华版</td>\n      <td>15.68</td>\n      <td>21.70</td>\n      <td>2022-01</td>\n      <td>1.4</td>\n      <td>NaN</td>\n      <td>国六b</td>\n      <td>1</td>\n      <td>1</td>\n      <td>0</td>\n      <td>0</td>\n      <td>NaN</td>\n      <td>NaN</td>\n      <td>NaN</td>\n      <td>2</td>\n      <td>2.10</td>\n      <td>1</td>\n      <td>日产</td>\n      <td>3</td>\n    </tr>\n    <tr>\n      <th>6</th>\n      <td>9</td>\n      <td>大众 宝来 2021款 1.5L 自动舒适智联版</td>\n      <td>9.25</td>\n      <td>14.76</td>\n      <td>2021-03</td>\n      <td>0.4</td>\n      <td>NaN</td>\n      <td>国六b</td>\n      <td>1</td>\n      <td>0</td>\n      <td>0</td>\n      <td>0</td>\n      <td>NaN</td>\n      <td>NaN</td>\n      <td>NaN</td>\n      <td>2</td>\n      <td>1.50</td>\n      <td>2</td>\n      <td>大众</td>\n      <td>3</td>\n    </tr>\n    <tr>\n      <th>7</th>\n      <td>10</td>\n      <td>大众 2019款 改款 宝来·传奇 1.5L 自动时尚型 国VI</td>\n      <td>7.38</td>\n      <td>11.81</td>\n      <td>2021-06</td>\n      <td>3.3</td>\n      <td>NaN</td>\n      <td>国六b</td>\n      <td>1</td>\n      <td>1</td>\n      <td>0</td>\n      <td>0</td>\n      <td>NaN</td>\n      <td>NaN</td>\n      <td>NaN</td>\n      <td>2</td>\n      <td>1.50</td>\n      <td>1</td>\n      <td>大众</td>\n      <td>3</td>\n    </tr>\n    <tr>\n      <th>8</th>\n      <td>11</td>\n      <td>起亚 智跑 2019款 1.4T DCT智享豪华版GLS</td>\n      <td>9.49</td>\n      <td>15.73</td>\n      <td>2019-10</td>\n      <td>3.3</td>\n      <td>NaN</td>\n      <td>国六b</td>\n      <td>1</td>\n      <td>2</td>\n      <td>0</td>\n      <td>0</td>\n      <td>NaN</td>\n      <td>NaN</td>\n      <td>NaN</td>\n      <td>2</td>\n      <td>1.96</td>\n      <td>1</td>\n      <td>起亚</td>\n      <td>3</td>\n    </tr>\n    <tr>\n      <th>9</th>\n      <td>12</td>\n      <td>大众 桑塔纳 2021款 1.5L 手动风尚版</td>\n      <td>5.88</td>\n      <td>9.43</td>\n      <td>2022-07</td>\n      <td>0.4</td>\n      <td>NaN</td>\n      <td>国六b</td>\n      <td>0</td>\n      <td>0</td>\n      <td>0</td>\n      <td>0</td>\n      <td>NaN</td>\n      <td>NaN</td>\n      <td>NaN</td>\n      <td>2</td>\n      <td>1.50</td>\n      <td>2</td>\n      <td>大众</td>\n      <td>3</td>\n    </tr>\n  </tbody>\n</table>\n</div>"
     },
     "execution_count": 328,
     "metadata": {},
     "output_type": "execute_result"
    }
   ],
   "source": [
    "#读取北京的mixed sheet\n",
    "df_mixed_3 = pd.read_excel('/Users/apple/Desktop/progrmming_project/UsedCarPricing/data/cleaneddata/cleaned_car_all_beijing.xlsx',sheet_name='mixed')\n",
    "df_mixed_3.head(10)\n",
    "df_mixed_3['city']='3'\n",
    "df_mixed_3.head(10)"
   ],
   "metadata": {
    "collapsed": false,
    "pycharm": {
     "name": "#%%\n"
    }
   }
  },
  {
   "cell_type": "markdown",
   "source": [
    "北京上海深圳电车和汽油车分别合并"
   ],
   "metadata": {
    "collapsed": false,
    "pycharm": {
     "name": "#%% md\n"
    }
   }
  },
  {
   "cell_type": "code",
   "execution_count": 329,
   "outputs": [],
   "source": [
    "#油车合并\n",
    "df_petrol_all=pd.concat([df_petrol_1, df_petrol_2, df_petrol_3], sort=False)\n",
    "\n",
    "#电车合并\n",
    "df_electric_all=pd.concat([df_electric_1, df_electric_2, df_electric_3], sort=False)\n",
    "\n",
    "#混合合并\n",
    "df_mixed_all=pd.concat([df_mixed_1, df_mixed_2, df_mixed_3], sort=False)"
   ],
   "metadata": {
    "collapsed": false,
    "pycharm": {
     "name": "#%%\n"
    }
   }
  },
  {
   "cell_type": "code",
   "execution_count": 330,
   "outputs": [
    {
     "name": "stdout",
     "output_type": "stream",
     "text": [
      "<bound method DataFrame.count of        Unnamed: 0                       title  price  price_new date_regi  \\\n",
      "0               1      理想汽车 理想ONE 2020款 增程6座版  27.60      35.60   2021-02   \n",
      "1              54      理想汽车 理想ONE 2021款 增程6座版  27.35      34.98   2022-04   \n",
      "2              77      理想汽车 理想ONE 2020款 增程6座版  23.73      32.80   2021-01   \n",
      "3              88      理想汽车 理想ONE 2020款 增程6座版  25.94      32.80   2021-04   \n",
      "4              94      理想汽车 理想ONE 2020款 增程6座版  23.61      32.80   2021-05   \n",
      "...           ...                         ...    ...        ...       ...   \n",
      "22043       26162     奔驰GLB 2021款 GLB 200 时尚型  24.93      35.69   2021-05   \n",
      "22044       26163  领克02 2021款 1.5T DCT两驱耀Plus   9.93      15.17   2021-04   \n",
      "22045       26164     丰田 雷凌 2016款 1.6G CVT精英版   6.38      13.55   2016-07   \n",
      "22046       26165     凯迪拉克XT4 2018款 28T 两驱豪华型  16.40      30.36   2018-11   \n",
      "22047       26167      哈弗H6S 2022款 2.0T 两驱智跑版  11.43      15.95   2021-11   \n",
      "\n",
      "       mileage  official_endurance standard  gearbox  num_trans  \\\n",
      "0          1.6                 NaN      国六b        1          1   \n",
      "1          0.7               188.0      新能源        1          0   \n",
      "2          4.1               180.0      新能源        1          1   \n",
      "3          2.5               180.0      新能源        1          0   \n",
      "4          2.6               180.0      新能源        1          0   \n",
      "...        ...                 ...      ...      ...        ...   \n",
      "22043      1.6                 NaN      国六b        1          0   \n",
      "22044      1.9                 NaN      国六b        1          1   \n",
      "22045      7.5                 NaN       国五        1          1   \n",
      "22046      6.3                 NaN      国六b        1          1   \n",
      "22047      1.4                 NaN      国六b        1          2   \n",
      "\n",
      "       license_location  color  motor_power  battery_capacity battery_type  \\\n",
      "0                     0      1          NaN               NaN          NaN   \n",
      "1                     0      0        245.0              40.0            -   \n",
      "2                     1      1        240.0              40.0        三元锂电池   \n",
      "3                     0      0        240.0              40.0        三元锂电池   \n",
      "4                     1      0        240.0              40.0        三元锂电池   \n",
      "...                 ...    ...          ...               ...          ...   \n",
      "22043                 0      0          NaN               NaN          NaN   \n",
      "22044                 0      0          NaN               NaN          NaN   \n",
      "22045                 0      0          NaN               NaN          NaN   \n",
      "22046                 0      1          NaN               NaN          NaN   \n",
      "22047                 0      1          NaN               NaN          NaN   \n",
      "\n",
      "       energy_type  displacement  keys brand city  \n",
      "0                0          1.68     1  理想汽车    1  \n",
      "1                0           NaN     2  理想汽车    1  \n",
      "2                0           NaN     2  理想汽车    1  \n",
      "3                0           NaN     1  理想汽车    1  \n",
      "4                0           NaN     1  理想汽车    1  \n",
      "...            ...           ...   ...   ...  ...  \n",
      "22043            0          1.82     1    奔驰    3  \n",
      "22044            0          2.10     2    领克    3  \n",
      "22045            0          1.60     2    丰田    3  \n",
      "22046            0          2.80     1  凯迪拉克    3  \n",
      "22047            0          2.80     2    哈弗    3  \n",
      "\n",
      "[54405 rows x 20 columns]>\n",
      "<bound method DataFrame.count of       Unnamed: 0                         title  price  price_new date_regi  \\\n",
      "0              4       零跑汽车 零跑T03 2021款 400豪华版   7.19       7.58   2021-05   \n",
      "1              5  威马汽车 威马W6 2021款 520km PRO全能版  15.60      20.98   2022-11   \n",
      "2             13  奇瑞 小蚂蚁 2021款 15万蚁粉款 蚁炫版 磷酸铁锂   5.30       7.38   2020-11   \n",
      "3             14    特斯拉 Model Y 2022款 长续航全轮驱动版  35.45      37.59   2022-06   \n",
      "4             20    零跑汽车 零跑T03 2021款 400豪华Pro版   7.88       7.68   2022-03   \n",
      "...          ...                           ...    ...        ...       ...   \n",
      "2423       26112   零跑汽车 零跑T03 2021款 400轻享版 三元锂   6.20       5.98   2021-10   \n",
      "2424       26117   奇瑞eQ1 2019款 小蚂蚁 4座智享版 35kWh   4.88       6.98   2019-09   \n",
      "2425       26129         小鹏汽车G3 2021款 G3i 520N  16.10      20.19   2021-11   \n",
      "2426       26149       零跑汽车 零跑T03 2020款 400豪华版   6.33       7.58   2020-09   \n",
      "2427       26168              小鹏汽车G3 2019款 悦享版   8.99      15.58   2019-06   \n",
      "\n",
      "      mileage  official_endurance standard  gearbox  num_trans  \\\n",
      "0        1.50               403.0      新能源        1          0   \n",
      "1        0.01               520.0      新能源        1          0   \n",
      "2        4.60               301.0      新能源        1          1   \n",
      "3        0.08               640.0      新能源        1          1   \n",
      "4        0.60               403.0      新能源        1          1   \n",
      "...       ...                 ...      ...      ...        ...   \n",
      "2423     3.00               403.0      新能源        1          0   \n",
      "2424     5.30               301.0      新能源        1          0   \n",
      "2425     0.70               520.0      新能源        1          1   \n",
      "2426     3.80               403.0      新能源        1          1   \n",
      "2427     5.30               351.0      新能源        1          1   \n",
      "\n",
      "      license_location  color  motor_power  battery_capacity battery_type  \\\n",
      "0                    0      1         55.0         38.000000            -   \n",
      "1                    0      1        160.0         47.070922        三元锂电池   \n",
      "2                    1      1         30.0         35.000000            -   \n",
      "3                    0      0        331.0         78.000000        三元锂电池   \n",
      "4                    0      1         80.0         41.000000            -   \n",
      "...                ...    ...          ...               ...          ...   \n",
      "2423                 0      1         55.0         38.000000            -   \n",
      "2424                 1      0         30.0         35.000000        锂离子电池   \n",
      "2425                 0      1        145.0         66.000000            -   \n",
      "2426                 0      1         55.0         38.000000            -   \n",
      "2427                 0      1        145.0         47.000000        三元锂电池   \n",
      "\n",
      "      energy_type  keys brand city  \n",
      "0               1     2  零跑汽车    1  \n",
      "1               1     2  威马汽车    1  \n",
      "2               1     2    奇瑞    1  \n",
      "3               1     1   特斯拉    1  \n",
      "4               1     2  零跑汽车    1  \n",
      "...           ...   ...   ...  ...  \n",
      "2423            1     2  零跑汽车    3  \n",
      "2424            1     2    奇瑞    3  \n",
      "2425            1     1  小鹏汽车    3  \n",
      "2426            1     2  零跑汽车    3  \n",
      "2427            1     1  小鹏汽车    3  \n",
      "\n",
      "[11776 rows x 19 columns]>\n",
      "<bound method DataFrame.count of        Unnamed: 0                               title  price  price_new  \\\n",
      "0               0           荣威i5 2020款 1.5L 自动4G互联领豪版   6.10       9.54   \n",
      "1               2         丰田 雷凌 2019款 185T CVT进取版 国VI   8.73      12.57   \n",
      "2               3       宝骏730 2019款 1.5L 手动超值型 7座 国VI   4.93       6.93   \n",
      "3               6            别克 昂科拉 2021款 332T CVT精英型   9.08      15.84   \n",
      "4               7          现代 领动 2019款 1.5L CVT智炫·精英型   7.00      13.00   \n",
      "...           ...                                 ...    ...        ...   \n",
      "14290       19355     丰田 YARiS L 致享 2020款 1.5L CVT领先版   6.23       9.53   \n",
      "14291       19356  北京汽车 BEIJING-X7 2020款 1.5TD DCT致领版   8.20      15.95   \n",
      "14292       19357              哈弗H6S 2022款 2.0T 两驱智跑版  11.43      15.95   \n",
      "14293       19358                雷克萨斯ES 2020款 200 豪华版  28.18      33.54   \n",
      "14294       19359               凯迪拉克CT5 2021款 28T 豪华型  21.58      32.53   \n",
      "\n",
      "      date_regi  mileage  official_endurance standard  gearbox  num_trans  \\\n",
      "0       2021-04      1.4                 NaN      国六b        1          1   \n",
      "1       2020-07      1.8                 NaN      国六b        1          1   \n",
      "2       2020-09      4.9                 NaN      国六b        0          0   \n",
      "3       2021-04      1.4                 NaN      国六b        1          1   \n",
      "4       2020-01      5.1                 NaN      国六b        1          0   \n",
      "...         ...      ...                 ...      ...      ...        ...   \n",
      "14290   2020-08      1.9                 NaN      国六b        1          1   \n",
      "14291   2020-06      1.8                 NaN      国六b        1          1   \n",
      "14292   2021-11      1.4                 NaN      国六b        1          2   \n",
      "14293   2020-12      1.9                 NaN      国六b        1          1   \n",
      "14294   2021-01      2.7                 NaN      国六b        1          0   \n",
      "\n",
      "       license_location  color  motor_power  battery_capacity battery_type  \\\n",
      "0                     0      0          NaN               NaN          NaN   \n",
      "1                     0      0          NaN               NaN          NaN   \n",
      "2                     0      0          NaN               NaN          NaN   \n",
      "3                     0      0          NaN               NaN          NaN   \n",
      "4                     0      0          NaN               NaN          NaN   \n",
      "...                 ...    ...          ...               ...          ...   \n",
      "14290                 0      0          NaN               NaN          NaN   \n",
      "14291                 0      1          NaN               NaN          NaN   \n",
      "14292                 0      1          NaN               NaN          NaN   \n",
      "14293                 0      1          NaN               NaN          NaN   \n",
      "14294                 0      0          NaN               NaN          NaN   \n",
      "\n",
      "       energy_type  displacement  keys brand city  \n",
      "0                2          1.50     2    荣威    1  \n",
      "1                2          1.68     2    丰田    1  \n",
      "2                2          1.50     1    宝骏    1  \n",
      "3                2          1.82     1    别克    1  \n",
      "4                2          1.50     1    现代    1  \n",
      "...            ...           ...   ...   ...  ...  \n",
      "14290            2          1.50     1    丰田    3  \n",
      "14291            2          2.10     2  北京汽车    3  \n",
      "14292            2          2.80     2    哈弗    3  \n",
      "14293            2          2.00     1  雷克萨斯    3  \n",
      "14294            2          2.80     1  凯迪拉克    3  \n",
      "\n",
      "[31048 rows x 20 columns]>\n"
     ]
    }
   ],
   "source": [
    "#获取汽油车[54405 rows x 20 columns]\n",
    "print(df_petrol_all.count)\n",
    "#获取汽油车[11776 rows x 19 columns]\n",
    "print(df_electric_all.count)\n",
    "#获取混合汽车[31048 rows x 20 columns]\n",
    "print(df_mixed_all.count)"
   ],
   "metadata": {
    "collapsed": false,
    "pycharm": {
     "name": "#%%\n"
    }
   }
  },
  {
   "cell_type": "code",
   "execution_count": 331,
   "outputs": [
    {
     "data": {
      "text/plain": "0        0.882192\n1        0.959635\n2        0.876530\n3        0.892968\n4        0.898447\n           ...   \n22043    0.898447\n22044    0.892968\n22045    0.576073\n22046    0.731872\n22047    0.932055\nName: newness_rate, Length: 54405, dtype: float64"
     },
     "execution_count": 331,
     "metadata": {},
     "output_type": "execute_result"
    }
   ],
   "source": [
    "#将新车价格对数化\n",
    "df_petrol_all['price_log'] = df_petrol_all['price_new'].apply(np.log1p)\n",
    "#增加「rate_residual」\n",
    "df_petrol_all['rate_residual'] = df_petrol_all['price']/df_petrol_all['price_new']\n",
    "#计算「使用天数」\n",
    "now=datetime(2022,11,8)\n",
    "df_petrol_all['date_regi'] = pd.to_datetime(df_petrol_all['date_regi'], format='%Y-%m')\n",
    "df_petrol_all['num_day']=df_petrol_all['date_regi'].apply(lambda x: now-x)\n",
    "df_petrol_all['num_day']=df_petrol_all['num_day'].apply(lambda x: x.days)\n",
    "\n",
    "# 新特征:使用年限成新率\n",
    "#计算（汽车规定使用年限-已使用年限）/汽车规定使用年限\n",
    "df_petrol_all['newness_rate']=(15.0*365.0-(df_petrol_all['num_day'])).astype(float)/(15.0*365.0)\n",
    "\n",
    "# 新特征：里程/天数\n",
    "df_petrol_all['mile_per_day']=df_petrol_all['mileage']/df_petrol_all['num_day']\n",
    "\n",
    "df_petrol_all['newness_rate']"
   ],
   "metadata": {
    "collapsed": false,
    "pycharm": {
     "name": "#%%\n"
    }
   }
  },
  {
   "cell_type": "markdown",
   "source": [
    "上述同样的流程对电车也执行一遍"
   ],
   "metadata": {
    "collapsed": false,
    "pycharm": {
     "name": "#%% md\n"
    }
   }
  },
  {
   "cell_type": "markdown",
   "source": [],
   "metadata": {
    "collapsed": false,
    "pycharm": {
     "name": "#%% md\n"
    }
   }
  },
  {
   "cell_type": "code",
   "execution_count": 332,
   "outputs": [],
   "source": [
    "#将新车价格对数化\n",
    "df_electric_all['price_log'] = df_electric_all['price_new'].apply(np.log1p)\n",
    "#增加「rate_residual」\n",
    "df_electric_all['rate_residual'] = df_electric_all['price']/df_electric_all['price_new']\n",
    "#新特征：使用天数：计算当前时间-date_regi\n",
    "#计算「使用天数」\n",
    "now=datetime(2022,11,8)\n",
    "df_electric_all['date_regi'] = pd.to_datetime(df_electric_all['date_regi'], format='%Y-%m')\n",
    "df_electric_all['num_day']=df_electric_all['date_regi'].apply(lambda x: now-x)\n",
    "df_electric_all['num_day']=df_electric_all['num_day'].apply(lambda x: x.days)\n",
    "\n",
    "\n",
    "# 新特征:使用年限成新率\n",
    "#计算（汽车规定使用年限-已使用年限）/汽车规定使用年限\n",
    "df_electric_all['newness_rate']=(15.0*365.0-(df_electric_all['num_day'])).astype(float)/(15.0*365.0)\n",
    "\n",
    "# 新特征：里程/天数\n",
    "df_electric_all['mile_per_day']=df_electric_all['mileage']/df_electric_all['num_day']"
   ],
   "metadata": {
    "collapsed": false,
    "pycharm": {
     "name": "#%%\n"
    }
   }
  },
  {
   "cell_type": "markdown",
   "source": [
    "上述同样的流程对混合汽车也执行一遍"
   ],
   "metadata": {
    "collapsed": false,
    "pycharm": {
     "name": "#%% md\n"
    }
   }
  },
  {
   "cell_type": "code",
   "execution_count": 333,
   "outputs": [],
   "source": [
    "#将新车价格对数化\n",
    "df_mixed_all['price_log'] = df_mixed_all['price_new'].apply(np.log1p)\n",
    "#增加「rate_residual」\n",
    "df_mixed_all['rate_residual'] = df_mixed_all['price']/df_mixed_all['price_new']\n",
    "#新特征：使用天数：计算当前时间-date_regi\n",
    "#计算「使用天数」\n",
    "now=datetime(2022,11,8)\n",
    "df_mixed_all['date_regi'] = pd.to_datetime(df_mixed_all['date_regi'], format='%Y-%m')\n",
    "df_mixed_all['num_day']=df_mixed_all['date_regi'].apply(lambda x: now-x)\n",
    "df_mixed_all['num_day']=df_mixed_all['num_day'].apply(lambda x: x.days)\n",
    "\n",
    "\n",
    "# 新特征:使用年限成新率\n",
    "#计算（汽车规定使用年限-已使用年限）/汽车规定使用年限\n",
    "df_mixed_all['newness_rate']=(15.0*365.0-(df_mixed_all['num_day'])).astype(float)/(15.0*365.0)\n",
    "\n",
    "# 新特征：里程/天数\n",
    "df_mixed_all['mile_per_day']=df_mixed_all['mileage']/df_mixed_all['num_day']"
   ],
   "metadata": {
    "collapsed": false,
    "pycharm": {
     "name": "#%%\n"
    }
   }
  },
  {
   "cell_type": "code",
   "execution_count": 334,
   "outputs": [
    {
     "data": {
      "text/plain": "         Unnamed: 0         price     price_new       mileage  \\\ncount  11776.000000  11776.000000  11776.000000  11776.000000   \nmean   14144.569293     13.014372     17.284760      2.273997   \nstd     9753.226814      9.531708     12.673419      2.185183   \nmin        4.000000      1.330000      2.880000      0.010000   \n25%     6238.000000      6.160000      7.380000      0.700000   \n50%    12849.500000      9.980000     13.880000      1.600000   \n75%    19575.250000     18.980000     25.690000      3.200000   \nmax    39215.000000     96.450000    114.800000     16.300000   \n\n       official_endurance       gearbox     num_trans  license_location  \\\ncount        11776.000000  11776.000000  11776.000000      11776.000000   \nmean           398.276473      0.999830      0.698879          0.163213   \nstd            135.540466      0.013032      0.768611          0.369576   \nmin            116.000000      0.000000      0.000000          0.000000   \n25%            301.000000      1.000000      0.000000          0.000000   \n50%            401.000000      1.000000      1.000000          0.000000   \n75%            500.000000      1.000000      1.000000          0.000000   \nmax            732.000000      1.000000      6.000000          1.000000   \n\n              color   motor_power  battery_capacity  energy_type  \\\ncount  11776.000000  11776.000000      11776.000000      11776.0   \nmean       0.367188    121.702917         47.405449          1.0   \nstd        0.482059     95.223232         20.099836          0.0   \nmin        0.000000     15.000000          9.000000          1.0   \n25%        0.000000     40.000000         33.000000          1.0   \n50%        0.000000    105.000000         47.000000          1.0   \n75%        1.000000    175.000000         60.000000          1.0   \nmax        1.000000    577.000000        100.000000          1.0   \n\n               keys     price_log  rate_residual       num_day  newness_rate  \\\ncount  11776.000000  11776.000000   11776.000000  11776.000000  11776.000000   \nmean       1.302055      2.694993       0.799781    639.817340      0.883138   \nstd        0.466326      0.652492       0.219021    510.325403      0.093210   \nmin        0.000000      1.355835       0.083753      7.000000      0.498082   \n25%        1.000000      2.125848       0.707503    280.000000      0.854247   \n50%        1.000000      2.700018       0.853309    495.000000      0.909589   \n75%        2.000000      3.284289       0.940367    798.000000      0.948858   \nmax        5.000000      4.751865       1.484950   2748.000000      0.998721   \n\n       mile_per_day  \ncount  11776.000000  \nmean       0.003445  \nstd        0.002589  \nmin        0.000006  \n25%        0.001742  \n50%        0.003030  \n75%        0.004651  \nmax        0.028571  ",
      "text/html": "<div>\n<style scoped>\n    .dataframe tbody tr th:only-of-type {\n        vertical-align: middle;\n    }\n\n    .dataframe tbody tr th {\n        vertical-align: top;\n    }\n\n    .dataframe thead th {\n        text-align: right;\n    }\n</style>\n<table border=\"1\" class=\"dataframe\">\n  <thead>\n    <tr style=\"text-align: right;\">\n      <th></th>\n      <th>Unnamed: 0</th>\n      <th>price</th>\n      <th>price_new</th>\n      <th>mileage</th>\n      <th>official_endurance</th>\n      <th>gearbox</th>\n      <th>num_trans</th>\n      <th>license_location</th>\n      <th>color</th>\n      <th>motor_power</th>\n      <th>battery_capacity</th>\n      <th>energy_type</th>\n      <th>keys</th>\n      <th>price_log</th>\n      <th>rate_residual</th>\n      <th>num_day</th>\n      <th>newness_rate</th>\n      <th>mile_per_day</th>\n    </tr>\n  </thead>\n  <tbody>\n    <tr>\n      <th>count</th>\n      <td>11776.000000</td>\n      <td>11776.000000</td>\n      <td>11776.000000</td>\n      <td>11776.000000</td>\n      <td>11776.000000</td>\n      <td>11776.000000</td>\n      <td>11776.000000</td>\n      <td>11776.000000</td>\n      <td>11776.000000</td>\n      <td>11776.000000</td>\n      <td>11776.000000</td>\n      <td>11776.0</td>\n      <td>11776.000000</td>\n      <td>11776.000000</td>\n      <td>11776.000000</td>\n      <td>11776.000000</td>\n      <td>11776.000000</td>\n      <td>11776.000000</td>\n    </tr>\n    <tr>\n      <th>mean</th>\n      <td>14144.569293</td>\n      <td>13.014372</td>\n      <td>17.284760</td>\n      <td>2.273997</td>\n      <td>398.276473</td>\n      <td>0.999830</td>\n      <td>0.698879</td>\n      <td>0.163213</td>\n      <td>0.367188</td>\n      <td>121.702917</td>\n      <td>47.405449</td>\n      <td>1.0</td>\n      <td>1.302055</td>\n      <td>2.694993</td>\n      <td>0.799781</td>\n      <td>639.817340</td>\n      <td>0.883138</td>\n      <td>0.003445</td>\n    </tr>\n    <tr>\n      <th>std</th>\n      <td>9753.226814</td>\n      <td>9.531708</td>\n      <td>12.673419</td>\n      <td>2.185183</td>\n      <td>135.540466</td>\n      <td>0.013032</td>\n      <td>0.768611</td>\n      <td>0.369576</td>\n      <td>0.482059</td>\n      <td>95.223232</td>\n      <td>20.099836</td>\n      <td>0.0</td>\n      <td>0.466326</td>\n      <td>0.652492</td>\n      <td>0.219021</td>\n      <td>510.325403</td>\n      <td>0.093210</td>\n      <td>0.002589</td>\n    </tr>\n    <tr>\n      <th>min</th>\n      <td>4.000000</td>\n      <td>1.330000</td>\n      <td>2.880000</td>\n      <td>0.010000</td>\n      <td>116.000000</td>\n      <td>0.000000</td>\n      <td>0.000000</td>\n      <td>0.000000</td>\n      <td>0.000000</td>\n      <td>15.000000</td>\n      <td>9.000000</td>\n      <td>1.0</td>\n      <td>0.000000</td>\n      <td>1.355835</td>\n      <td>0.083753</td>\n      <td>7.000000</td>\n      <td>0.498082</td>\n      <td>0.000006</td>\n    </tr>\n    <tr>\n      <th>25%</th>\n      <td>6238.000000</td>\n      <td>6.160000</td>\n      <td>7.380000</td>\n      <td>0.700000</td>\n      <td>301.000000</td>\n      <td>1.000000</td>\n      <td>0.000000</td>\n      <td>0.000000</td>\n      <td>0.000000</td>\n      <td>40.000000</td>\n      <td>33.000000</td>\n      <td>1.0</td>\n      <td>1.000000</td>\n      <td>2.125848</td>\n      <td>0.707503</td>\n      <td>280.000000</td>\n      <td>0.854247</td>\n      <td>0.001742</td>\n    </tr>\n    <tr>\n      <th>50%</th>\n      <td>12849.500000</td>\n      <td>9.980000</td>\n      <td>13.880000</td>\n      <td>1.600000</td>\n      <td>401.000000</td>\n      <td>1.000000</td>\n      <td>1.000000</td>\n      <td>0.000000</td>\n      <td>0.000000</td>\n      <td>105.000000</td>\n      <td>47.000000</td>\n      <td>1.0</td>\n      <td>1.000000</td>\n      <td>2.700018</td>\n      <td>0.853309</td>\n      <td>495.000000</td>\n      <td>0.909589</td>\n      <td>0.003030</td>\n    </tr>\n    <tr>\n      <th>75%</th>\n      <td>19575.250000</td>\n      <td>18.980000</td>\n      <td>25.690000</td>\n      <td>3.200000</td>\n      <td>500.000000</td>\n      <td>1.000000</td>\n      <td>1.000000</td>\n      <td>0.000000</td>\n      <td>1.000000</td>\n      <td>175.000000</td>\n      <td>60.000000</td>\n      <td>1.0</td>\n      <td>2.000000</td>\n      <td>3.284289</td>\n      <td>0.940367</td>\n      <td>798.000000</td>\n      <td>0.948858</td>\n      <td>0.004651</td>\n    </tr>\n    <tr>\n      <th>max</th>\n      <td>39215.000000</td>\n      <td>96.450000</td>\n      <td>114.800000</td>\n      <td>16.300000</td>\n      <td>732.000000</td>\n      <td>1.000000</td>\n      <td>6.000000</td>\n      <td>1.000000</td>\n      <td>1.000000</td>\n      <td>577.000000</td>\n      <td>100.000000</td>\n      <td>1.0</td>\n      <td>5.000000</td>\n      <td>4.751865</td>\n      <td>1.484950</td>\n      <td>2748.000000</td>\n      <td>0.998721</td>\n      <td>0.028571</td>\n    </tr>\n  </tbody>\n</table>\n</div>"
     },
     "execution_count": 334,
     "metadata": {},
     "output_type": "execute_result"
    }
   ],
   "source": [
    "df_electric_all.describe()"
   ],
   "metadata": {
    "collapsed": false,
    "pycharm": {
     "name": "#%%\n"
    }
   }
  },
  {
   "cell_type": "code",
   "execution_count": 335,
   "outputs": [
    {
     "data": {
      "text/plain": "         Unnamed: 0         price     price_new       mileage  \\\ncount  54405.000000  54405.000000  54405.000000  54405.000000   \nmean   16961.407610     13.077801     23.334934      5.188261   \nstd    10444.272907     10.320549     16.241549      3.142416   \nmin        1.000000      1.080000      3.680000      0.000000   \n25%     8200.000000      6.600000     13.000000      2.800000   \n50%    16282.000000      9.690000     17.690000      4.900000   \n75%    24432.000000     16.430000     29.720000      7.200000   \nmax    39214.000000    100.000000    389.550000     19.900000   \n\n       official_endurance       gearbox     num_trans  license_location  \\\ncount          330.000000  54405.000000  54405.000000      54405.000000   \nmean           180.003030      0.932139      0.957302          0.050694   \nstd             14.024403      0.251510      0.973472          0.219374   \nmin            116.000000      0.000000      0.000000          0.000000   \n25%            180.000000      1.000000      0.000000          0.000000   \n50%            180.000000      1.000000      1.000000          0.000000   \n75%            188.000000      1.000000      1.000000          0.000000   \nmax            246.000000      1.000000     59.000000          1.000000   \n\n              color  motor_power  battery_capacity  energy_type  displacement  \\\ncount  54405.000000   334.000000        334.000000      54405.0  54071.000000   \nmean       0.237092   261.766467         39.431138          0.0      2.202670   \nstd        0.425303    70.222892          2.185068          0.0      0.571574   \nmin        0.000000   125.000000         18.000000          0.0      0.000000   \n25%        0.000000   240.000000         40.000000          0.0      1.800000   \n50%        0.000000   245.000000         40.000000          0.0      2.100000   \n75%        0.000000   245.000000         40.000000          0.0      2.800000   \nmax        1.000000   510.000000         44.000000          0.0     28.000000   \n\n               keys     price_log  rate_residual       num_day  newness_rate  \\\ncount  54405.000000  54405.000000   54405.000000  54405.000000  54405.000000   \nmean       1.308740      3.030508       0.554783   1419.017719      0.740819   \nstd        0.466097      0.544845       0.143252    659.465987      0.120450   \nmin        0.000000      1.543298       0.103602      7.000000      0.159087   \n25%        1.000000      2.639057       0.447417    890.000000      0.648402   \n50%        1.000000      2.927989       0.549086   1407.000000      0.743014   \n75%        2.000000      3.424914       0.656081   1925.000000      0.837443   \nmax        5.000000      5.967556       1.392244   4604.000000      0.998721   \n\n       mile_per_day  \ncount  54405.000000  \nmean       0.003657  \nstd        0.002031  \nmin        0.000000  \n25%        0.002510  \n50%        0.003474  \n75%        0.004553  \nmax        0.171429  ",
      "text/html": "<div>\n<style scoped>\n    .dataframe tbody tr th:only-of-type {\n        vertical-align: middle;\n    }\n\n    .dataframe tbody tr th {\n        vertical-align: top;\n    }\n\n    .dataframe thead th {\n        text-align: right;\n    }\n</style>\n<table border=\"1\" class=\"dataframe\">\n  <thead>\n    <tr style=\"text-align: right;\">\n      <th></th>\n      <th>Unnamed: 0</th>\n      <th>price</th>\n      <th>price_new</th>\n      <th>mileage</th>\n      <th>official_endurance</th>\n      <th>gearbox</th>\n      <th>num_trans</th>\n      <th>license_location</th>\n      <th>color</th>\n      <th>motor_power</th>\n      <th>battery_capacity</th>\n      <th>energy_type</th>\n      <th>displacement</th>\n      <th>keys</th>\n      <th>price_log</th>\n      <th>rate_residual</th>\n      <th>num_day</th>\n      <th>newness_rate</th>\n      <th>mile_per_day</th>\n    </tr>\n  </thead>\n  <tbody>\n    <tr>\n      <th>count</th>\n      <td>54405.000000</td>\n      <td>54405.000000</td>\n      <td>54405.000000</td>\n      <td>54405.000000</td>\n      <td>330.000000</td>\n      <td>54405.000000</td>\n      <td>54405.000000</td>\n      <td>54405.000000</td>\n      <td>54405.000000</td>\n      <td>334.000000</td>\n      <td>334.000000</td>\n      <td>54405.0</td>\n      <td>54071.000000</td>\n      <td>54405.000000</td>\n      <td>54405.000000</td>\n      <td>54405.000000</td>\n      <td>54405.000000</td>\n      <td>54405.000000</td>\n      <td>54405.000000</td>\n    </tr>\n    <tr>\n      <th>mean</th>\n      <td>16961.407610</td>\n      <td>13.077801</td>\n      <td>23.334934</td>\n      <td>5.188261</td>\n      <td>180.003030</td>\n      <td>0.932139</td>\n      <td>0.957302</td>\n      <td>0.050694</td>\n      <td>0.237092</td>\n      <td>261.766467</td>\n      <td>39.431138</td>\n      <td>0.0</td>\n      <td>2.202670</td>\n      <td>1.308740</td>\n      <td>3.030508</td>\n      <td>0.554783</td>\n      <td>1419.017719</td>\n      <td>0.740819</td>\n      <td>0.003657</td>\n    </tr>\n    <tr>\n      <th>std</th>\n      <td>10444.272907</td>\n      <td>10.320549</td>\n      <td>16.241549</td>\n      <td>3.142416</td>\n      <td>14.024403</td>\n      <td>0.251510</td>\n      <td>0.973472</td>\n      <td>0.219374</td>\n      <td>0.425303</td>\n      <td>70.222892</td>\n      <td>2.185068</td>\n      <td>0.0</td>\n      <td>0.571574</td>\n      <td>0.466097</td>\n      <td>0.544845</td>\n      <td>0.143252</td>\n      <td>659.465987</td>\n      <td>0.120450</td>\n      <td>0.002031</td>\n    </tr>\n    <tr>\n      <th>min</th>\n      <td>1.000000</td>\n      <td>1.080000</td>\n      <td>3.680000</td>\n      <td>0.000000</td>\n      <td>116.000000</td>\n      <td>0.000000</td>\n      <td>0.000000</td>\n      <td>0.000000</td>\n      <td>0.000000</td>\n      <td>125.000000</td>\n      <td>18.000000</td>\n      <td>0.0</td>\n      <td>0.000000</td>\n      <td>0.000000</td>\n      <td>1.543298</td>\n      <td>0.103602</td>\n      <td>7.000000</td>\n      <td>0.159087</td>\n      <td>0.000000</td>\n    </tr>\n    <tr>\n      <th>25%</th>\n      <td>8200.000000</td>\n      <td>6.600000</td>\n      <td>13.000000</td>\n      <td>2.800000</td>\n      <td>180.000000</td>\n      <td>1.000000</td>\n      <td>0.000000</td>\n      <td>0.000000</td>\n      <td>0.000000</td>\n      <td>240.000000</td>\n      <td>40.000000</td>\n      <td>0.0</td>\n      <td>1.800000</td>\n      <td>1.000000</td>\n      <td>2.639057</td>\n      <td>0.447417</td>\n      <td>890.000000</td>\n      <td>0.648402</td>\n      <td>0.002510</td>\n    </tr>\n    <tr>\n      <th>50%</th>\n      <td>16282.000000</td>\n      <td>9.690000</td>\n      <td>17.690000</td>\n      <td>4.900000</td>\n      <td>180.000000</td>\n      <td>1.000000</td>\n      <td>1.000000</td>\n      <td>0.000000</td>\n      <td>0.000000</td>\n      <td>245.000000</td>\n      <td>40.000000</td>\n      <td>0.0</td>\n      <td>2.100000</td>\n      <td>1.000000</td>\n      <td>2.927989</td>\n      <td>0.549086</td>\n      <td>1407.000000</td>\n      <td>0.743014</td>\n      <td>0.003474</td>\n    </tr>\n    <tr>\n      <th>75%</th>\n      <td>24432.000000</td>\n      <td>16.430000</td>\n      <td>29.720000</td>\n      <td>7.200000</td>\n      <td>188.000000</td>\n      <td>1.000000</td>\n      <td>1.000000</td>\n      <td>0.000000</td>\n      <td>0.000000</td>\n      <td>245.000000</td>\n      <td>40.000000</td>\n      <td>0.0</td>\n      <td>2.800000</td>\n      <td>2.000000</td>\n      <td>3.424914</td>\n      <td>0.656081</td>\n      <td>1925.000000</td>\n      <td>0.837443</td>\n      <td>0.004553</td>\n    </tr>\n    <tr>\n      <th>max</th>\n      <td>39214.000000</td>\n      <td>100.000000</td>\n      <td>389.550000</td>\n      <td>19.900000</td>\n      <td>246.000000</td>\n      <td>1.000000</td>\n      <td>59.000000</td>\n      <td>1.000000</td>\n      <td>1.000000</td>\n      <td>510.000000</td>\n      <td>44.000000</td>\n      <td>0.0</td>\n      <td>28.000000</td>\n      <td>5.000000</td>\n      <td>5.967556</td>\n      <td>1.392244</td>\n      <td>4604.000000</td>\n      <td>0.998721</td>\n      <td>0.171429</td>\n    </tr>\n  </tbody>\n</table>\n</div>"
     },
     "execution_count": 335,
     "metadata": {},
     "output_type": "execute_result"
    }
   ],
   "source": [
    "df_petrol_all.describe()"
   ],
   "metadata": {
    "collapsed": false,
    "pycharm": {
     "name": "#%%\n"
    }
   }
  },
  {
   "cell_type": "code",
   "execution_count": 336,
   "outputs": [
    {
     "data": {
      "text/plain": "         Unnamed: 0         price     price_new       mileage  \\\ncount  31048.000000  31048.000000  31048.000000  31048.000000   \nmean   10473.337091     16.961977     24.442505      2.731015   \nstd     6758.440299     12.095157     16.020433      2.187033   \nmin        0.000000      2.030000      3.680000      0.000000   \n25%     5081.000000      9.000000     13.870000      1.200000   \n50%    10095.000000     12.980000     19.520000      2.300000   \n75%    15154.250000     21.160000     31.460000      3.700000   \nmax    39211.000000     99.850000    190.370000     18.500000   \n\n       official_endurance       gearbox     num_trans  license_location  \\\ncount          402.000000  31048.000000  31048.000000      31048.000000   \nmean           175.957711      0.966890      0.726424          0.066832   \nstd             25.971799      0.178927      0.740542          0.249735   \nmin             53.000000      0.000000      0.000000          0.000000   \n25%            180.000000      1.000000      0.000000          0.000000   \n50%            180.000000      1.000000      1.000000          0.000000   \n75%            188.000000      1.000000      1.000000          0.000000   \nmax            246.000000      1.000000      9.000000          1.000000   \n\n              color  motor_power  battery_capacity  energy_type  displacement  \\\ncount  31048.000000   400.000000        400.000000      31048.0  30645.000000   \nmean       0.183104   261.840000         38.580000          2.0      2.246958   \nstd        0.386758    79.913766          5.059406          0.0      0.567204   \nmin        0.000000    60.000000          8.000000          2.0      0.000000   \n25%        0.000000   240.000000         40.000000          2.0      1.960000   \n50%        0.000000   245.000000         40.000000          2.0      2.100000   \n75%        0.000000   245.000000         40.000000          2.0      2.800000   \nmax        1.000000   510.000000         44.000000          2.0     19.600000   \n\n               keys     price_log  rate_residual       num_day  newness_rate  \\\ncount  31048.000000  31048.000000   31048.000000  31048.000000  31048.000000   \nmean       1.384437      3.086424       0.685401    706.624549      0.870936   \nstd        0.487528      0.528739       0.114260    422.839933      0.077231   \nmin        1.000000      1.543298       0.119544      7.000000      0.187032   \n25%        1.000000      2.699346       0.616596    464.000000      0.837443   \n50%        1.000000      3.021400       0.685670    676.000000      0.876530   \n75%        2.000000      3.480009       0.758415    890.000000      0.915251   \nmax        3.000000      5.254209       1.615894   4451.000000      0.998721   \n\n       mile_per_day  \ncount  31048.000000  \nmean       0.003764  \nstd        0.003382  \nmin        0.000000  \n25%        0.002219  \n50%        0.003417  \n75%        0.004882  \nmax        0.185714  ",
      "text/html": "<div>\n<style scoped>\n    .dataframe tbody tr th:only-of-type {\n        vertical-align: middle;\n    }\n\n    .dataframe tbody tr th {\n        vertical-align: top;\n    }\n\n    .dataframe thead th {\n        text-align: right;\n    }\n</style>\n<table border=\"1\" class=\"dataframe\">\n  <thead>\n    <tr style=\"text-align: right;\">\n      <th></th>\n      <th>Unnamed: 0</th>\n      <th>price</th>\n      <th>price_new</th>\n      <th>mileage</th>\n      <th>official_endurance</th>\n      <th>gearbox</th>\n      <th>num_trans</th>\n      <th>license_location</th>\n      <th>color</th>\n      <th>motor_power</th>\n      <th>battery_capacity</th>\n      <th>energy_type</th>\n      <th>displacement</th>\n      <th>keys</th>\n      <th>price_log</th>\n      <th>rate_residual</th>\n      <th>num_day</th>\n      <th>newness_rate</th>\n      <th>mile_per_day</th>\n    </tr>\n  </thead>\n  <tbody>\n    <tr>\n      <th>count</th>\n      <td>31048.000000</td>\n      <td>31048.000000</td>\n      <td>31048.000000</td>\n      <td>31048.000000</td>\n      <td>402.000000</td>\n      <td>31048.000000</td>\n      <td>31048.000000</td>\n      <td>31048.000000</td>\n      <td>31048.000000</td>\n      <td>400.000000</td>\n      <td>400.000000</td>\n      <td>31048.0</td>\n      <td>30645.000000</td>\n      <td>31048.000000</td>\n      <td>31048.000000</td>\n      <td>31048.000000</td>\n      <td>31048.000000</td>\n      <td>31048.000000</td>\n      <td>31048.000000</td>\n    </tr>\n    <tr>\n      <th>mean</th>\n      <td>10473.337091</td>\n      <td>16.961977</td>\n      <td>24.442505</td>\n      <td>2.731015</td>\n      <td>175.957711</td>\n      <td>0.966890</td>\n      <td>0.726424</td>\n      <td>0.066832</td>\n      <td>0.183104</td>\n      <td>261.840000</td>\n      <td>38.580000</td>\n      <td>2.0</td>\n      <td>2.246958</td>\n      <td>1.384437</td>\n      <td>3.086424</td>\n      <td>0.685401</td>\n      <td>706.624549</td>\n      <td>0.870936</td>\n      <td>0.003764</td>\n    </tr>\n    <tr>\n      <th>std</th>\n      <td>6758.440299</td>\n      <td>12.095157</td>\n      <td>16.020433</td>\n      <td>2.187033</td>\n      <td>25.971799</td>\n      <td>0.178927</td>\n      <td>0.740542</td>\n      <td>0.249735</td>\n      <td>0.386758</td>\n      <td>79.913766</td>\n      <td>5.059406</td>\n      <td>0.0</td>\n      <td>0.567204</td>\n      <td>0.487528</td>\n      <td>0.528739</td>\n      <td>0.114260</td>\n      <td>422.839933</td>\n      <td>0.077231</td>\n      <td>0.003382</td>\n    </tr>\n    <tr>\n      <th>min</th>\n      <td>0.000000</td>\n      <td>2.030000</td>\n      <td>3.680000</td>\n      <td>0.000000</td>\n      <td>53.000000</td>\n      <td>0.000000</td>\n      <td>0.000000</td>\n      <td>0.000000</td>\n      <td>0.000000</td>\n      <td>60.000000</td>\n      <td>8.000000</td>\n      <td>2.0</td>\n      <td>0.000000</td>\n      <td>1.000000</td>\n      <td>1.543298</td>\n      <td>0.119544</td>\n      <td>7.000000</td>\n      <td>0.187032</td>\n      <td>0.000000</td>\n    </tr>\n    <tr>\n      <th>25%</th>\n      <td>5081.000000</td>\n      <td>9.000000</td>\n      <td>13.870000</td>\n      <td>1.200000</td>\n      <td>180.000000</td>\n      <td>1.000000</td>\n      <td>0.000000</td>\n      <td>0.000000</td>\n      <td>0.000000</td>\n      <td>240.000000</td>\n      <td>40.000000</td>\n      <td>2.0</td>\n      <td>1.960000</td>\n      <td>1.000000</td>\n      <td>2.699346</td>\n      <td>0.616596</td>\n      <td>464.000000</td>\n      <td>0.837443</td>\n      <td>0.002219</td>\n    </tr>\n    <tr>\n      <th>50%</th>\n      <td>10095.000000</td>\n      <td>12.980000</td>\n      <td>19.520000</td>\n      <td>2.300000</td>\n      <td>180.000000</td>\n      <td>1.000000</td>\n      <td>1.000000</td>\n      <td>0.000000</td>\n      <td>0.000000</td>\n      <td>245.000000</td>\n      <td>40.000000</td>\n      <td>2.0</td>\n      <td>2.100000</td>\n      <td>1.000000</td>\n      <td>3.021400</td>\n      <td>0.685670</td>\n      <td>676.000000</td>\n      <td>0.876530</td>\n      <td>0.003417</td>\n    </tr>\n    <tr>\n      <th>75%</th>\n      <td>15154.250000</td>\n      <td>21.160000</td>\n      <td>31.460000</td>\n      <td>3.700000</td>\n      <td>188.000000</td>\n      <td>1.000000</td>\n      <td>1.000000</td>\n      <td>0.000000</td>\n      <td>0.000000</td>\n      <td>245.000000</td>\n      <td>40.000000</td>\n      <td>2.0</td>\n      <td>2.800000</td>\n      <td>2.000000</td>\n      <td>3.480009</td>\n      <td>0.758415</td>\n      <td>890.000000</td>\n      <td>0.915251</td>\n      <td>0.004882</td>\n    </tr>\n    <tr>\n      <th>max</th>\n      <td>39211.000000</td>\n      <td>99.850000</td>\n      <td>190.370000</td>\n      <td>18.500000</td>\n      <td>246.000000</td>\n      <td>1.000000</td>\n      <td>9.000000</td>\n      <td>1.000000</td>\n      <td>1.000000</td>\n      <td>510.000000</td>\n      <td>44.000000</td>\n      <td>2.0</td>\n      <td>19.600000</td>\n      <td>3.000000</td>\n      <td>5.254209</td>\n      <td>1.615894</td>\n      <td>4451.000000</td>\n      <td>0.998721</td>\n      <td>0.185714</td>\n    </tr>\n  </tbody>\n</table>\n</div>"
     },
     "execution_count": 336,
     "metadata": {},
     "output_type": "execute_result"
    }
   ],
   "source": [
    "df_mixed_all.describe()"
   ],
   "metadata": {
    "collapsed": false,
    "pycharm": {
     "name": "#%%\n"
    }
   }
  },
  {
   "cell_type": "markdown",
   "source": [],
   "metadata": {
    "collapsed": false,
    "pycharm": {
     "name": "#%% md\n"
    }
   }
  },
  {
   "cell_type": "code",
   "execution_count": 337,
   "id": "2f381d7a",
   "metadata": {
    "pycharm": {
     "name": "#%%\n"
    }
   },
   "outputs": [],
   "source": [
    "# 写文件\n",
    "def write_xlsx(df,path, sheetName):\n",
    "    writer = pd.ExcelWriter(path, engine='openpyxl',mode='a', if_sheet_exists=\"overlay\")\n",
    "    df.to_excel(writer, sheet_name=sheetName)\n",
    "    writer.close()\n",
    "# 写入同一个文件三张表\n",
    "path = '../data/cleaneddata/cleaned_car_all.xlsx'\n",
    "pd.DataFrame().to_excel(path,sheet_name='total') # 先创建文件\n",
    "write_xlsx(df_petrol_all,path,'petrol')\n",
    "write_xlsx(df_electric_all, path,'electric')\n",
    "write_xlsx(df_mixed_all,path,'mixed')"
   ]
  },
  {
   "cell_type": "code",
   "execution_count": null,
   "outputs": [],
   "source": [],
   "metadata": {
    "collapsed": false,
    "pycharm": {
     "name": "#%%\n"
    }
   }
  }
 ],
 "metadata": {
  "kernelspec": {
   "display_name": "Python 3.8.13 ('base')",
   "language": "python",
   "name": "python3"
  },
  "language_info": {
   "codemirror_mode": {
    "name": "ipython",
    "version": 3
   },
   "file_extension": ".py",
   "mimetype": "text/x-python",
   "name": "python",
   "nbconvert_exporter": "python",
   "pygments_lexer": "ipython3",
   "version": "3.8.13"
  },
  "vscode": {
   "interpreter": {
    "hash": "cf1ee66cb0a5dbbe9b15b35d8b5ef163dfe6de55254de5ac3d70cf481ad0a057"
   }
  }
 },
 "nbformat": 4,
 "nbformat_minor": 5
}