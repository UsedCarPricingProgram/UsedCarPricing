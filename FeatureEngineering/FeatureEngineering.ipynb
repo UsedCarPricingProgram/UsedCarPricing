{
 "cells": [
  {
   "cell_type": "code",
   "execution_count": 139,
   "metadata": {},
   "outputs": [],
   "source": [
    "#导入相关包\n",
    "import pandas as pd\n",
    "import numpy as np\n",
    "from datetime import datetime"
   ]
  },
  {
   "cell_type": "code",
   "execution_count": null,
   "metadata": {},
   "outputs": [],
   "source": [
    "#保值率计算函数\n",
    "def rate_residual(df):\n",
    "    df['rate_residual'] = df['price']/df['price_new']\n",
    "    return(df)"
   ]
  },
  {
   "cell_type": "code",
   "execution_count": 5,
   "metadata": {},
   "outputs": [],
   "source": [
    "#新车价格对数化函数\n",
    "def price_log(df):\n",
    "    df['price_log'] = df['price_new'].apply(np.log1p)\n",
    "    return(df)"
   ]
  },
  {
   "cell_type": "code",
   "execution_count": null,
   "metadata": {},
   "outputs": [],
   "source": [
    "#车龄计算函数\n",
    "def num_day(df):\n",
    "    now=datetime(2022,11,11)\n",
    "    df['date_regi']=df['date_regi'].apply(lambda x: datetime.strptime(x, '%Y-%m'))\n",
    "    df['num_day']=df['date_regi'].apply(lambda x: now-x)\n",
    "    df['num_day']=df['num_day'].apply(lambda x: x.days)\n",
    "    return(df)"
   ]
  },
  {
   "cell_type": "code",
   "execution_count": 145,
   "metadata": {},
   "outputs": [],
   "source": [
    "#里程车龄偏差率计算函数\n",
    "##从多元线性回归模型可以看出车龄对预测保值率的贡献远大于里程，猜想是因为里程表读数容易被篡改\n",
    "##自然可以联想到，车龄和里程数有较强的正相关关系，如果某一辆车这两者相差过大，我们怀疑有造假的可能，其价格可能会偏低\n",
    "###方法一：构造简单线性回归，用车龄预测里程数，看偏差比率\n",
    "def mile_diff(df):\n",
    "    model = LinearRegression()\n",
    "\n",
    "    x = df[['num_day']]\n",
    "    y = df[['mileage']]\n",
    "\n",
    "    model.fit(x,y)\n",
    "\n",
    "    df['predict_mileage'] = model.predict(df[['num_day']])\n",
    "    df['mile_diff'] = df['predict_mileage'] - df['mileage'] \n",
    "    df['mile_diff'] = 2*df['mile_diff'] / (df['predict_mileage'] + df['mileage'])\n",
    "    return(df)\n",
    "    \n",
    "###方法二：用里程数除以车龄，得到每天行驶里程\n",
    "def mileperday(df):\n",
    "    df['mileperday'] = df['mileage'] / df['num_day']\n",
    "    return(df)"
   ]
  },
  {
   "cell_type": "code",
   "execution_count": 143,
   "metadata": {},
   "outputs": [],
   "source": [
    "#品牌占比计算函数，代表该车的市场保有量\n",
    "def brand_ratio(df):\n",
    "    df['brand_ratio'] = df['brand'].apply(lambda x: df['brand'].value_counts()[x]/32018)\n",
    "    return(df)"
   ]
  },
  {
   "cell_type": "code",
   "execution_count": 144,
   "metadata": {},
   "outputs": [],
   "source": [
    "#标题长度计算函数\n",
    "def len_title(df):\n",
    "    df['len_title'] = df['title'].apply(lambda x: len(x))"
   ]
  }
 ],
 "metadata": {
  "kernelspec": {
   "display_name": "base",
   "language": "python",
   "name": "python3"
  },
  "language_info": {
   "codemirror_mode": {
    "name": "ipython",
    "version": 3
   },
   "file_extension": ".py",
   "mimetype": "text/x-python",
   "name": "python",
   "nbconvert_exporter": "python",
   "pygments_lexer": "ipython3",
   "version": "3.8.13 (default, Mar 28 2022, 06:16:26) \n[Clang 12.0.0 ]"
  },
  "toc": {
   "base_numbering": 1,
   "nav_menu": {},
   "number_sections": true,
   "sideBar": true,
   "skip_h1_title": false,
   "title_cell": "Table of Contents",
   "title_sidebar": "Contents",
   "toc_cell": false,
   "toc_position": {},
   "toc_section_display": true,
   "toc_window_display": false
  },
  "vscode": {
   "interpreter": {
    "hash": "cf1ee66cb0a5dbbe9b15b35d8b5ef163dfe6de55254de5ac3d70cf481ad0a057"
   }
  }
 },
 "nbformat": 4,
 "nbformat_minor": 4
}
